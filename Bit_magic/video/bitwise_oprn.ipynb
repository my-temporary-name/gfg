{
 "cells": [
  {
   "cell_type": "markdown",
   "metadata": {},
   "source": [
    "Use bin() to convert to binary"
   ]
  },
  {
   "cell_type": "code",
   "execution_count": 7,
   "metadata": {},
   "outputs": [
    {
     "name": "stdout",
     "output_type": "stream",
     "text": [
      "0b10010\n"
     ]
    }
   ],
   "source": [
    "print(bin(18))"
   ]
  },
  {
   "cell_type": "code",
   "execution_count": 2,
   "metadata": {},
   "outputs": [
    {
     "name": "stdout",
     "output_type": "stream",
     "text": [
      "0b11\n"
     ]
    }
   ],
   "source": [
    "print(bin(3))"
   ]
  },
  {
   "cell_type": "markdown",
   "metadata": {},
   "source": [
    "To convert to int use int(representation, base)"
   ]
  },
  {
   "cell_type": "code",
   "execution_count": 4,
   "metadata": {},
   "outputs": [
    {
     "name": "stdout",
     "output_type": "stream",
     "text": [
      "18\n"
     ]
    }
   ],
   "source": [
    "print( int(\"0b10010\",2 ))"
   ]
  },
  {
   "cell_type": "code",
   "execution_count": 5,
   "metadata": {},
   "outputs": [
    {
     "name": "stdout",
     "output_type": "stream",
     "text": [
      "18\n"
     ]
    }
   ],
   "source": [
    "print( int(\"10010\",2 ))"
   ]
  },
  {
   "cell_type": "markdown",
   "metadata": {},
   "source": [
    "Bitwise And: &"
   ]
  },
  {
   "cell_type": "code",
   "execution_count": 8,
   "metadata": {},
   "outputs": [
    {
     "name": "stdout",
     "output_type": "stream",
     "text": [
      "2\n"
     ]
    }
   ],
   "source": [
    "# 6 & 3 = 2 i.e 110 & 011 = 010\n",
    "print(6 & 3)"
   ]
  },
  {
   "cell_type": "markdown",
   "metadata": {},
   "source": [
    "Bitwise Or: |"
   ]
  },
  {
   "cell_type": "code",
   "execution_count": 9,
   "metadata": {},
   "outputs": [
    {
     "name": "stdout",
     "output_type": "stream",
     "text": [
      "7\n"
     ]
    }
   ],
   "source": [
    "# 6|3 = 7 i.e 110 | 011 = 111\n",
    "print(6 | 3)"
   ]
  },
  {
   "cell_type": "markdown",
   "metadata": {},
   "source": [
    "Bitwise XOR: ^"
   ]
  },
  {
   "cell_type": "code",
   "execution_count": 10,
   "metadata": {},
   "outputs": [
    {
     "name": "stdout",
     "output_type": "stream",
     "text": [
      "5\n"
     ]
    }
   ],
   "source": [
    "# 6 ^ 3 =5 i.e 110 ^ 011 = 101 , if both bits are different then only 1 else 0\n",
    "print (6 ^3)"
   ]
  },
  {
   "cell_type": "markdown",
   "metadata": {},
   "source": [
    "Bitwise Leftshift: <<"
   ]
  },
  {
   "cell_type": "code",
   "execution_count": 11,
   "metadata": {},
   "outputs": [
    {
     "name": "stdout",
     "output_type": "stream",
     "text": [
      "10\n"
     ]
    }
   ],
   "source": [
    "# 5 << 1 = 10 i.e 101 << 1 = 1010\n",
    "# 5 << 2 = 20 i.e 101 << 2 = 10100\n",
    "print(5 << 1)"
   ]
  },
  {
   "cell_type": "markdown",
   "metadata": {},
   "source": [
    "Bitwise Rightshift: >>"
   ]
  },
  {
   "cell_type": "code",
   "execution_count": 12,
   "metadata": {},
   "outputs": [
    {
     "name": "stdout",
     "output_type": "stream",
     "text": [
      "2\n"
     ]
    }
   ],
   "source": [
    "# 5 >> 1 = 2 i.e 101 >> 1 = 10\n",
    "# 5 >> 2 = 1 i.e 101 >> 2 = 1\n",
    "print(5 >> 1)"
   ]
  },
  {
   "cell_type": "markdown",
   "metadata": {},
   "source": [
    "Bitwise Not: ~\n",
    "\n",
    "*Our first bit is getting converted from 0 to 1 making positive number to negative number*"
   ]
  },
  {
   "cell_type": "code",
   "execution_count": 14,
   "metadata": {},
   "outputs": [
    {
     "name": "stdout",
     "output_type": "stream",
     "text": [
      "-6 5\n"
     ]
    }
   ],
   "source": [
    "# ~5 = -6 i.e ~101 = -110 . 6 = 00...00110 , 1's complement = 11...1001 , 2's complement = 11...1010 = -6\n",
    "print(~5, ~-6)"
   ]
  },
  {
   "cell_type": "code",
   "execution_count": 16,
   "metadata": {},
   "outputs": [
    {
     "name": "stdout",
     "output_type": "stream",
     "text": [
      "[(0, 0), (1, 1), (2, 1), (4, 1), (8, 1), (3, 2), (5, 2), (6, 2), (7, 3)]\n",
      "[(1024, 1), (512, 1), (256, 1), (128, 1), (64, 1), (32, 1), (16, 1), (8, 1), (4, 1), (2, 1), (1, 1)]\n"
     ]
    }
   ],
   "source": [
    "from typing import List\n",
    "def sortByBits(arr: List[int]) -> List[int]:\n",
    "    res=dict()\n",
    "    for i in arr:\n",
    "        j=i\n",
    "        x=0\n",
    "        while i:\n",
    "            x+=i&1\n",
    "            i=i//2\n",
    "        res[j]=x\n",
    "    n_res=[]\n",
    "\n",
    "    for i in sorted(res.items(), key=lambda item:item[1]):\n",
    "        n_res.append(i)\n",
    "    return n_res\n",
    "\n",
    "print(sortByBits([0,1,2,3,4,5,6,7,8]))\n",
    "print(sortByBits([1024,512,256,128,64,32,16,8,4,2,1]))"
   ]
  },
  {
   "cell_type": "code",
   "execution_count": null,
   "metadata": {},
   "outputs": [],
   "source": []
  }
 ],
 "metadata": {
  "kernelspec": {
   "display_name": "env1_38",
   "language": "python",
   "name": "python3"
  },
  "language_info": {
   "codemirror_mode": {
    "name": "ipython",
    "version": 3
   },
   "file_extension": ".py",
   "mimetype": "text/x-python",
   "name": "python",
   "nbconvert_exporter": "python",
   "pygments_lexer": "ipython3",
   "version": "3.8.19"
  }
 },
 "nbformat": 4,
 "nbformat_minor": 2
}
