{
 "cells": [
  {
   "cell_type": "code",
   "execution_count": 1,
   "metadata": {},
   "outputs": [],
   "source": [
    "def nextGreat(arr):\n",
    "    n = len(arr)\n",
    "    stack =[]\n",
    "    res = [None]*n\n",
    "\n",
    "    for i in range(n-1,-1,-1):\n",
    "        while stack and stack[-1]<=arr[i]:\n",
    "            stack.pop()\n",
    "        res[i] = -1 if not stack else stack[-1]\n",
    "        stack.append(arr[i])\n",
    "    \n",
    "    return res\n"
   ]
  },
  {
   "cell_type": "code",
   "execution_count": 2,
   "metadata": {},
   "outputs": [
    {
     "data": {
      "text/plain": [
       "[18, 18, -1, -1, 6, 8, 8, -1]"
      ]
     },
     "execution_count": 2,
     "metadata": {},
     "output_type": "execute_result"
    }
   ],
   "source": [
    "arr = [15, 10, 18, 12, 4, 6, 2, 8]\n",
    "nextGreat(arr)"
   ]
  },
  {
   "cell_type": "code",
   "execution_count": 3,
   "metadata": {},
   "outputs": [],
   "source": [
    "def prevGreat(arr):\n",
    "    n = len(arr)\n",
    "    stack =[]\n",
    "    res = [None]*n\n",
    "\n",
    "    for i in range(n):\n",
    "        while stack and stack[-1]<=arr[i]:\n",
    "            stack.pop()\n",
    "        res[i] = -1 if not stack else stack[-1]\n",
    "        stack.append(arr[i])\n",
    "    \n",
    "    return res"
   ]
  },
  {
   "cell_type": "code",
   "execution_count": 4,
   "metadata": {},
   "outputs": [
    {
     "data": {
      "text/plain": [
       "[-1, 15, -1, 18, 12, 12, 6, 12]"
      ]
     },
     "execution_count": 4,
     "metadata": {},
     "output_type": "execute_result"
    }
   ],
   "source": [
    "arr = [15, 10, 18, 12, 4, 6, 2, 8]\n",
    "prevGreat(arr)"
   ]
  },
  {
   "cell_type": "code",
   "execution_count": 5,
   "metadata": {},
   "outputs": [],
   "source": [
    "def nextSmaller(arr):\n",
    "    n = len(arr)\n",
    "    stack = []\n",
    "    res = [None] * n\n",
    "\n",
    "    for i in range(n-1, -1, -1):\n",
    "        while stack and stack[-1] >= arr[i]:\n",
    "            stack.pop()\n",
    "        res[i] = -1 if not stack else stack[-1]\n",
    "        stack.append(arr[i])\n",
    "\n",
    "    return res\n"
   ]
  },
  {
   "cell_type": "code",
   "execution_count": 6,
   "metadata": {},
   "outputs": [
    {
     "data": {
      "text/plain": [
       "[10, 4, 12, 4, 2, 2, -1, -1]"
      ]
     },
     "execution_count": 6,
     "metadata": {},
     "output_type": "execute_result"
    }
   ],
   "source": [
    "arr = [15, 10, 18, 12, 4, 6, 2, 8]\n",
    "nextSmaller(arr)"
   ]
  },
  {
   "cell_type": "code",
   "execution_count": 7,
   "metadata": {},
   "outputs": [],
   "source": [
    "def prevSmaller(arr):\n",
    "    n = len(arr)\n",
    "    stack = []\n",
    "    res = [None]*n\n",
    "\n",
    "    for i in range(n):\n",
    "        while stack and stack[-1]>=arr[i]:\n",
    "            stack.pop()\n",
    "        res[i] = -1 if not stack else stack[-1]\n",
    "        stack.append(arr[i])\n",
    "    return res"
   ]
  },
  {
   "cell_type": "code",
   "execution_count": 8,
   "metadata": {},
   "outputs": [
    {
     "data": {
      "text/plain": [
       "[-1, -1, 10, 10, -1, 4, -1, 2]"
      ]
     },
     "execution_count": 8,
     "metadata": {},
     "output_type": "execute_result"
    }
   ],
   "source": [
    "arr = [15, 10, 18, 12, 4, 6, 2, 8]\n",
    "prevSmaller(arr)"
   ]
  },
  {
   "cell_type": "code",
   "execution_count": null,
   "metadata": {},
   "outputs": [],
   "source": []
  }
 ],
 "metadata": {
  "kernelspec": {
   "display_name": "env1_38",
   "language": "python",
   "name": "python3"
  },
  "language_info": {
   "codemirror_mode": {
    "name": "ipython",
    "version": 3
   },
   "file_extension": ".py",
   "mimetype": "text/x-python",
   "name": "python",
   "nbconvert_exporter": "python",
   "pygments_lexer": "ipython3",
   "version": "3.8.0"
  }
 },
 "nbformat": 4,
 "nbformat_minor": 2
}
