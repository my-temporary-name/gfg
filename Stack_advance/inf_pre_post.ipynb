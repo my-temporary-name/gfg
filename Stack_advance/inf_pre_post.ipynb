{
 "cells": [
  {
   "cell_type": "markdown",
   "metadata": {},
   "source": [
    "## Infix to Postfix"
   ]
  },
  {
   "cell_type": "code",
   "execution_count": null,
   "metadata": {},
   "outputs": [],
   "source": [
    "def InfixtoPostfix(self, exp):\n",
    "    #code here\n",
    "    operators = [\"+\",\"-\",\"*\",\"/\",\"^\",\"(\",\")\"]\n",
    "    precedence = {\"+\":1, \"-\":1, \"*\":2, \"/\":2, \"^\":3}\n",
    "    output=\"\"\n",
    "    stack = []\n",
    "    for i in exp:\n",
    "        if i not in operators:\n",
    "            output+=i\n",
    "        elif i==\"(\":\n",
    "            stack.append(i)\n",
    "        elif i==\")\":\n",
    "            while stack and stack[-1]!=\"(\":\n",
    "                output+=stack.pop()\n",
    "            stack.pop()\n",
    "        else:\n",
    "            while stack and stack[-1]!=\"(\" and precedence[i]<=precedence[stack[-1]]:\n",
    "                output+=stack.pop()\n",
    "            stack.append(i)\n",
    "    \n",
    "    while stack:\n",
    "        output+=stack.pop()\n",
    "    return output"
   ]
  },
  {
   "cell_type": "markdown",
   "metadata": {},
   "source": [
    "## Infix to Prefix"
   ]
  },
  {
   "cell_type": "markdown",
   "metadata": {},
   "source": [
    "def InfixToPostfix(exp):\n",
    "    operators = [\"+\",\"-\",\"*\",\"/\",\"^\",\"(\",\")\"]\n",
    "    precedence = {\"+\":1, \"-\":1, \"*\":2, \"/\":2, \"^\":3}\n",
    "    output=\"\"\n",
    "    stack = []\n",
    "    for i in exp:\n",
    "        if i not in operators:\n",
    "            output+=i\n",
    "        elif i==\"(\":\n",
    "            stack.append(i)\n",
    "        elif i==\")\":\n",
    "            while stack and stack[-1]!=\"(\":\n",
    "                output+=stack.pop()\n",
    "            stack.pop()\n",
    "        else:\n",
    "            if i==\"^\":\n",
    "                while stack and stack[-1]!=\"(\" and precedence[i]<=precedence[stack[-1]]:\n",
    "                    output+=stack.pop()\n",
    "                    # stack.append(i)\n",
    "            else:\n",
    "                while stack and stack[-1]!=\"(\" and precedence[i]<precedence[stack[-1]]:\n",
    "                    output+=stack.pop()\n",
    "            stack.append(i)\n",
    "    \n",
    "    while stack:\n",
    "        output+=stack.pop()\n",
    "    print(output)\n",
    "    return output\n",
    "\n",
    "\n",
    "# Function to convert infix expression to prefix\n",
    "def infixToPrefix(expression):\n",
    "\tlength = len(expression)\n",
    "\treversed_expression = expression[::-1]\n",
    "\n",
    "\n",
    "\tfor i in range(length):\n",
    "\t\tif reversed_expression[i] == '(':\n",
    "\t\t\treversed_expression[i] = ')'\n",
    "\t\telif reversed_expression[i] == ')':\n",
    "\t\t\treversed_expression[i] = '('\n",
    "\n",
    "\n",
    "\tprefix = InfixToPostfix(reversed_expression)\n",
    "\tprefix = prefix[::-1]\n",
    "\treturn prefix\n",
    "\n",
    "\n",
    "# Driver code\n",
    "if __name__ == '__main__':\n",
    "\texpression = \"x+y*z/w+u\"\n",
    "\tprint(infixToPrefix(expression))\n"
   ]
  },
  {
   "cell_type": "markdown",
   "metadata": {},
   "source": [
    "## Prefix to Infix"
   ]
  },
  {
   "cell_type": "markdown",
   "metadata": {},
   "source": [
    "def preToInfix(self, pre_exp):\n",
    "    # Code here\n",
    "    stack =[]\n",
    "    for ch in range(len(pre_exp)-1, -1, -1):\n",
    "        if pre_exp[ch].isalpha():\n",
    "            stack.append(pre_exp[ch])\n",
    "        else:\n",
    "            x = stack.pop()\n",
    "            y = stack.pop()\n",
    "            exp = \"(\"+x+pre_exp[ch]+y+\")\"\n",
    "            stack.append(exp)\n",
    "    return stack[0]"
   ]
  },
  {
   "cell_type": "markdown",
   "metadata": {},
   "source": [
    "## Postfix to Infix"
   ]
  },
  {
   "cell_type": "markdown",
   "metadata": {},
   "source": [
    "def postToInfix(self, postfix):\n",
    "    # Code here\n",
    "    stack = []\n",
    "    for ch in postfix:\n",
    "        if ch.isalpha():\n",
    "            stack.append(ch)\n",
    "        else:\n",
    "            x = stack.pop()\n",
    "            y = stack.pop()\n",
    "            exp = \"(\"+y+ch+x+\")\"\n",
    "            stack.append(exp)\n",
    "    \n",
    "    return stack[0]"
   ]
  },
  {
   "cell_type": "markdown",
   "metadata": {},
   "source": [
    "## Prefix to Postfix"
   ]
  },
  {
   "cell_type": "code",
   "execution_count": null,
   "metadata": {},
   "outputs": [],
   "source": [
    "def preToPost(self, s):\n",
    "    # Code here\n",
    "    stack =[]\n",
    "    # exp = pre_exp[::-1]\n",
    "    # print(exp)\n",
    "    operators = ['+', '-', '*', '/', '^']\n",
    "    \n",
    "    s = s[::-1]\n",
    "        \n",
    "    # iterating through individual tokens\n",
    "    for i in s:\n",
    "        \n",
    "        # if token is operator\n",
    "        if i in operators:\n",
    "        \n",
    "            # pop 2 elements from stack\n",
    "            a = stack.pop()\n",
    "            b = stack.pop()\n",
    "        \n",
    "            # concatenate them as operand1 +\n",
    "            # operand2 + operator\n",
    "            temp = a+b+i\n",
    "            stack.append(temp)\n",
    "        \n",
    "        # else if operand\n",
    "        else:\n",
    "            stack.append(i)\n",
    "    return stack.pop()\n",
    "    "
   ]
  },
  {
   "cell_type": "markdown",
   "metadata": {},
   "source": [
    "## Postfix to Prefix"
   ]
  },
  {
   "cell_type": "code",
   "execution_count": null,
   "metadata": {},
   "outputs": [],
   "source": [
    "def postToPre(self, post_exp):\n",
    "    # Code here\n",
    "    stack = []\n",
    "    operator = ['+', '-', '*', '/', '^']\n",
    "    \n",
    "    for i in post_exp:\n",
    "        if i in operator:\n",
    "            x = stack.pop()\n",
    "            y = stack.pop()\n",
    "            exp = str(i+y+x)\n",
    "            stack.append(exp)\n",
    "        else:\n",
    "            stack.append(i)\n",
    "    return stack.pop()"
   ]
  }
 ],
 "metadata": {
  "language_info": {
   "name": "python"
  }
 },
 "nbformat": 4,
 "nbformat_minor": 2
}
