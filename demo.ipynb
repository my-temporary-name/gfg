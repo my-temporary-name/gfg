{
 "cells": [
  {
   "cell_type": "code",
   "execution_count": null,
   "metadata": {},
   "outputs": [],
   "source": [
    "from typing import List\n",
    "from collections import Counter, defaultdict"
   ]
  },
  {
   "cell_type": "code",
   "execution_count": null,
   "metadata": {},
   "outputs": [],
   "source": [
    "def romanToInt(s: str) -> int:\n",
    "    # mpp = {1: 'I', 5: 'V', 10: 'X', 50: 'L', 100: 'C', 500: 'D', 1000: 'M'}\n",
    "    mpp = {'I': 1, 'V': 5, 'X': 10, 'L': 50, 'C': 100, 'D': 500, 'M': 1000}\n",
    "    # print(f\"Map of Roman to Int: {mpp}\")\n",
    "    int_val = 0\n",
    "\n",
    "    for i in range(len(s)):\n",
    "        if i>0 and mpp[s[i]] > mpp[s[i-1]]:\n",
    "            int_val+= mpp[s[i]] - 2*mpp[s[i-1]]\n",
    "        else:\n",
    "            int_val += mpp[s[i]]\n",
    "\n",
    "    return int_val"
   ]
  },
  {
   "cell_type": "code",
   "execution_count": null,
   "metadata": {},
   "outputs": [],
   "source": [
    "s = \"MCMXCIV\"\n",
    "print(f\"String is {s}\\n\")\n",
    "romanToInt(s)"
   ]
  },
  {
   "cell_type": "code",
   "execution_count": null,
   "metadata": {},
   "outputs": [],
   "source": []
  },
  {
   "cell_type": "code",
   "execution_count": null,
   "metadata": {},
   "outputs": [],
   "source": [
    "\n",
    "class Node:\n",
    "    def __init__(self, data, next_node=None):\n",
    "        # Data stored in the node\n",
    "        self.data = data       \n",
    "        # Pointer to the next node in the list\n",
    "        self.next = next_node  \n",
    "\n",
    "# Function to delete the middle\n",
    "# node of a linked list\n",
    "def delete_middle(head):\n",
    "    \"\"\"\n",
    "    If the list is empty or has only one node,\n",
    "    return None as there is no middle node to delete\n",
    "    \"\"\"\n",
    "    if not head or not head.next:\n",
    "        return None\n",
    "    \n",
    "    slow = fast = head\n",
    "    # fast = fast.next\n",
    "    while fast and fast.next:\n",
    "        slow = slow.next\n",
    "        fast = fast.next.next\n",
    "    \n",
    "    print(slow.data, fast.data)\n",
    "    slow.data = slow.next.data\n",
    "    slow.next = slow.next.next\n",
    "    return head\n",
    "    \n",
    "\n",
    "def print_linked_list(head):\n",
    "    temp = head\n",
    "    while temp:\n",
    "        print(temp.data, end=\" \")\n",
    "        temp = temp.next\n",
    "    print()\n",
    "\n",
    "# Creating a sample linked list\n",
    "head = Node(1)\n",
    "head.next = Node(2)\n",
    "head.next.next = Node(3)\n",
    "head.next.next.next = Node(4)\n",
    "head.next.next.next.next = Node(5)\n",
    "\n",
    "# Display the original linked list\n",
    "print(\"Original Linked List: \", end=\"\")\n",
    "print_linked_list(head)\n",
    "\n",
    "# Deleting the middle node\n",
    "head = delete_middle(head)\n",
    "\n",
    "# Displaying the updated linked list\n",
    "print(\"Updated Linked List: \", end=\"\")\n",
    "print_linked_list(head)"
   ]
  },
  {
   "cell_type": "code",
   "execution_count": null,
   "metadata": {},
   "outputs": [],
   "source": [
    "# Node class represents a\n",
    "# node in a linked list\n",
    "class Node:\n",
    "    def __init__(self, data1, next1=None):\n",
    "        # Data stored in the node\n",
    "        self.data = data1\n",
    "        \n",
    "        # Pointer to the next node in the list\n",
    "        self.next = next1\n",
    "\n",
    "\n",
    "# Function to perform merge sort on a linked list\n",
    "def sortLL(head):\n",
    "\n",
    "    \n",
    "\n",
    "\n",
    "\n",
    "    return\n",
    "\n",
    "\n",
    "# Function to print the linked list\n",
    "def printLinkedList(head):\n",
    "    temp = head\n",
    "    while temp is not None:\n",
    "        # Print the data of the current node\n",
    "        print(temp.data, end=\" \")\n",
    "        # Move to the next node\n",
    "        temp = temp.next\n",
    "    print()\n",
    "\n",
    "# Linked List: 3 2 5 4 1\n",
    "head = Node(3)\n",
    "head.next = Node(2)\n",
    "head.next.next = Node(5)\n",
    "head.next.next.next = Node(4)\n",
    "head.next.next.next.next = Node(1)\n",
    "\n",
    "print(\"Original Linked List: \", end=\"\")\n",
    "printLinkedList(head)\n",
    "\n",
    "# Sort the linked list\n",
    "head = sortLL(head)\n",
    "\n",
    "print(\"Sorted Linked List: \", end=\"\")\n",
    "printLinkedList(head)"
   ]
  },
  {
   "cell_type": "code",
   "execution_count": null,
   "metadata": {},
   "outputs": [],
   "source": [
    "from typing import List\n",
    "def luckyNumbers (matrix: List[List[int]]) -> List[int]:\n",
    "    n = len(matrix)\n",
    "    m = len(matrix[0])\n",
    "    \n",
    "    col = [0]*m\n",
    "\n",
    "    for i in range(n):\n",
    "        x = min(matrix[i])\n",
    "        idx = matrix[i].index(x)\n",
    "        if col[idx]!=0:\n",
    "            col[idx] = max(col[idx],x)\n",
    "        else:\n",
    "            col[idx] = x\n",
    "    \n",
    "    print(col)\n",
    "\n",
    "    lucy = []\n",
    "\n",
    "    for i in range(m):\n",
    "        if col[i]==0:\n",
    "            continue\n",
    "        maxi = col[i]\n",
    "        # print(maxi)\n",
    "        for j in range(n):\n",
    "            val = matrix[j][i]\n",
    "            maxi = max(val,maxi)\n",
    "        \n",
    "        # print(maxi)\n",
    "\n",
    "        if maxi==col[i]:\n",
    "            lucy.append(col[i])\n",
    "    \n",
    "    return lucy"
   ]
  },
  {
   "cell_type": "code",
   "execution_count": null,
   "metadata": {},
   "outputs": [],
   "source": [
    "# matrix = [[1,10,4,2],[9,3,8,7],[15,16,17,12]]\n",
    "matrix = [[3,7,8],[9,11,13],[15,16,17]]\n",
    "# matrix = [[7,8],[1,2]]\n",
    "luckyNumbers(matrix)"
   ]
  },
  {
   "cell_type": "code",
   "execution_count": null,
   "metadata": {},
   "outputs": [],
   "source": [
    "lst = [1, 2, 2, 1, 2, 0, 2, 2]\n",
    "n = len(lst)\n",
    "start = 0\n",
    "mid = 0\n",
    "end = n-1\n",
    "\n",
    "while mid<=end:\n",
    "    if lst[mid]==0:\n",
    "        lst[mid], lst[start] = lst[start] , lst[mid]\n",
    "        start+=1\n",
    "        mid+=1\n",
    "    elif lst[mid] == 1:\n",
    "        mid+=1\n",
    "    else:\n",
    "        lst[mid], lst[end] = lst[end], lst[mid]\n",
    "        end-=1\n",
    "\n",
    "print(lst)\n",
    "    "
   ]
  },
  {
   "cell_type": "code",
   "execution_count": null,
   "metadata": {},
   "outputs": [],
   "source": [
    "# Reverse a Linked list in group of given size k\n",
    "\n",
    "# I/P: 1->2->3->4->5->6->7->8->NULL and k = 3\n",
    "# O/P: 3->2->1->6->5->4->8->7->NULL\n",
    "\n",
    "class Node:\n",
    "    def __init__(self, k):\n",
    "        self.key = k\n",
    "        self.next = None\n",
    "\n",
    "def printList(head):\n",
    "    curr = head\n",
    "    while curr != None:\n",
    "        print(curr.key, end=\" \")\n",
    "        curr = curr.next\n",
    "    print()\n",
    "\n",
    "def iteRevK(head,k):\n",
    "    curr = head\n",
    "    prev_first = head\n",
    "    first_pass = True\n",
    "\n",
    "    while curr!=None:\n",
    "\n",
    "        first = None\n",
    "        prev = None\n",
    "        count = 0\n",
    "\n",
    "        while curr and count<k:\n",
    "            front = curr.next\n",
    "            curr.next = prev\n",
    "            prev = curr\n",
    "            curr = front\n",
    "            count+=1\n",
    "        \n",
    "        if first_pass:\n",
    "            print(f\"prev is {prev.key}\")\n",
    "            head = prev\n",
    "            first_pass = False\n",
    "        else:\n",
    "            print(f\"prev is {prev.key}\")\n",
    "            prev_first.next = prev\n",
    "            prev_first = first\n",
    "            print(f\"first is {first}.key\")    \n",
    "    return head\n",
    "    \n",
    "        \n",
    "\n",
    "head = Node(10)\n",
    "head.next = Node(20)\n",
    "head.next.next = Node(30)\n",
    "head.next.next.next = Node(40)\n",
    "head.next.next.next.next = Node(50)\n",
    "head.next.next.next.next.next = Node(60)\n",
    "head.next.next.next.next.next.next = Node(70)\n",
    "head.next.next.next.next.next.next.next = Node(80)\n",
    "\n",
    "\n",
    "printList(head)\n",
    "\n",
    "head = iteRevK(head,3)\n",
    "\n",
    "printList(head)\n",
    "\n",
    "# Time complexity: O(n) , Space complexity: O(1)"
   ]
  },
  {
   "cell_type": "code",
   "execution_count": null,
   "metadata": {},
   "outputs": [],
   "source": []
  },
  {
   "cell_type": "code",
   "execution_count": null,
   "metadata": {},
   "outputs": [],
   "source": [
    "def restoreMatrix(rowSum: List[int], colSum: List[int]) -> List[List[int]]:\n",
    "\n",
    "    n = len(rowSum)\n",
    "    m = len(colSum)\n",
    "\n",
    "    # create dummy matrix of 0 with n rows and m columns\n",
    "    dummy = [[0]*m for i in range(n)]\n",
    "    # print(dummy)\n",
    "\n",
    "    for i in range(n):\n",
    "        for j in range(m):\n",
    "            \n",
    "            x = min(rowSum[i], colSum[j])\n",
    "            # print(f\"i: {i}, j:{j}, row: {rowSum[i]}, col: {colSum[j]}, x: {x}\")\n",
    "            dummy[i][j] = x\n",
    "            rowSum[i] = rowSum[i]-x\n",
    "            colSum[j] = colSum[j]-x\n",
    "        # print(\"-\"*40)\n",
    "    \n",
    "    # for i in dummy:\n",
    "    #     print(i)\n",
    "\n",
    "\n",
    "    return dummy"
   ]
  },
  {
   "cell_type": "code",
   "execution_count": null,
   "metadata": {},
   "outputs": [],
   "source": [
    "rowSum = [5,7,10]\n",
    "colSum = [8,6,8]\n",
    "restoreMatrix(rowSum, colSum)"
   ]
  },
  {
   "cell_type": "code",
   "execution_count": null,
   "metadata": {},
   "outputs": [],
   "source": [
    "def minEatingSpeed(arr: List[int], h: int) -> int:\n",
    "    import math\n",
    "    # arr.sort(reverse= True)\n",
    "    # print(arr)\n",
    "    maxi = max(arr)\n",
    "\n",
    "    mini = float('inf')\n",
    "\n",
    "    for i in range(maxi+1,0,-1):\n",
    "        summ = 0\n",
    "        for j in range(len(arr)):\n",
    "            summ+= math.ceil(arr[j]/i)\n",
    "        \n",
    "        if summ<=h:\n",
    "            # mini = min(mini, i)\n",
    "            return i\n",
    "\n",
    "\n",
    "    \n",
    "\n",
    "    return mini"
   ]
  },
  {
   "cell_type": "code",
   "execution_count": null,
   "metadata": {},
   "outputs": [],
   "source": [
    "# piles = [312884470]\n",
    "# h = 312884469\n",
    "\n",
    "piles = [30,11,23,4,20]\n",
    "h = 7\n",
    "\n",
    "\n",
    "# piles = [3,6,7,11]\n",
    "# h = 8\n",
    "\n",
    "minEatingSpeed(piles , h)"
   ]
  },
  {
   "cell_type": "code",
   "execution_count": null,
   "metadata": {},
   "outputs": [],
   "source": [
    "\n",
    "def canWePlace(stalls, dist, cows):\n",
    "    n = len(stalls)  # size of array\n",
    "    cntCows = 1  # no. of cows placed\n",
    "    last = stalls[0]  # position of last placed cow\n",
    "    for i in range(1, n):\n",
    "        if stalls[i] - last >= dist:\n",
    "            cntCows += 1  # place next cow\n",
    "            last = stalls[i]  # update the last location\n",
    "        if cntCows >= cows:\n",
    "            return True\n",
    "    return False\n",
    "\n",
    "def aggressiveCows(stalls, k):\n",
    "    n = len(stalls)  # size of array\n",
    "    stalls.sort()  # sort the stalls[]\n",
    "    limit = stalls[n - 1] - stalls[0]\n",
    "    for i in range(1, limit + 1):\n",
    "        print(i)\n",
    "        x = canWePlace(stalls, i, k)\n",
    "        print(x)\n",
    "        if not x:\n",
    "            return i - 1\n",
    "    return limit\n",
    "\n",
    "stalls = [0, 3, 4, 7, 10, 9]\n",
    "k = 4\n",
    "ans = aggressiveCows(stalls, k)\n",
    "print(\"The maximum possible minimum distance is:\", ans)"
   ]
  },
  {
   "cell_type": "code",
   "execution_count": null,
   "metadata": {},
   "outputs": [],
   "source": [
    "def splitArray(nums: List[int],n: int, m: int) -> int:\n",
    "    \n",
    "\n",
    "    return"
   ]
  },
  {
   "cell_type": "code",
   "execution_count": null,
   "metadata": {},
   "outputs": [],
   "source": [
    "n = 5\n",
    "m = 4\n",
    "arr =  [25, 46, 28, 49, 24]\n",
    "splitArray(arr , n, m)"
   ]
  },
  {
   "cell_type": "code",
   "execution_count": null,
   "metadata": {},
   "outputs": [],
   "source": [
    "def buildMatrix(k: int, rowConditions: List[List[int]], colConditions: List[List[int]]) -> List[List[int]]:\n",
    "    \n",
    "    # Function to determine the topological order of elements based on given conditions\n",
    "    def order(conditions):\n",
    "        adj = [[] for _ in range(k + 1)]  # Adjacency list for the graph\n",
    "        deg = [0] * (k + 1)               # Degree of each node\n",
    "        # Our deg is of size k+1 because the nodes are 1-indexed\n",
    "        print()\n",
    "        print(f\"adjacency list: {adj}\")\n",
    "        print(f\"degree: {deg}\")\n",
    "\n",
    "        # Build the graph and compute the in-degrees\n",
    "        for u, v in conditions:\n",
    "            adj[u].append(v)\n",
    "            deg[v] += 1\n",
    "        print()\n",
    "        print(f\"adjacency list: {adj}\")\n",
    "        print(f\"degree: {deg}\")\n",
    "\n",
    "        # Initialize the list of nodes with no incoming edges (degree 0)\n",
    "        s = []\n",
    "        for u, d in enumerate(deg):\n",
    "            if u and d == 0:\n",
    "                s.append(u)\n",
    "        \n",
    "        # List to store the topological order\n",
    "        res = []\n",
    "        while s:\n",
    "            u = s.pop()\n",
    "            res.append(u)\n",
    "            for v in adj[u]:\n",
    "                deg[v] -= 1\n",
    "                if deg[v] == 0:\n",
    "                    s.append(v)\n",
    "\n",
    "        # If there are nodes with non-zero in-degrees, return an empty list (cycle detected)\n",
    "        if any(deg):\n",
    "            return []\n",
    "        return res\n",
    "\n",
    "    # Get the topological order for row conditions\n",
    "    row = order(rowConditions)\n",
    "    # Get the topological order for column conditions\n",
    "    print(\"*\"*40)\n",
    "    col = order(colConditions)\n",
    "    \n",
    "    # Create a dictionary to map each value to its column index\n",
    "    col = {x: i for i, x in enumerate(col)}\n",
    "    # Initialize the k x k result matrix with zeros\n",
    "    res = [[0] * k for _ in range(k)]\n",
    "    \n",
    "    # Place each element at its corresponding (row, column) position\n",
    "    for i, x in enumerate(row):\n",
    "        if x not in col:\n",
    "            break\n",
    "        j = col[x]\n",
    "        res[i][j] = x\n",
    "\n",
    "    # Check if any row is entirely zeros, indicating an invalid configuration\n",
    "    for r in res:\n",
    "        if not any(r):\n",
    "            return []\n",
    "    print(\"-\"*40)\n",
    "    # Return the constructed matrix\n",
    "    return res\n"
   ]
  },
  {
   "cell_type": "code",
   "execution_count": null,
   "metadata": {},
   "outputs": [],
   "source": [
    "k = 3\n",
    "rowConditions = [[1,2],[3,2]]\n",
    "colConditions = [[2,1],[3,2]]\n",
    "\n",
    "print(buildMatrix(k, rowConditions, colConditions))"
   ]
  },
  {
   "cell_type": "code",
   "execution_count": null,
   "metadata": {},
   "outputs": [],
   "source": [
    "def subarraysWithXorK(arr,k):\n",
    "    # cnt = 0\n",
    "\n",
    "    # for i in range(len(arr)):\n",
    "    #     xr = 0\n",
    "    #     for j in range(i,len(arr)):\n",
    "    #         xr = xr^arr[j]\n",
    "    #         if xr==k:\n",
    "    #             cnt+=1\n",
    "    \n",
    "    # return cnt\n",
    "\n",
    "    from collections import defaultdict\n",
    "    cnt = 0\n",
    "    mpp = defaultdict(int)\n",
    "    xr = 0\n",
    "    mpp[xr]=1\n",
    "    cnt = 0\n",
    "\n",
    "    for i in range(len(arr)):\n",
    "        xr = xr^arr[i]\n",
    "        x = xr^k\n",
    "        cnt += mpp[x]\n",
    "        mpp[xr] += 1\n",
    "    return cnt\n",
    "\n",
    "\n",
    "    \n",
    "\n",
    "if __name__ == \"__main__\":\n",
    "    a = [4, 2, 2, 6, 4]\n",
    "    k = 6\n",
    "    ans = subarraysWithXorK(a, k)\n",
    "    print(\"The number of subarrays with XOR k is:\", ans)"
   ]
  },
  {
   "cell_type": "code",
   "execution_count": null,
   "metadata": {},
   "outputs": [],
   "source": [
    "# arr = [1,2,3,4]\n",
    "arr = [1,2,3,4,5]\n",
    "\n",
    "n = len(arr)\n",
    "if len(arr)%2 == 0:\n",
    "    a = arr[(n//2)-1]\n",
    "    b = arr[(n//2)]\n",
    "    print((a+b)/2)\n",
    "else:\n",
    "    a = arr[(n//2)]\n",
    "    print(a)\n"
   ]
  },
  {
   "cell_type": "code",
   "execution_count": null,
   "metadata": {},
   "outputs": [],
   "source": [
    "def findPeakGrid( arr: List[List[int]]) -> List[int]:\n",
    "    n = len(arr)\n",
    "    m = len(arr[0])\n",
    "\n",
    "    for i in range(len(arr)):\n",
    "        arr[i].insert(0,-1)\n",
    "        arr[i].append(-1)\n",
    "    buff = [-1 for i in range(m+2)]\n",
    "    arr.insert(0,buff)\n",
    "    arr.append(buff) # final arr\n",
    "\n",
    "    for i in arr:\n",
    "        print(i)\n",
    "    print()\n",
    "    n = len(arr)\n",
    "    m = len(arr[0])\n",
    "    lst =[]\n",
    "    for i in range(1,n-1):\n",
    "        for j in range(1,m-1):\n",
    "            # print(arr[i][j], end = \" \")\n",
    "            x = arr[i][j]\n",
    "            if x>arr[i][j+1] and x>arr[i][j-1] and x>arr[i+1][j] and arr[i-1][j]:\n",
    "                # print(arr[i][j])\n",
    "                print(f\"x is {x}, up is {arr[i-1][j]}, down is {arr[i+1][j]}, left is {arr[i][j-1]}, right is {arr[i][j+1]}\")\n",
    "                return [i-1,j-1]\n",
    "                \n",
    "\n",
    "\n",
    "\n",
    "    return -1"
   ]
  },
  {
   "cell_type": "code",
   "execution_count": null,
   "metadata": {},
   "outputs": [],
   "source": [
    "mat = [[1,4],[3,2]]\n",
    "mat = [[10,20,15],[21,30,14],[7,16,32]]\n",
    "mat = [[10,30,40,50,20],[1,3,2,500,4]]\n",
    "findPeakGrid(mat)"
   ]
  },
  {
   "cell_type": "code",
   "execution_count": null,
   "metadata": {},
   "outputs": [],
   "source": [
    "def myAtoi(s):\n",
    "    # s = s.lstrip()\n",
    "    # # print(s)\n",
    "    # valid = [\"0\",\"1\",\"2\",\"3\",\"4\",\"5\",\"6\",\"7\",\"8\",\"9\"]\n",
    "    # ns= \"\"\n",
    "    # if s[0]==\"+\" or s[0]==\"-\" or s[0] in valid:\n",
    "    #         ns+=s[0]\n",
    "    # else:\n",
    "    #     return 0\n",
    "        \n",
    "\n",
    "    # for i in range(1,len(s)):\n",
    "    #     # print(i, s[i])     \n",
    "    #     if s[i] in valid:\n",
    "    #         ns+=s[i]\n",
    "    #     else:\n",
    "    #         break\n",
    "    # if ns in [\"-\", \"+\"]:\n",
    "    #     return \"\"\n",
    "    \n",
    "    # x = int(ns)\n",
    "\n",
    "    # if x>(2**31)-1:\n",
    "    #      return (2**31)-1\n",
    "    # elif x< -(2**31):\n",
    "    #      return (2**31) * -1\n",
    "    # else:\n",
    "    #     return int(x)\n",
    "    def atoi(s, num):\n",
    "        print(s)\n",
    "        if s.isalpha():\n",
    "            return 0\n",
    "        \n",
    "        if len(s)==0:\n",
    "            return 0\n",
    "        if len(s)==1:\n",
    "            return int(s) + num*10\n",
    "        \n",
    "        num = int(s[0]) + num*10\n",
    "        # print(num)\n",
    "\n",
    "        return atoi(s[1:], num)\n",
    "    if s[0]==\"+\" or s[0]==\"-\":\n",
    "        ns+=s[0]\n",
    "    \n",
    "    return atoi(s,0)"
   ]
  },
  {
   "cell_type": "code",
   "execution_count": null,
   "metadata": {},
   "outputs": [],
   "source": [
    "s = \" -042c0d3\"\n",
    "# s= \"--0\"\n",
    "# s=\"0-1\"\n",
    "# s= \"words and 987\"\n",
    "# s = \"-91283472332\"\n",
    "# s= \"42\"\n",
    "# s = \"21474836460\"\n",
    "myAtoi(s)"
   ]
  },
  {
   "cell_type": "code",
   "execution_count": null,
   "metadata": {},
   "outputs": [],
   "source": [
    "x = \"+00023\"\n",
    "# x=\"+0\"\n",
    "int(x)"
   ]
  },
  {
   "cell_type": "code",
   "execution_count": null,
   "metadata": {},
   "outputs": [],
   "source": [
    "print(2^31)"
   ]
  },
  {
   "cell_type": "code",
   "execution_count": null,
   "metadata": {},
   "outputs": [],
   "source": [
    "def myPow(x,n):\n",
    "    \n",
    "    if n>0:\n",
    "        pos(pow)\n",
    "\n",
    "    return"
   ]
  },
  {
   "cell_type": "code",
   "execution_count": null,
   "metadata": {},
   "outputs": [],
   "source": [
    "# x = 2.00000\n",
    "# n = 10\n",
    "\n",
    "# x = 2.10000\n",
    "# n = 3\n",
    "\n",
    "x = 2.00000\n",
    "n = -2\n",
    "myPow(x,n)"
   ]
  },
  {
   "cell_type": "code",
   "execution_count": null,
   "metadata": {},
   "outputs": [],
   "source": [
    "float(1)"
   ]
  },
  {
   "cell_type": "code",
   "execution_count": null,
   "metadata": {},
   "outputs": [],
   "source": [
    "lst = [[1], [2, 2], [3, 3]]\n",
    "lst.sort(reverse=True)"
   ]
  },
  {
   "cell_type": "code",
   "execution_count": null,
   "metadata": {},
   "outputs": [],
   "source": [
    "lst"
   ]
  },
  {
   "cell_type": "code",
   "execution_count": null,
   "metadata": {},
   "outputs": [],
   "source": [
    "from typing import List\n",
    "def frequencySort(nums: List[int]) -> List[int]:\n",
    "    nums.sort(reverse=True)\n",
    "    from collections import Counter\n",
    "    x = Counter(nums)\n",
    "    mpp = dict(sorted(x.items(),key=lambda x:x[1]))\n",
    "    print(x)\n",
    "    print(mpp)\n",
    "    lst = []\n",
    "\n",
    "    for i in mpp:\n",
    "        lst.extend([i]*mpp[i])\n",
    "    return lst"
   ]
  },
  {
   "cell_type": "code",
   "execution_count": null,
   "metadata": {},
   "outputs": [],
   "source": [
    "nums = [2,3,1,3,2]\n",
    "frequencySort(nums)"
   ]
  },
  {
   "cell_type": "code",
   "execution_count": null,
   "metadata": {},
   "outputs": [],
   "source": [
    "def gbs(n):\n",
    "    if n==0:\n",
    "        return []\n",
    "    if n==1:\n",
    "        return [\"0\", \"1\"]\n",
    "    result = []\n",
    "    for s in gbs(n-1):\n",
    "        result.append(s+\"0\")\n",
    "\n",
    "        if s[-1] != \"1\":\n",
    "            result.append(s+\"1\")\n",
    "    return result"
   ]
  },
  {
   "cell_type": "code",
   "execution_count": null,
   "metadata": {},
   "outputs": [],
   "source": [
    "gbs(3)"
   ]
  },
  {
   "cell_type": "code",
   "execution_count": null,
   "metadata": {},
   "outputs": [],
   "source": [
    "def subsets(nums: List[int]) -> List[List[int]]:\n",
    "    n = len(nums)\n",
    "    def gbs(n):\n",
    "        if n==0:\n",
    "            return []\n",
    "        if n==1:\n",
    "            return [\"0\", \"1\"]\n",
    "        \n",
    "        result =[]\n",
    "        for s in gbs(n-1):\n",
    "            result.append(s+\"0\")\n",
    "            if s[-1]!=\"1\":\n",
    "                result.append(s+\"1\")\n",
    "        return result\n",
    "    \n",
    "    x=gbs(n)\n",
    "    # x.insert(0,[])\n",
    "    print(x)"
   ]
  },
  {
   "cell_type": "code",
   "execution_count": null,
   "metadata": {},
   "outputs": [],
   "source": [
    "nums = [1,2,3]\n",
    "subsets(nums)"
   ]
  },
  {
   "cell_type": "code",
   "execution_count": null,
   "metadata": {},
   "outputs": [],
   "source": [
    "\n",
    "\n",
    "def generateBS(n , arr, i, lst):\n",
    "    if i==n:\n",
    "        lst.append(arr.copy())\n",
    "        return\n",
    "    \n",
    "    arr[i]=0\n",
    "    generateBS(n,arr,i+1,lst)\n",
    "\n",
    "    arr[i]=1\n",
    "    generateBS(n, arr, i+1,lst)\n"
   ]
  },
  {
   "cell_type": "code",
   "execution_count": null,
   "metadata": {},
   "outputs": [],
   "source": [
    "n = 4\n",
    "arr = [None]*n\n",
    "lst =[]\n",
    "generateBS(n, arr, 0, lst)"
   ]
  },
  {
   "cell_type": "code",
   "execution_count": null,
   "metadata": {},
   "outputs": [],
   "source": [
    "print(lst)"
   ]
  },
  {
   "cell_type": "code",
   "execution_count": null,
   "metadata": {},
   "outputs": [],
   "source": []
  },
  {
   "cell_type": "code",
   "execution_count": null,
   "metadata": {},
   "outputs": [],
   "source": [
    "def generateBS(n, arr, i, lst):\n",
    "    if i == n:\n",
    "        lst.append(arr.copy())\n",
    "        return\n",
    "    \n",
    "    arr[i] = 0\n",
    "    generateBS(n, arr, i + 1, lst)\n",
    "\n",
    "    arr[i] = 1\n",
    "    generateBS(n, arr, i + 1, lst)\n",
    "\n",
    "n = 3\n",
    "arr = [None] * n\n",
    "lst = []\n",
    "generateBS(n, arr, 0, lst)\n",
    "\n",
    "print(lst)\n"
   ]
  },
  {
   "cell_type": "code",
   "execution_count": null,
   "metadata": {},
   "outputs": [],
   "source": [
    "lst"
   ]
  },
  {
   "cell_type": "code",
   "execution_count": null,
   "metadata": {},
   "outputs": [],
   "source": [
    "nums= [1,2,3]\n",
    "\n",
    "x= []\n",
    "for i in range(len(lst)):\n",
    "    print(lst[i])\n",
    "    temp =[]\n",
    "    for j in range(len(lst[i])):\n",
    "        if lst[i][j]==1:\n",
    "            temp.append(nums[j])\n",
    "    \n",
    "    x.append(temp)\n",
    "\n"
   ]
  },
  {
   "cell_type": "code",
   "execution_count": null,
   "metadata": {},
   "outputs": [],
   "source": [
    "x"
   ]
  },
  {
   "cell_type": "code",
   "execution_count": null,
   "metadata": {},
   "outputs": [],
   "source": [
    "def betterString(str1, str2):\n",
    "    # Code here\n",
    "    def allComb(arr,n,i,lst):\n",
    "        if i==n:\n",
    "            lst.append(arr.copy())\n",
    "            return\n",
    "        arr[i]=0\n",
    "        allComb(arr,n,i+1,lst)\n",
    "\n",
    "        arr[i]=1\n",
    "        allComb(arr,n,i+1,lst)\n",
    "    \n",
    "    def subsets(nums: List[int]) -> List[List[int]]:\n",
    "        n= len(nums)\n",
    "        arr = [None]*n\n",
    "        lst =[]\n",
    "        allComb(arr,n,0,lst)\n",
    "        # print(lst)\n",
    "\n",
    "        x= set()\n",
    "        for i in range(len(lst)):\n",
    "            # print(lst[i])\n",
    "            temp =[]\n",
    "            for j in range(len(lst[i])):\n",
    "                if lst[i][j]==1:\n",
    "                    temp.append(nums[j])\n",
    "            \n",
    "            if len(temp)!=0:\n",
    "                x.add(tuple(temp))\n",
    "        return x\n",
    "    \n",
    "    x=subsets([i for i in str1])\n",
    "    y=subsets([i for i in str2])\n",
    "    print(x,\"          \",y)\n",
    "\n",
    "    if len(x)>len(y):\n",
    "        return str1\n",
    "    else:\n",
    "        return str2"
   ]
  },
  {
   "cell_type": "code",
   "execution_count": null,
   "metadata": {},
   "outputs": [],
   "source": [
    "str1 = \"gfg\"\n",
    "str2 = \"ggg\"\n",
    "betterString(str1, str2)"
   ]
  },
  {
   "cell_type": "code",
   "execution_count": null,
   "metadata": {},
   "outputs": [],
   "source": [
    "def subseq(inp,out,lst):\n",
    "    if len(inp)==0:\n",
    "        # print(out)\n",
    "        lst.append(out)\n",
    "        return\n",
    "    subseq(inp[1:], out+inp[0],lst)\n",
    "    subseq(inp[1:], out,lst)\n",
    "\n",
    "\n",
    "def betterString(str1, str2):\n",
    "    # Code here\n",
    "    lst1=[]\n",
    "    subseq(str1,\"\",lst1)\n",
    "    \n",
    "    lst2=[]\n",
    "    subseq(str2,\"\",lst2)\n",
    "    \n",
    "    print(set(lst1), set(lst2))\n",
    "\n",
    "    if set(lst1)>=set(lst2):\n",
    "        return str1\n",
    "    return str2"
   ]
  },
  {
   "cell_type": "code",
   "execution_count": null,
   "metadata": {},
   "outputs": [],
   "source": [
    "str1 = \"gfg\"\n",
    "str2 = \"ggg\"\n",
    "\n",
    "betterString(str1, str2)"
   ]
  },
  {
   "cell_type": "code",
   "execution_count": null,
   "metadata": {},
   "outputs": [],
   "source": [
    "from typing import List\n",
    "def sortJumbled( mapping: List[int], nums: List[int]) -> List[int]:\n",
    "    new_nums=[]\n",
    "    for num in nums:\n",
    "        x = str(num)\n",
    "        # print(x)\n",
    "        s=\"\"\n",
    "        for i in range(len(x)):\n",
    "            ind = int(x[i])\n",
    "            # print(ind, str(nums[int]))\n",
    "            # x[i] = mapping[int]\n",
    "            # print(x[i])\n",
    "            s+=str(mapping[ind])\n",
    "        # print(num,\"-->\",s)\n",
    "        new_nums.append(int(s))\n",
    "    \n",
    "    # print(new_nums)\n",
    "    mpp = []\n",
    "\n",
    "    for i in range(len(new_nums)):\n",
    "        # mpp[nums[i]] = new_nums[i]\n",
    "        mpp.append([nums[i], new_nums[i]])\n",
    "    \n",
    "    # print(mpp)\n",
    "    # print(len(mpp))\n",
    "\n",
    "\n",
    "    mpp.sort(key=lambda x:x[1])\n",
    "    # print(mpp)\n",
    "    nl =[]\n",
    "\n",
    "    for i in mpp:\n",
    "        nl.append(i[0])\n",
    "\n",
    "    # print(nl)\n",
    "\n",
    "    return nl"
   ]
  },
  {
   "cell_type": "code",
   "execution_count": null,
   "metadata": {},
   "outputs": [],
   "source": [
    "# mapping = [8,9,4,0,2,1,3,5,7,6]\n",
    "# nums = [991,338,38]\n",
    "\n",
    "# mapping = [0,1,2,3,4,5,6,7,8,9]\n",
    "# nums = [789,456,123]\n",
    "\n",
    "mapping=[8,2,9,5,3,7,1,0,6,4]\n",
    "nums= [418,4191,916,948,629641556,574,111171937,28250,42775632,6086,85796326,696292542,186,67559,2167,366,854,2441,78176,621,4257,2250097,509847,7506,77,50,4135258,4036,59934,59474,3646243,9049356,85852,90298188,2448206,30401413,33190382,968234660,7973,668786,992777977,77,355766,221,246409664,216290476,45,87,836414,40952]\n",
    "\n",
    "sortJumbled(mapping, nums)\n",
    "# print(len(nums))"
   ]
  },
  {
   "cell_type": "code",
   "execution_count": null,
   "metadata": {},
   "outputs": [],
   "source": [
    "a = [77,45,87,50,621,186,418,7973,916,948,366,854,574,7506,221,6086,4191,4036,4257,78176,2167,2441,67559,40952,85852,59474,59934,28250,668786,355766,836414,509847,4135258,9049356,3646243,2448206,2250097,42775632,90298188,33190382,30401413,85796326,696292542,629641556,111171937,968234660,992777977,216290476,246409664]\n",
    "b=[77,77,45,87,50,621,186,418,7973,916,948,366,854,574,7506,221,6086,4191,4036,4257,78176,2167,2441,67559,40952,85852,59474,59934,28250,668786,355766,836414,509847,4135258,9049356,3646243,2448206,2250097,42775632,90298188,33190382,30401413,85796326,696292542,629641556,111171937,968234660,992777977,216290476,246409664]"
   ]
  },
  {
   "cell_type": "code",
   "execution_count": null,
   "metadata": {},
   "outputs": [],
   "source": [
    "a.sort(), b.sort()\n",
    "print(a)\n",
    "print(b)"
   ]
  },
  {
   "cell_type": "code",
   "execution_count": null,
   "metadata": {},
   "outputs": [],
   "source": [
    "print(len(a), len(b))"
   ]
  },
  {
   "cell_type": "code",
   "execution_count": null,
   "metadata": {},
   "outputs": [],
   "source": [
    "[[418, 326], [4191, 3242], [916, 421], [948, 436], [629641556, 194132771], [574, 703], [111171937, 222202450], [28250, 96978], [42775632, 39007159], [6086, 1861], [85796326, 67041591], [696292542, 141949739], [186, 261], [67559, 10774], [2167, 9210], [366, 511], [854, 673], [2441, 9332], [78176, 6201], [621, 192], [4257, 3970], [2250097, 9978840], [509847, 784630], [7506, 781], [77, 0], [50, 78], [4135258, 3257976], [4036, 3851], [59934, 74453], [59474, 74303], [3646243, 5131935], [9049356, 4834571], [85852, 67679], [90298188, 48946266], [2448206, 9336981], [30401413, 58382325], [33190382, 55248569], [968234660, 416953118], [7973, 405], [668786, 116061], [992777977, 449000400], [77, 0], [355766, 577011], [221, 992], [246409664, 931384113], [216290476, 921948301], [45, 37], [87, 60], [836414, 651323], [40952, 38479]]\n"
   ]
  },
  {
   "cell_type": "code",
   "execution_count": null,
   "metadata": {},
   "outputs": [],
   "source": [
    "big=[[], [5], [1], [1, 5], [6], [6, 5], [6, 1], [6, 1, 5], [7], [7, 5], [7, 1], [7, 1, 5], [7, 6], [7, 6, 5], [7, 6, 1], [7, 6, 1, 5], [2], [2, 5], [2, 1], [2, 1, 5], [2, 6], [2, 6, 5], [2, 6, 1], [2, 6, 1, 5], [2, 7], [2, 7, 5], [2, 7, 1], [2, 7, 1, 5], [2, 7, 6], [2, 7, 6, 5], [2, 7, 6, 1], [2, 7, 6, 1, 5], [1], [1, 5], [1, 1], [1, 1, 5], [1, 6], [1, 6, 5], [1, 6, 1], [1, 6, 1, 5], [1, 7], [1, 7, 5], [1, 7, 1], [1, 7, 1, 5], [1, 7, 6], [1, 7, 6, 5], [1, 7, 6, 1], [1, 7, 6, 1, 5], [1, 2], [1, 2, 5], [1, 2, 1], [1, 2, 1, 5], [1, 2, 6], [1, 2, 6, 5], [1, 2, 6, 1], [1, 2, 6, 1, 5], [1, 2, 7], [1, 2, 7, 5], [1, 2, 7, 1], [1, 2, 7, 1, 5], [1, 2, 7, 6], [1, 2, 7, 6, 5], [1, 2, 7, 6, 1], [1, 2, 7, 6, 1, 5], [10], [10, 5], [10, 1], [10, 1, 5], [10, 6], [10, 6, 5], [10, 6, 1], [10, 6, 1, 5], [10, 7], [10, 7, 5], [10, 7, 1], [10, 7, 1, 5], [10, 7, 6], [10, 7, 6, 5], [10, 7, 6, 1], [10, 7, 6, 1, 5], [10, 2], [10, 2, 5], [10, 2, 1], [10, 2, 1, 5], [10, 2, 6], [10, 2, 6, 5], [10, 2, 6, 1]]"
   ]
  },
  {
   "cell_type": "code",
   "execution_count": null,
   "metadata": {},
   "outputs": [],
   "source": [
    "for arr in big:\n",
    "    print(sum(arr))"
   ]
  },
  {
   "cell_type": "code",
   "execution_count": null,
   "metadata": {},
   "outputs": [],
   "source": [
    "def xx(s):\n",
    "    n = len(s)\n",
    "    lst =[]\n",
    "\n",
    "    for i in range(n):\n",
    "        temp = []\n",
    "        st=\"\"\n",
    "        for j in range(i,n):\n",
    "            st+=s[i]\n",
    "            if st==st[::-1]:\n",
    "                temp.append(st)\n",
    "                st=\"\"\n",
    "        lst.append(temp)\n",
    "    print(lst)\n",
    "                \n",
    "\n",
    "\n",
    "    return"
   ]
  },
  {
   "cell_type": "code",
   "execution_count": null,
   "metadata": {},
   "outputs": [],
   "source": [
    "\n",
    "s = \"aab\"\n",
    "xx(s)"
   ]
  },
  {
   "cell_type": "code",
   "execution_count": null,
   "metadata": {},
   "outputs": [],
   "source": [
    "def findTheCity(n: int, edges: List[List[int]], distanceThreshold: int) -> int:\n",
    "    # n = no. of vertices\n",
    "    INF = 99999 \n",
    "    dist = [[INF]*n for _ in range(n)] # create inf matrix\n",
    "\n",
    "    for i in range(n): # set all vertex to vertex zero\n",
    "        dist[i][i]=0\n",
    "    for k in range(len(edges)): # create matrix for bi-directional graph\n",
    "        edge = edges[k]\n",
    "        # print(edge)\n",
    "        i = edge[0]\n",
    "        j = edge[1]\n",
    "        dist[i][j] = dist[j][i]= edge[2]\n",
    "    \n",
    "    print()\n",
    "    for i in dist:\n",
    "        print(i)\n",
    "\n",
    "\n",
    "    for k in range(n):\n",
    "        for i in range(n):\n",
    "            for j in range(n):\n",
    "                if dist[i][j] > dist[i][k] + dist[k][j]:\n",
    "                    dist[i][j] = dist[i][k] + dist[k][j]\n",
    "\n",
    "\n",
    "\n",
    "    print()\n",
    "    for i in dist:\n",
    "        print(i)\n",
    "    \n",
    "    lst = []\n",
    "    for i in range(n):\n",
    "        # temp =[]\n",
    "        ct=0\n",
    "        for j in range(n):\n",
    "            if dist[i][j]<=distanceThreshold:\n",
    "                ct+=1\n",
    "        lst.append([i,ct-1])\n",
    "    \n",
    "    print(lst)\n",
    "    new_lst = lst[::-1]\n",
    "    print(new_lst)\n",
    "    new_lst.sort(key = lambda x:x[1])\n",
    "    print(new_lst)\n",
    "\n",
    "    # mn = INF\n",
    "    # for i in range(n):\n",
    "    #     if new_lst[i][1]<mn:\n",
    "    #         mn = new_lst[i][0]\n",
    "    #         print(mn, new_lst[i][1])\n",
    "    \n",
    "    # print(mn)\n",
    "    \n",
    "    return "
   ]
  },
  {
   "cell_type": "code",
   "execution_count": null,
   "metadata": {},
   "outputs": [],
   "source": [
    "# n = 5\n",
    "# edges = [[0,1,2],[0,4,8],[1,2,3],[1,4,2],[2,3,1],[3,4,1]]\n",
    "# distanceThreshold = 2\n",
    "\n",
    "n = 4\n",
    "edges = [[0,1,3],[1,2,1],[1,3,4],[2,3,1]]\n",
    "distanceThreshold = 4\n",
    "\n",
    "\n",
    "findTheCity(n, edges, distanceThreshold)"
   ]
  },
  {
   "cell_type": "code",
   "execution_count": null,
   "metadata": {},
   "outputs": [],
   "source": [
    "def countSetBits(n):\n",
    "    lst = [0 for _ in range(n+1)]\n",
    "    print(lst)\n",
    "    for i in range(1,n+1):\n",
    "        lst[i] = lst[i//2] + (i%2)\n",
    "    print(lst)\n"
   ]
  },
  {
   "cell_type": "code",
   "execution_count": null,
   "metadata": {},
   "outputs": [],
   "source": [
    "n = 4\n",
    "countSetBits(n)"
   ]
  },
  {
   "cell_type": "code",
   "execution_count": null,
   "metadata": {},
   "outputs": [],
   "source": [
    "def countSetBits2(n):\n",
    "    import math\n",
    "    if n<=1:\n",
    "        return n\n",
    "    x = math.log(n,2)\n",
    "    return math.pow(2,x-1)*x + (n - math.pow(2,x)+1) + countSetBits(n-math.pow(2,x))\n"
   ]
  },
  {
   "cell_type": "code",
   "execution_count": null,
   "metadata": {},
   "outputs": [],
   "source": [
    "n = 40\n",
    "countSetBits(n)"
   ]
  },
  {
   "cell_type": "code",
   "execution_count": null,
   "metadata": {},
   "outputs": [],
   "source": [
    "def bm(num, i):\n",
    "    a = -1\n",
    "    # print(num & (1<<i-1), bin(num) , 1<<i-1)\n",
    "    if num&(1<<i-1):\n",
    "        a=1\n",
    "    else:\n",
    "        a=0\n",
    "    # print(a)\n",
    "\n",
    "    b = num|(1<<(i-1))\n",
    "    c = num & (~(1<<(i-1)))\n",
    "\n",
    "    print(a,b ,c )\n",
    "\n",
    "\n",
    "    return"
   ]
  },
  {
   "cell_type": "code",
   "execution_count": null,
   "metadata": {},
   "outputs": [],
   "source": [
    "# num = 8\n",
    "# i = 1\n",
    "\n",
    "num = 70\n",
    "i=3\n",
    "bm(num,i)"
   ]
  },
  {
   "cell_type": "code",
   "execution_count": null,
   "metadata": {},
   "outputs": [],
   "source": [
    "bin(70) , bin(num | (1<<(i-1))) , bin(num & (~(1<<(i-1)))) , bin((~(1<<(i-1))))"
   ]
  },
  {
   "cell_type": "code",
   "execution_count": null,
   "metadata": {},
   "outputs": [],
   "source": [
    "import math\n",
    "num = 6\n",
    "k = math.floor(math.log(num,2)) + 1\n",
    "print(num|(1<<k))\n",
    "# print(len_b)"
   ]
  },
  {
   "cell_type": "code",
   "execution_count": null,
   "metadata": {},
   "outputs": [],
   "source": [
    "bin(6), bin(num|(1<<k)), bin(7)"
   ]
  },
  {
   "cell_type": "code",
   "execution_count": null,
   "metadata": {},
   "outputs": [],
   "source": [
    "bin(15), bin(16)"
   ]
  },
  {
   "cell_type": "code",
   "execution_count": null,
   "metadata": {},
   "outputs": [],
   "source": [
    "ord(\"a\")-97,ord(\"z\")-97"
   ]
  },
  {
   "cell_type": "code",
   "execution_count": null,
   "metadata": {},
   "outputs": [],
   "source": [
    "INF= 99999\n",
    "def minimumCost(source,target, original, changed,cost):\n",
    "    conversionGraph=buildConversionGraph(original,changed,cost)\n",
    "    optimizeConversionPath(conversionGraph)\n",
    "    x= totalCost(source, target, conversionGraph)\n",
    "    print(x)\n",
    "    \n",
    "def buildConversionGraph(original, changed, cost):\n",
    "    graph = [[INF]*26 for _ in range(26)]\n",
    "\n",
    "    for i in range(26):\n",
    "        graph[i][i]=0\n",
    "\n",
    "    for i in range(len(cost)):\n",
    "        a = ord(original[i])-97\n",
    "        b = ord(changed[i])-97\n",
    "        c = cost[i]\n",
    "        graph[a][b]=min(c,graph[a][b])\n",
    "\n",
    "    return graph\n",
    "\n",
    "def optimizeConversionPath(graph):\n",
    "    for k in range(26):\n",
    "        for i in range(26):\n",
    "            if graph[i][k] < INF:\n",
    "                for j in range(26):\n",
    "                    if graph[k][j] < INF:\n",
    "                        graph[i][j] = min(graph[i][j], graph[i][k] + graph[k][j])\n",
    "\n",
    "def totalCost(source, target, graph):\n",
    "    tc = 0\n",
    "\n",
    "    for i in range(len(source)):\n",
    "        sc= ord(source[i])-97\n",
    "        tc = ord(target[i])-97\n",
    "        if sc!=tc:\n",
    "            if graph[sc][tc] == INF:\n",
    "                return -1\n",
    "            tc+=graph[sc][tc]\n",
    "    return tc\n",
    "\n"
   ]
  },
  {
   "cell_type": "code",
   "execution_count": null,
   "metadata": {},
   "outputs": [],
   "source": [
    "source = \"abcd\"\n",
    "target = \"acbe\"\n",
    "original = [\"a\",\"b\",\"c\",\"c\",\"e\",\"d\"]\n",
    "changed = [\"b\",\"c\",\"b\",\"e\",\"b\",\"e\"]\n",
    "cost = [2,5,5,1,2,20]\n",
    "x=buildConversionGraph(original, changed, cost)\n",
    "print(x)"
   ]
  },
  {
   "cell_type": "code",
   "execution_count": null,
   "metadata": {},
   "outputs": [],
   "source": [
    "def minvit(start,goal):\n",
    "    a = str(bin(start))\n",
    "    b = str(bin(goal))\n",
    "    print(a,b)\n",
    "    a = a[2:]\n",
    "    b = b[2:]\n",
    "    print(a,b)\n",
    "\n",
    "    df = abs(len(a)-len(b))\n",
    "    print(df)\n",
    "    str1=\"\"\n",
    "    str2=\"\"\n",
    "    if len(a)>len(b):\n",
    "        str1=a\n",
    "        str2=df*\"0\"+b\n",
    "    elif len(a)<len(b):\n",
    "        str1=df*\"0\"+a\n",
    "        str2=b\n",
    "        print(str1, str2)\n",
    "    else:\n",
    "        str1=a\n",
    "        str2=b\n",
    "\n",
    "\n",
    "    ct=0\n",
    "    print(len(str1), len(str2))\n",
    "    for i in range(len(str1)):\n",
    "        print(str1[i], str2[i])\n",
    "        if str2[i]!=str1[i]:\n",
    "            ct+=1\n",
    "    return ct\n"
   ]
  },
  {
   "cell_type": "code",
   "execution_count": null,
   "metadata": {},
   "outputs": [],
   "source": [
    "start = 81\n",
    "end = 87\n",
    "minvit(start, end)"
   ]
  },
  {
   "cell_type": "code",
   "execution_count": null,
   "metadata": {},
   "outputs": [],
   "source": [
    "def find_path_help(i,j, a, n, ans, move, vis):\n",
    "    if i == n-1 and j == n-1:\n",
    "        ans.append(move)\n",
    "        return\n",
    "    \n",
    "    # downward\n",
    "    if i+1<n and not vis[i+1][j] and a[i+1][j]==1:\n",
    "        vis[i][j]=1\n",
    "        find_path_help(i+1, j, a, n, move+\"D\", vis)\n",
    "        vis[i][j]=0\n",
    "\n",
    "    # left\n",
    "    if j-1>=0 and not vis[i][j-1] and a[i][j-1]==1:\n",
    "        vis[i][j]=1\n",
    "        find_path_help(i,j-1, a, n, move + \"L\", vis)\n",
    "        vis[i][j]=0\n",
    "    \n",
    "\n",
    "    # right\n",
    "    if j+1<n and not vis[i][j+1] and a[i][j+1]==1:\n",
    "        vis[i][j]=1\n",
    "        find_path_help(i,j+1,a,n,move+\"R\",vis)\n",
    "        vis[i][j]=0\n",
    "\n",
    "    # upward\n",
    "    if i-1>=0 and not vis[i-1][j] and a[i-1][j] == 1:\n",
    "        vis[i][j]=1\n",
    "        find_path_help(i-1, j, a, n, move+\"U\", vis)\n",
    "        vis[i][j]=0\n",
    "\n",
    "\n",
    "def find_path(m,n):\n",
    "    ans =[]\n",
    "    vis = [[0 for _ in range(n)] for _ in range(n)]\n",
    "    print(vis)\n",
    "\n",
    "    if m[0][0]==1:\n",
    "        find_path_help(0,0,m,n,ans,\"\",vis)\n",
    "    return ans"
   ]
  },
  {
   "cell_type": "code",
   "execution_count": null,
   "metadata": {},
   "outputs": [],
   "source": [
    "m = [[1, 0, 0, 0], [1, 1, 0, 1], [1, 1, 0, 0], [0, 1, 1, 1]]\n",
    "n = 4\n",
    "find_path(m,n)"
   ]
  },
  {
   "cell_type": "code",
   "execution_count": null,
   "metadata": {},
   "outputs": [],
   "source": [
    "def numTeams(rating):\n",
    "    lst =[]\n",
    "    n = len(rating)\n",
    "    for i in range(n):\n",
    "        for j in range(i+1,n):\n",
    "            for k in range(j+1,n):\n",
    "                if rating[i]<rating[j]<rating[k] or rating[i]>rating[j]>rating[k]:\n",
    "                    lst.append([rating[i],rating[j],rating[k]])\n",
    "\n",
    "    # print(lst)\n",
    "\n",
    "    return len(lst)"
   ]
  },
  {
   "cell_type": "code",
   "execution_count": null,
   "metadata": {},
   "outputs": [],
   "source": [
    "rating = [2,5,3,4,1]\n",
    "rating = [1,2,3,4]\n",
    "numTeams(rating)"
   ]
  },
  {
   "cell_type": "code",
   "execution_count": null,
   "metadata": {},
   "outputs": [],
   "source": [
    "from typing import List"
   ]
  },
  {
   "cell_type": "code",
   "execution_count": null,
   "metadata": {},
   "outputs": [],
   "source": [
    "def isValid(board,row,col,c):\n",
    "    for i in range(9):\n",
    "        if board[i][col]==c:\n",
    "            return False\n",
    "        if board[row][i]==c:\n",
    "            return False\n",
    "        if board[3*(row//3)+i//3][3*(col//3) + i%3]==c:\n",
    "            return False\n",
    "    return True\n",
    "\n",
    "def solveSudoku(board):\n",
    "    for i in range(len(board)):\n",
    "        for j in range(len(board[0])):\n",
    "            if board[i][j]==\".\":\n",
    "                for c in \"123456789\":\n",
    "                    if isValid(board,i,j,c):\n",
    "                        board[i][j]=c\n",
    "                        if solveSudoku(board):\n",
    "                            return True\n",
    "                        else:\n",
    "                            board[i][j]=\".\"\n",
    "                return False\n",
    "    return True\n",
    "\n"
   ]
  },
  {
   "cell_type": "code",
   "execution_count": null,
   "metadata": {},
   "outputs": [],
   "source": [
    "if __name__ == \"__main__\":\n",
    "    board = [\n",
    "        [\"9\", \"5\", \"7\", \".\", \"1\", \"3\", \".\", \"8\", \"4\"],\n",
    "        [\"4\", \"8\", \"3\", \".\", \"5\", \"7\", \"1\", \".\", \"6\"],\n",
    "        [\".\", \"1\", \"2\", \".\", \"4\", \"9\", \"5\", \"3\", \"7\"],\n",
    "        [\"1\", \"7\", \".\", \"3\", \".\", \"4\", \"9\", \".\", \"2\"],\n",
    "        [\"5\", \".\", \"4\", \"9\", \"7\", \".\", \"3\", \"6\", \".\"],\n",
    "        [\"3\", \".\", \"9\", \"5\", \".\", \"8\", \"7\", \".\", \"1\"],\n",
    "        [\"8\", \"4\", \"5\", \"7\", \"9\", \".\", \"6\", \"1\", \"3\"],\n",
    "        [\".\", \"9\", \"1\", \".\", \"3\", \"6\", \".\", \"7\", \"5\"],\n",
    "        [\"7\", \".\", \"6\", \"1\", \"8\", \"5\", \"4\", \".\", \"9\"],\n",
    "    ]\n",
    "    solveSudoku(board)\n",
    "    for i in range(9):\n",
    "        for j in range(9):\n",
    "            print(board[i][j], end=\" \")\n",
    "        print()"
   ]
  },
  {
   "cell_type": "code",
   "execution_count": null,
   "metadata": {},
   "outputs": [],
   "source": [
    "def minimumDeletions(s: str) -> int:\n",
    "    b_count=0\n",
    "    min_del=0\n",
    "    for i in s:\n",
    "        if i==\"a\":\n",
    "            min_del = min(min_del+1, b_count)\n",
    "        else:\n",
    "            b_count+=1\n",
    "    return min_del"
   ]
  },
  {
   "cell_type": "code",
   "execution_count": null,
   "metadata": {},
   "outputs": [],
   "source": [
    "s = \"aababbab\"\n",
    "minimumDeletions(s)"
   ]
  },
  {
   "cell_type": "code",
   "execution_count": null,
   "metadata": {},
   "outputs": [],
   "source": [
    "\"a\".isalpha()"
   ]
  },
  {
   "cell_type": "code",
   "execution_count": null,
   "metadata": {},
   "outputs": [],
   "source": [
    "\"-\".isalpha()"
   ]
  },
  {
   "cell_type": "code",
   "execution_count": null,
   "metadata": {},
   "outputs": [],
   "source": [
    "def InfixToPostfix(exp):\n",
    "    operators = [\"+\",\"-\",\"*\",\"/\",\"^\",\"(\",\")\"]\n",
    "    precedence = {\"+\":1, \"-\":1, \"*\":2, \"/\":2, \"^\":3}\n",
    "    output=\"\"\n",
    "    stack = []\n",
    "    for i in exp:\n",
    "        if i not in operators:\n",
    "            output+=i\n",
    "        elif i==\"(\":\n",
    "            stack.append(i)\n",
    "        elif i==\")\":\n",
    "            while stack and stack[-1]!=\"(\":\n",
    "                output+=stack.pop()\n",
    "            stack.pop()\n",
    "        else:\n",
    "            while stack and stack[-1]!=\"(\" and precedence[i]<=precedence[stack[-1]]:\n",
    "                output+=stack.pop()\n",
    "            stack.append(i)\n",
    "    \n",
    "    while stack:\n",
    "        output+=stack.pop()\n",
    "    print(output)\n",
    "    return output\n",
    "\n",
    "def infixToPrefix(exp):\n",
    "    exp = exp[::-1]\n",
    "    print(exp)\n",
    "    for i in range(len(exp)):\n",
    "        if exp[i]==\"(\":\n",
    "            exp[i]=\")\"\n",
    "        if exp[i]==\")\":\n",
    "            exp[i]=\"(\"\n",
    "    \n",
    "    x = InfixToPostfix(exp)\n",
    "    return x[::-1]\n",
    "\n"
   ]
  },
  {
   "cell_type": "code",
   "execution_count": null,
   "metadata": {},
   "outputs": [],
   "source": [
    "s = \"x+y*z/w+u\"\n",
    "print(InfixToPostfix(s))\n",
    "print()\n",
    "print(infixToPrefix(s))"
   ]
  },
  {
   "cell_type": "code",
   "execution_count": null,
   "metadata": {},
   "outputs": [],
   "source": [
    "def InfixToPostfix(exp):\n",
    "    operators = [\"+\",\"-\",\"*\",\"/\",\"^\",\"(\",\")\"]\n",
    "    precedence = {\"+\":1, \"-\":1, \"*\":2, \"/\":2, \"^\":3}\n",
    "    output=\"\"\n",
    "    stack = []\n",
    "    for i in exp:\n",
    "        if i not in operators:\n",
    "            output+=i\n",
    "        elif i==\"(\":\n",
    "            stack.append(i)\n",
    "        elif i==\")\":\n",
    "            while stack and stack[-1]!=\"(\":\n",
    "                output+=stack.pop()\n",
    "            stack.pop()\n",
    "        else:\n",
    "            if i==\"^\":\n",
    "                while stack and stack[-1]!=\"(\" and precedence[i]<=precedence[stack[-1]]:\n",
    "                    output+=stack.pop()\n",
    "                    # stack.append(i)\n",
    "            else:\n",
    "                while stack and stack[-1]!=\"(\" and precedence[i]<precedence[stack[-1]]:\n",
    "                    output+=stack.pop()\n",
    "            stack.append(i)\n",
    "    \n",
    "    while stack:\n",
    "        output+=stack.pop()\n",
    "    print(output)\n",
    "    return output\n",
    "\n",
    "\n",
    "# Function to convert infix expression to prefix\n",
    "def infixToPrefix(expression):\n",
    "\tlength = len(expression)\n",
    "\treversed_expression = expression[::-1]\n",
    "\n",
    "\n",
    "\tfor i in range(length):\n",
    "\t\tif reversed_expression[i] == '(':\n",
    "\t\t\treversed_expression[i] = ')'\n",
    "\t\telif reversed_expression[i] == ')':\n",
    "\t\t\treversed_expression[i] = '('\n",
    "\n",
    "\n",
    "\tprefix = InfixToPostfix(reversed_expression)\n",
    "\tprefix = prefix[::-1]\n",
    "\treturn prefix\n",
    "\n",
    "\n",
    "# Driver code\n",
    "if __name__ == '__main__':\n",
    "\texpression = \"x+y*z/w+u\"\n",
    "\tprint(infixToPrefix(expression))\n"
   ]
  },
  {
   "cell_type": "code",
   "execution_count": null,
   "metadata": {},
   "outputs": [],
   "source": [
    "# Function to determine if a character is an operator\n",
    "def isOperator(character):\n",
    "\treturn (not character.isalpha()) and (not character.isdigit())\n",
    "\n",
    "\n",
    "# Function to retrieve the precedence of operators\n",
    "def getPriority(operator):\n",
    "\tif operator == '-' or operator == '+':\n",
    "\t\treturn 1\n",
    "\telif operator == '*' or operator == '/':\n",
    "\t\treturn 2\n",
    "\telif operator == '^':\n",
    "\t\treturn 3\n",
    "\treturn 0\n",
    "\n",
    "\n",
    "# Function to convert infix expression to postfix\n",
    "def infixToPostfix(expression):\n",
    "\texpression = '(' + expression + ')'\n",
    "\tlength = len(expression)\n",
    "\toperator_stack = []\n",
    "\toutput = \"\"\n",
    "\tprecedence = {\"+\":1, \"-\":1, \"*\":2, \"/\":2, \"^\":3}\n",
    "\n",
    "\n",
    "\tfor i in range(length):\n",
    "\t\tif expression[i] not in [\"+\",\"-\",\"*\",\"/\",\"^\",\"(\",\")\"]:\n",
    "\t\t\toutput += expression[i]\n",
    "\t\telif expression[i] == '(':\n",
    "\t\t\toperator_stack.append(expression[i])\n",
    "\t\telif expression[i] == ')':\n",
    "\t\t\twhile operator_stack[-1] != '(':\n",
    "\t\t\t\toutput += operator_stack.pop()\n",
    "\t\t\toperator_stack.pop()\n",
    "\t\telse:\n",
    "\n",
    "\t\t\tif expression[i] == '^':\n",
    "\t\t\t\twhile operator_stack and operator_stack[-1]!=\"(\" and precedence[expression[i]] <= precedence[operator_stack[-1]]:\n",
    "\t\t\t\t\toutput += operator_stack.pop()\n",
    "\t\t\telse:\n",
    "\t\t\t\tprint(operator_stack[-1])\n",
    "\t\t\t\t# print(precedence[expression[i]], precedence[operator_stack[-1]])\n",
    "\t\t\t\twhile operator_stack and operator_stack[-1]!=\"(\" and precedence[expression[i]] < precedence[operator_stack[-1]]:\n",
    "\t\t\t\t\toutput += operator_stack.pop()\n",
    "\t\t\toperator_stack.append(expression[i])\n",
    "\n",
    "\n",
    "\twhile len(operator_stack) != 0:\n",
    "\t\toutput += operator_stack.pop()\n",
    "\treturn output\n",
    "\n",
    "\n",
    "# Function to convert infix expression to prefix\n",
    "def infixToPrefix(expression):\n",
    "\tlength = len(expression)\n",
    "\treversed_expression = expression[::-1]\n",
    "\n",
    "\n",
    "\tfor i in range(length):\n",
    "\t\tif reversed_expression[i] == '(':\n",
    "\t\t\treversed_expression[i] = ')'\n",
    "\t\telif reversed_expression[i] == ')':\n",
    "\t\t\treversed_expression[i] = '('\n",
    "\n",
    "\n",
    "\tprefix = infixToPostfix(reversed_expression)\n",
    "\tprefix = prefix[::-1]\n",
    "\treturn prefix\n",
    "\n",
    "\n",
    "# Driver code\n",
    "if __name__ == '__main__':\n",
    "\texpression = \"x+y*z/w+u\"\n",
    "\tprint(infixToPrefix(expression))\n"
   ]
  },
  {
   "cell_type": "code",
   "execution_count": null,
   "metadata": {},
   "outputs": [],
   "source": [
    "def sum_sub(arr):\n",
    "    n = len(arr)\n",
    "    sm=0\n",
    "    for i in range(n):\n",
    "        for j in range(n-i):\n",
    "            print(arr[j:j+i+1])\n",
    "            sm+=min(arr[j:j+i+1])\n",
    "\n",
    "\n",
    "    return sm"
   ]
  },
  {
   "cell_type": "code",
   "execution_count": null,
   "metadata": {},
   "outputs": [],
   "source": [
    "def prevGreat(arr):\n",
    "    n = len(arr)\n",
    "    stack =[]\n",
    "    res = [None]*n\n",
    "\n",
    "    for i in range(n):\n",
    "        while stack and stack[-1]<=arr[i]:\n",
    "            stack.pop()\n",
    "        res[i] = -1 if not stack else stack[-1]\n",
    "        stack.append(arr[i])\n",
    "    \n",
    "    return res"
   ]
  },
  {
   "cell_type": "code",
   "execution_count": null,
   "metadata": {},
   "outputs": [],
   "source": [
    "arr = [15, 10, 18, 12, 4, 6, 2, 8]\n",
    "prevGreat(arr)"
   ]
  },
  {
   "cell_type": "code",
   "execution_count": null,
   "metadata": {},
   "outputs": [],
   "source": [
    "def nextGreat(arr):\n",
    "    n = len(arr)\n",
    "    stack =[]\n",
    "    res = [None]*n\n",
    "\n",
    "    for i in range(n-1,-1,-1):\n",
    "        while stack and stack[-1]<=arr[i]:\n",
    "            stack.pop()\n",
    "        res[i] = -1 if not stack else stack[-1]\n",
    "        stack.append(arr[i])\n",
    "    \n",
    "    return res\n"
   ]
  },
  {
   "cell_type": "code",
   "execution_count": null,
   "metadata": {},
   "outputs": [],
   "source": [
    "arr = [15, 10, 18, 12, 4, 6, 2, 8]\n",
    "nextGreat(arr)"
   ]
  },
  {
   "cell_type": "code",
   "execution_count": null,
   "metadata": {},
   "outputs": [],
   "source": [
    "def nextSmaller(arr):\n",
    "    n = len(arr)\n",
    "    stack = []\n",
    "    res = [None] * n\n",
    "\n",
    "    for i in range(n-1, -1, -1):\n",
    "        while stack and stack[-1] >= arr[i]:\n",
    "            stack.pop()\n",
    "        res[i] = -1 if not stack else stack[-1]\n",
    "        stack.append(arr[i])\n",
    "\n",
    "    return res\n",
    "\n"
   ]
  },
  {
   "cell_type": "code",
   "execution_count": null,
   "metadata": {},
   "outputs": [],
   "source": [
    "arr = [15, 10, 18, 12, 4, 6, 2, 8]\n",
    "nextSmaller(arr)"
   ]
  },
  {
   "cell_type": "code",
   "execution_count": null,
   "metadata": {},
   "outputs": [],
   "source": [
    "def prevSmaller(arr):\n",
    "    n = len(arr)\n",
    "    stack = []\n",
    "    res = [None]*n\n",
    "\n",
    "    for i in range(n):\n",
    "        while stack and stack[-1]>=arr[i]:\n",
    "            stack.pop()\n",
    "        res[i] = -1 if not stack else stack[-1]\n",
    "        stack.append(arr[i])\n",
    "    return res"
   ]
  },
  {
   "cell_type": "code",
   "execution_count": null,
   "metadata": {},
   "outputs": [],
   "source": [
    "arr = [15, 10, 18, 12, 4, 6, 2, 8]\n",
    "prevSmaller(arr)"
   ]
  },
  {
   "cell_type": "code",
   "execution_count": null,
   "metadata": {},
   "outputs": [],
   "source": [
    "def sumSubarrayMins(A): \n",
    "    n = len(A)\n",
    " \n",
    "    left, right = [None] * n, [None] * n \n",
    "     \n",
    "    # Use list as stack\n",
    "    s1, s2 = [], [] \n",
    " \n",
    "    # getting number of element strictly \n",
    "    # larger than A[i] on Left. \n",
    "    for i in range(0, n): \n",
    "        cnt = 1\n",
    " \n",
    "        # get elements from stack until \n",
    "        # element greater than A[i] found \n",
    "        while len(s1) > 0 and s1[-1][0] > A[i]: \n",
    "            cnt += s1[-1][1] \n",
    "            s1.pop() \n",
    " \n",
    "        s1.append([A[i], cnt]) \n",
    "        left[i] = cnt \n",
    " \n",
    "    # getting number of element\n",
    "    # larger than A[i] on Right. \n",
    "    for i in range(n - 1, -1, -1): \n",
    "        cnt = 1\n",
    " \n",
    "        # get elements from stack until \n",
    "        # element greater or equal to A[i] found \n",
    "        while len(s2) > 0 and s2[-1][0] > A[i]: \n",
    "            cnt += s2[-1][1] \n",
    "            s2.pop() \n",
    " \n",
    "        s2.append([A[i], cnt]) \n",
    "        right[i] = cnt \n",
    " \n",
    "    result = 0\n",
    "\n",
    "\n",
    "    print(left, right)\n",
    "\n"
   ]
  },
  {
   "cell_type": "code",
   "execution_count": null,
   "metadata": {},
   "outputs": [],
   "source": [
    "arr = [15, 10, 18, 12, 4, 6, 2, 8]\n",
    "\n",
    "sumSubarrayMins(arr)"
   ]
  },
  {
   "cell_type": "code",
   "execution_count": null,
   "metadata": {},
   "outputs": [],
   "source": [
    "from typing import List\n",
    "def trap(height: List[int]) -> int:\n",
    "    n = len(height)\n",
    "    stack1=[]\n",
    "    res1 = [None]*n\n",
    "\n",
    "    for i in range(n-1,-1,-1): # for next\n",
    "        while stack1 and stack1[-1]<=height[i]:\n",
    "            stack1.pop()\n",
    "        res1[i] = -1 if not stack1 else stack1[-1]\n",
    "        stack1.append(height[i])\n",
    "    \n",
    "    print(res1)\n",
    "\n",
    "    n = len(height)\n",
    "    stack2=[]\n",
    "    res2 = [None]*n\n",
    "\n",
    "    for i in range(n): # for prev\n",
    "        while stack2 and stack2[-1]<=height[i]:\n",
    "            stack2.pop()\n",
    "        res2[i] = -1 if not stack2 else stack2[-1]\n",
    "        stack2.append(height[i])\n",
    "    sm = 0\n",
    "    for i in range(n):\n",
    "        if res1[i]>=0 and res2[i]>=0:\n",
    "            print(i+1,arr[i], res1[i],res2[i], min(res1[i], res2[i]) - height[i])\n",
    "            sm+= min(res1[i], res2[i]) - height[i]\n",
    "\n",
    "    \n",
    "    print(res2)\n",
    "    \n",
    "    return sm\n"
   ]
  },
  {
   "cell_type": "code",
   "execution_count": null,
   "metadata": {},
   "outputs": [],
   "source": [
    "arr =[0,1,0,2,1,0,1,3,2,1,2,1]\n",
    "trap(arr)"
   ]
  },
  {
   "cell_type": "code",
   "execution_count": null,
   "metadata": {},
   "outputs": [],
   "source": [
    "def removeK(num, k):\n",
    "    st =[]\n",
    "\n",
    "    for ch in num:\n",
    "        while st and k>0 and st[-1]>ch:\n",
    "            st.pop()\n",
    "            k-=1\n",
    "        if st or ch!=\"0\":\n",
    "            st.append(ch)\n",
    "    \n",
    "    while st and k:\n",
    "        st.pop()\n",
    "        k-=1\n",
    "    if len(st)==0:\n",
    "        return \"0\"\n",
    "    \n",
    "    n = len(num)\n",
    "    num = list(num)\n",
    "    while len(st)>0:\n",
    "        num[n-1] = st[-1]\n",
    "        st.pop()\n",
    "        n-=1\n",
    "    \n",
    "    \n",
    "    return \"\".join(num[n:])"
   ]
  },
  {
   "cell_type": "code",
   "execution_count": null,
   "metadata": {},
   "outputs": [],
   "source": [
    "Str = \"765028321\"\n",
    "k = 5\n",
    "print(removeK(Str, k))"
   ]
  },
  {
   "cell_type": "code",
   "execution_count": null,
   "metadata": {},
   "outputs": [],
   "source": [
    "def hist(arr):\n",
    "\n",
    "    # prevSmall\n",
    "    st=[]\n",
    "    res = [None]*len(arr)\n",
    "    for i in range(len(arr)):\n",
    "        while st and st[-1][0]>=arr[i]:\n",
    "            st.pop()\n",
    "        res[i] = [-1,-1] if not st else st[-1]\n",
    "        st.append([arr[i],i])\n",
    "    for i in range(len(res)):\n",
    "        res[i] = res[i][1]\n",
    "    # print(res)\n",
    "\n",
    "    arr2 = arr[:]\n",
    "    arr2.append(-1)\n",
    "    # print(arr2)\n",
    "\n",
    "    # nextSmall\n",
    "    st2=[]\n",
    "    res2 = [None]*len(arr2)\n",
    "    for i in range(len(arr2)-1,-1,-1):\n",
    "        while st2 and st2[-1][0]>=arr2[i]:\n",
    "            st2.pop()\n",
    "        res2[i] = [-1,-1] if not st2 else st2[-1]\n",
    "        st2.append([arr2[i],i])\n",
    "    for i in range(len(res2)-1):\n",
    "        res2[i] = res2[i][1]\n",
    "    res2.pop()\n",
    "    \n",
    "    max_area = arr[0]\n",
    "\n",
    "    for i in range(len(res)):\n",
    "        x = arr[i]*(res2[i]-res[i]-1)\n",
    "        max_area = max(max_area, x)\n",
    "\n",
    "\n",
    "\n",
    "    return max_area"
   ]
  },
  {
   "cell_type": "code",
   "execution_count": null,
   "metadata": {},
   "outputs": [],
   "source": [
    "# heights = [2,4]\n",
    "# hist(heights)"
   ]
  },
  {
   "cell_type": "code",
   "execution_count": null,
   "metadata": {},
   "outputs": [],
   "source": [
    "def maxRectangle(mat):\n",
    "    res = hist(mat[0])\n",
    "    for i in range(1,len(mat)):\n",
    "        for j in range(len(mat[i])):\n",
    "            if mat[i][j]:\n",
    "                mat[i][j]+=mat[i-1][j]\n",
    "            res = max(res, hist(mat[i]))\n",
    "    return res"
   ]
  },
  {
   "cell_type": "code",
   "execution_count": null,
   "metadata": {},
   "outputs": [],
   "source": [
    "mat = [[1, 0, 1, 0, 0],\n",
    "         [1, 0, 1, 1, 1],\n",
    "         [1, 1, 1, 1, 1],\n",
    "         [1, 0, 0, 1, 0]]\n",
    "\n",
    "print(maxRectangle(mat)) # 6"
   ]
  },
  {
   "cell_type": "code",
   "execution_count": null,
   "metadata": {},
   "outputs": [],
   "source": [
    "x=[\"1\",\"0\",\"1\",\"0\",\"0\"]\n",
    "x"
   ]
  },
  {
   "cell_type": "code",
   "execution_count": null,
   "metadata": {},
   "outputs": [],
   "source": [
    "y = [int(i) for i in x]"
   ]
  },
  {
   "cell_type": "code",
   "execution_count": null,
   "metadata": {},
   "outputs": [],
   "source": [
    "y"
   ]
  },
  {
   "cell_type": "code",
   "execution_count": null,
   "metadata": {},
   "outputs": [],
   "source": [
    "arr_str= [[\"1\",\"0\",\"1\",\"0\",\"0\"],[\"1\",\"0\",\"1\",\"1\",\"1\"],[\"1\",\"1\",\"1\",\"1\",\"1\"],[\"1\",\"0\",\"0\",\"1\",\"0\"]]\n",
    "arr = [[None]*len(arr_str[0])]*len(arr_str)\n",
    "for i in range(len(arr_str)):\n",
    "    for j in range(len(arr_str[0])):\n",
    "        # print(arr[i][j], i, j)\n",
    "        arr[i][j] = int(arr_str[i][j])\n"
   ]
  },
  {
   "cell_type": "code",
   "execution_count": null,
   "metadata": {},
   "outputs": [],
   "source": [
    "arr"
   ]
  },
  {
   "cell_type": "code",
   "execution_count": null,
   "metadata": {},
   "outputs": [],
   "source": [
    "def hist_rect(arr):\n",
    "    n = len(arr)\n",
    "    left = [None]*n\n",
    "    right = [None]*n\n",
    "\n",
    "    stack =[]\n",
    "\n",
    "    for i in range(n): # for prevSmall\n",
    "        if len(stack)<1:\n",
    "            left[i]=0\n",
    "            stack.append(i)\n",
    "        else:\n",
    "            while stack and arr[stack[-1]] >= arr[i]:\n",
    "                stack.pop()\n",
    "            left[i] = 0 if not stack else stack[-1]+1\n",
    "            stack.append(i)\n",
    "    \n",
    "    # print(left)\n",
    "    n = len(arr)\n",
    "    st = []\n",
    "    for i in range(n-1,-1,-1):\n",
    "        if not st:\n",
    "            right[i] = n-1\n",
    "            st.append(i)\n",
    "            # print(n-1)\n",
    "        \n",
    "        else:\n",
    "            while st and arr[st[-1]] >= arr[i]:\n",
    "                st.pop()\n",
    "            right[i] = n-1 if not st else st[-1]-1\n",
    "            st.append(i)\n",
    "    # print(right)\n",
    "\n",
    "    area = 0\n",
    "\n",
    "    for i in range(n):\n",
    "        area = max( area, (right[i]-left[i]+1)*arr[i])\n",
    "\n",
    "\n",
    "\n",
    "    return area"
   ]
  },
  {
   "cell_type": "code",
   "execution_count": null,
   "metadata": {},
   "outputs": [],
   "source": [
    "def maxRectangle(mat):\n",
    "    res = hist_rect(mat[0])\n",
    "    for i in range(1,len(mat)):\n",
    "        for j in range(len(mat[i])):\n",
    "            if mat[i][j]:\n",
    "                mat[i][j]+=mat[i-1][j]\n",
    "            res = max(res, hist_rect(mat[i]))\n",
    "    return res\n",
    "\n",
    "mat = [[1, 0, 1, 0, 0],\n",
    "         [1, 0, 1, 1, 1],\n",
    "         [1, 1, 1, 1, 1],\n",
    "         [1, 0, 0, 1, 0]]\n",
    "\n",
    "print(maxRectangle(mat)) # 6"
   ]
  },
  {
   "cell_type": "code",
   "execution_count": null,
   "metadata": {},
   "outputs": [],
   "source": []
  },
  {
   "cell_type": "code",
   "execution_count": null,
   "metadata": {},
   "outputs": [],
   "source": [
    "arr_str = [[\"1\",\"0\",\"1\",\"0\",\"0\"],[\"1\",\"0\",\"1\",\"1\",\"1\"],[\"1\",\"1\",\"1\",\"1\",\"1\"],[\"1\",\"0\",\"0\",\"1\",\"0\"]]\n",
    "arr = [[None]*len(arr_str[0]) for _ in range( len(arr_str))]\n",
    "for i in range(len(arr_str)):\n",
    "    for j in range(len(arr_str[0])):\n",
    "        # print(arr[i][j], i, j)\n",
    "        arr[i][j] = int(arr_str[i][j])"
   ]
  },
  {
   "cell_type": "code",
   "execution_count": null,
   "metadata": {},
   "outputs": [],
   "source": [
    "for i in arr:\n",
    "    print(i)"
   ]
  },
  {
   "cell_type": "code",
   "execution_count": null,
   "metadata": {},
   "outputs": [],
   "source": [
    "def func1(arr):\n",
    "    n = len(arr)\n",
    "    st1=[]\n",
    "    left = [[None,None] for _ in range(n)]\n",
    "\n",
    "    # let's find prev smaller\n",
    "\n",
    "    for i in range(n):\n",
    "        while st1 and st1[-1][0]>=arr[i]:\n",
    "            st1.pop()\n",
    "        \n",
    "        left[i] = [-1,-1] if not st1 else st1[-1]\n",
    "        # left[i][1] = st1[-1][1]\n",
    "        st1.append([arr[i],i])\n",
    "    \n",
    "    print(left)\n",
    "\n",
    "\n",
    "    # let's find next smaller\n",
    "    st2=[]\n",
    "    right = [[None,None] for _ in range(n)]\n",
    "\n",
    "    for i in range(n-1,-1,-1):\n",
    "        while st2 and st2[-1][0]>arr[i]:\n",
    "            st2.pop()\n",
    "        \n",
    "        right[i] = [-1,-1] if not st2 else st2[-1]\n",
    "        # right[i][1] = st2[-1][1]\n",
    "        st2.append([arr[i],i])\n",
    "    \n",
    "    print(right)\n",
    "    print(\"-\"*20)\n",
    "\n",
    "    lst =[]\n",
    "    sm = 0\n",
    "\n",
    "    for i in range(n):\n",
    "        from_left = left[i][1]\n",
    "        from_right = right[i][1]\n",
    "\n",
    "        if from_left>-1:\n",
    "            left_dis = i - from_left # ok\n",
    "        else:\n",
    "            left_dis = i+1 # ok\n",
    "        \n",
    "\n",
    "        if from_right>-1:\n",
    "            right_dis = from_right - i\n",
    "        else:\n",
    "            right_dis = n-i\n",
    "        \n",
    "        lst.append([left_dis, right_dis, left_dis*right_dis ])\n",
    "        sm+= left_dis*right_dis*arr[i] \n",
    "\n",
    "    print(lst)\n",
    "        \n",
    "\n",
    "    return sm"
   ]
  },
  {
   "cell_type": "code",
   "execution_count": null,
   "metadata": {},
   "outputs": [],
   "source": [
    "# arr = [3,1,2,4]\n",
    "# arr = [11,81,94,43,3]\n",
    "\n",
    "# arr = [2,9,7,8,3,4,6,1]\n",
    "arr= [71,55,82,55]\n",
    "\n",
    "func1(arr)"
   ]
  },
  {
   "cell_type": "code",
   "execution_count": null,
   "metadata": {},
   "outputs": [],
   "source": [
    "def canEqual(target,arr):\n",
    "    if len(target)!=len(arr):\n",
    "            return False\n",
    "        \n",
    "    mx_t = max(target)\n",
    "    mn_t = min(target)\n",
    "\n",
    "    arr1 = [0]*(mx_t-mn_t+1)\n",
    "    # print(arr1)\n",
    "\n",
    "    mx_a = max(arr)\n",
    "    mn_a = min(arr)\n",
    "\n",
    "    arr2 = [0]*(mx_a-mn_a+1)\n",
    "    # print(arr2)\n",
    "\n",
    "    if mx_t!=mx_a or mn_t!=mn_a:\n",
    "        return False\n",
    "    \n",
    "    for ch in target:\n",
    "        x = ch-mn_t\n",
    "        arr1[x]+=1\n",
    "    \n",
    "\n",
    "    print(arr1)\n",
    "\n",
    "\n",
    "    for ch in arr:\n",
    "        x = ch-mn_a\n",
    "        arr1[x]-=1\n",
    "    \n",
    "    print(arr1)\n",
    "\n",
    "    if sum(arr1)!=0:\n",
    "        return False\n",
    "    return True\n"
   ]
  },
  {
   "cell_type": "code",
   "execution_count": null,
   "metadata": {},
   "outputs": [],
   "source": [
    "# target = [3,7,9]\n",
    "# arr = [3,7,11]\n",
    "\n",
    "target = [1,2,2,3]\n",
    "arr = [2,1,2,3]\n",
    "\n",
    "\n",
    "canEqual(target, arr)"
   ]
  },
  {
   "cell_type": "code",
   "execution_count": null,
   "metadata": {},
   "outputs": [],
   "source": [
    "import numpy as np\n",
    "\n",
    "# Assuming scores are given and counts are the number of students achieving that score\n",
    "scores_smridhi = [21, 20, 19, 18, 17, 16, 15, 14, 13, 12, 11, 10, 9, 8, 7, 6, 5, 4, 3, 2, 1]\n",
    "counts_smridhi = [2, 2, 2, 4, 3, 4, 4, 0, 1, 4, 8, 1, 2, 1, 3, 2, 0, 2, 0, 0, 0]\n",
    "\n",
    "# Repeat for the second teacher\n",
    "scores_second_person = [21, 20, 19, 18, 17, 16, 15, 14, 13, 12, 11, 10, 9, 8, 7, 6, 5, 4, 3, 2, 1]\n",
    "counts_second_person = [1, 3, 2, 5, 1, 5, 3, 5, 7, 4, 2, 4, 2, 1, 1, 0, 0, 0, 0, 0, 0]\n",
    "\n",
    "# Calculate weighted means\n",
    "mean_smridhi = np.average(scores_smridhi, weights=counts_smridhi)\n",
    "mean_second_person = np.average(scores_second_person, weights=counts_second_person)\n",
    "\n",
    "print(f'Mean Score for Smridhi: {mean_smridhi}')\n",
    "print(f'Mean Score for Second Person: {mean_second_person}')\n"
   ]
  },
  {
   "cell_type": "code",
   "execution_count": null,
   "metadata": {},
   "outputs": [],
   "source": [
    "import numpy as np\n",
    "import matplotlib.pyplot as plt\n",
    "from scipy.stats import ttest_ind, mannwhitneyu\n",
    "\n",
    "# Data setup\n",
    "scores = np.array([21, 20, 19, 18, 17, 16, 15, 14, 13, 12, 11, 10, 9, 8, 7, 6, 5, 4, 3, 2, 1])\n",
    "counts_smridhi = np.array([2, 2, 2, 4, 3, 4, 4, 0, 1, 4, 8, 1, 2, 1, 3, 2, 0, 2, 0, 0, 0])\n",
    "counts_second_person = np.array([1, 3, 2, 5, 1, 5, 3, 5, 7, 4, 2, 4, 2, 1, 1, 0, 0, 0, 0, 0, 0])\n",
    "\n",
    "# Expand the scores based on counts\n",
    "expanded_scores_smridhi = np.repeat(scores, counts_smridhi)\n",
    "expanded_scores_second_person = np.repeat(scores, counts_second_person)\n",
    "\n",
    "# Descriptive Statistics\n",
    "mean_smridhi = np.mean(expanded_scores_smridhi)\n",
    "std_dev_smridhi = np.std(expanded_scores_smridhi)\n",
    "mean_second_person = np.mean(expanded_scores_second_person)\n",
    "std_dev_second_person = np.std(expanded_scores_second_person)\n",
    "\n",
    "print(f'Mean Score for Smridhi: {mean_smridhi:.2f}, Std Dev: {std_dev_smridhi:.2f}')\n",
    "print(f'Mean Score for Second Person: {mean_second_person:.2f}, Std Dev: {std_dev_second_person:.2f}')\n",
    "\n",
    "# Histograms\n",
    "plt.figure(figsize=(12, 6))\n",
    "plt.hist(expanded_scores_smridhi, alpha=0.5, label='Smridhi')\n",
    "plt.hist(expanded_scores_second_person, alpha=0.5, label='Second Person')\n",
    "plt.title('Score Distribution')\n",
    "plt.xlabel('Scores')\n",
    "plt.ylabel('Frequency')\n",
    "plt.legend()\n",
    "plt.show()\n",
    "\n",
    "# Hypothesis Testing\n",
    "# T-test\n",
    "t_stat, p_val_t = ttest_ind(expanded_scores_smridhi, expanded_scores_second_person)\n",
    "print(f\"T-test: t-statistic = {t_stat:.2f}, p-value = {p_val_t:.4f}\")\n",
    "\n",
    "# Mann-Whitney U Test\n",
    "u_stat, p_val_u = mannwhitneyu(expanded_scores_smridhi, expanded_scores_second_person)\n",
    "print(f\"Mann-Whitney U Test: U-statistic = {u_stat:.2f}, p-value = {p_val_u:.4f}\")\n",
    "\n",
    "# Box Plots\n",
    "plt.figure(figsize=(8, 6))\n",
    "plt.boxplot([expanded_scores_smridhi, expanded_scores_second_person], labels=['Smridhi', 'Second Person'])\n",
    "plt.title('Score Comparison')\n",
    "plt.ylabel('Scores')\n",
    "plt.show()\n"
   ]
  },
  {
   "cell_type": "code",
   "execution_count": null,
   "metadata": {},
   "outputs": [],
   "source": [
    "def maxSlidingWindow(arr,k):\n",
    "    from collections import deque\n",
    "    n =len(arr)\n",
    "\n",
    "    if k == 1:\n",
    "        return arr\n",
    "    \n",
    "    qi = deque()\n",
    "    qi.append(0)\n",
    "    print(qi)\n",
    "\n",
    "    for i in range(1,k):\n",
    "        while qi and arr[i]>=arr[qi[-1]]:\n",
    "            qi.pop()\n",
    "        qi.append(i)\n",
    "    \n",
    "    print(qi)\n",
    "    lst =[]\n",
    "    lst.append(arr[qi[0]])\n",
    "    print(lst)\n",
    "\n",
    "    for i in range(k,n):\n",
    "        # print(arr[i:i+k])\n",
    "        lst.append(arr[qi[0]])\n",
    "\n",
    "        while qi and  qi[0] <= i-k:\n",
    "            qi.popleft()\n",
    "\n",
    "\n",
    "        while qi and arr[i]>=arr[qi[-1]]:\n",
    "            qi.pop()\n",
    "        \n",
    "        qi.append(i)\n",
    "    #     print(lst)\n",
    "\n",
    "\n",
    "        \n",
    "\n",
    "    # print(lst)\n",
    "\n",
    "        \n",
    "    \n",
    "\n",
    "\n",
    "\n",
    "    return lst"
   ]
  },
  {
   "cell_type": "code",
   "execution_count": null,
   "metadata": {},
   "outputs": [],
   "source": [
    "# nums = [1,3,-1,-3,5,3,6,7]\n",
    "nums = [1,2,3,1,4,5,2,3,6]\n",
    "k = 3\n",
    "maxSlidingWindow(nums,k)"
   ]
  },
  {
   "cell_type": "code",
   "execution_count": null,
   "metadata": {},
   "outputs": [],
   "source": [
    "arr = [100,80,60,70,60,75,85]"
   ]
  },
  {
   "cell_type": "code",
   "execution_count": null,
   "metadata": {},
   "outputs": [],
   "source": [
    "n = len(arr)\n",
    "stack = []\n",
    "res = [None]*n\n",
    "\n",
    "for i in range(n):\n",
    "    while stack and stack[-1][0]<=arr[i]:\n",
    "        stack.pop()\n",
    "    res[i] = [-1,-1] if not stack else stack[-1]\n",
    "    stack.append([arr[i],i])\n",
    "op=[]\n",
    "for i in range(n):\n",
    "    if res[i][1]==-1:\n",
    "        op.append(None)\n",
    "    else:\n",
    "        dis = i-res[i][1]\n",
    "        op.append(dis)"
   ]
  },
  {
   "cell_type": "code",
   "execution_count": null,
   "metadata": {},
   "outputs": [],
   "source": [
    "print(*arr,\"\\n\\n\",res)"
   ]
  },
  {
   "cell_type": "code",
   "execution_count": null,
   "metadata": {},
   "outputs": [],
   "source": [
    "print(op)"
   ]
  },
  {
   "cell_type": "code",
   "execution_count": null,
   "metadata": {},
   "outputs": [],
   "source": [
    "from collections import OrderedDict\n",
    "\n",
    "class LFUCache:\n",
    "    def __init__(self, capacity: int):\n",
    "        self.capacity = capacity\n",
    "        self.min_freq = 0 # keep track of min freq of all keys in cache\n",
    "        self.node_map = {} # map each key to tuple which have value and current freq\n",
    "        self.freq_map = {} # map each freq to orderedDict that stores keys with that freq\n",
    "\n",
    "    # self.capacity: Holds the maximum number of entries the cache can hold.\n",
    "    # self.min_freq: Records the lowest frequency present in the cache, which helps quickly identify which frequency list to access when removing items.\n",
    "    # self.node_map: Key-value store where the value is a tuple of the cached value and its access frequency.\n",
    "    # self.freq_map: Maps frequencies to OrderedDicts which track the keys at each frequency in the order they were last accessed.\n",
    "\n",
    "    def get(self, key: int) -> int:\n",
    "        if key not in self.node_map:\n",
    "            return -1\n",
    "        \n",
    "        value, freq = self.node_map[key]\n",
    "        self.freq_map[freq].pop(key) # remove the key from it's current freq list in freq_map\n",
    "\n",
    "        # if current freq list is empty after removal delete it/\n",
    "        if not self.freq_map[freq]:\n",
    "            del self.freq_map[freq]\n",
    "            # if the removed freq was the minimum freq, increment min_freq\n",
    "            if freq == self.min_freq:\n",
    "                self.min_freq+=1\n",
    "        \n",
    "        new_freq = freq+1 # increment the frequency count of the key\n",
    "\n",
    "        # Add the key to new freq list in freq_map\n",
    "        if new_freq not in self.freq_map:\n",
    "            self.freq_map[new_freq] = OrderedDict()\n",
    "        self.freq_map[new_freq][key] = value\n",
    "        self.node_map[key] = (value, new_freq) # update the node_map with the new_freq\n",
    "\n",
    "        return value\n",
    "    \n",
    "    # Retrieves the value and updates its frequency.\n",
    "    # Removes the key from its current frequency list, checking if it was the last key at that frequency and updating min_freq if necessary.\n",
    "    # Inserts the key into the next higher frequency list and updates the tracking in node_map.\n",
    "\n",
    "\n",
    "    def put(self, key: int, value: int) -> None:\n",
    "        if self.capacity==0:\n",
    "            return\n",
    "        \n",
    "        if key in self.node_map:\n",
    "            _, freq = self.node_map[key] # get the current freq of key\n",
    "            self.freq_map[freq].pop(key) # remove the key from its current freq list\n",
    "\n",
    "            # if current freq list is empty after removal delete it/\n",
    "            if not self.freq_map[freq]:\n",
    "                del self.freq_map[freq]\n",
    "                # if the removed freq was the minimum freq, increment min_freq\n",
    "                if freq == self.min_freq:\n",
    "                    self.min_freq+=1\n",
    "            \n",
    "            new_freq = freq+1 # increment the frequency count of the key\n",
    "        \n",
    "        else:\n",
    "            # If adding the new key will exceed capacity, remove LFU key\n",
    "            if len(self.node_map) >= self.capacity:\n",
    "                lfu_key, _ = self.freq_map[self.min_freq].popitem(last=False) # Get and remove the LFU key\n",
    "\n",
    "                if not self.freq_map[self.min_freq]:\n",
    "                    del self.freq_map[self.min_freq]\n",
    "                self.node_map.pop(lfu_key)\n",
    "            new_freq = 1 # set freq of the new key\n",
    "            self.min_freq = 1\n",
    "\n",
    "        if new_freq not in self.freq_map:\n",
    "            self.freq_map[new_freq] = OrderedDict()\n",
    "        \n",
    "        self.freq_map[new_freq][key] = value # place the key in new freq list\n",
    "        self.node_map[key] = (value, new_freq)\n",
    "\n",
    "    # Updating an Existing Key: Updates the value and frequency of the key if it exists.\n",
    "    # Adding a New Key: If the cache is full, it evicts the least frequently used key (the LFU key) from the lowest frequency list. If the key is new, it sets its frequency to 1.\n",
    "    # Frequency Map Updates: It ensures that the key is moved to the correct frequency list in the freq_map.\n",
    "\n",
    "\n",
    "\n",
    "# Example usage\n",
    "lfu_cache = LFUCache(2)\n",
    "lfu_cache.put(1, 1)\n",
    "lfu_cache.put(2, 2)\n",
    "print(lfu_cache.get(1))  # returns 1\n",
    "lfu_cache.put(3, 3)      # evicts key 2\n",
    "print(lfu_cache.get(2))  # returns -1 (not found)\n",
    "print(lfu_cache.get(3))  # returns 3\n",
    "lfu_cache.put(4, 4)      # evicts key 1\n",
    "print(lfu_cache.get(1))  # returns -1 (not found)\n",
    "print(lfu_cache.get(3))  # returns 3\n",
    "print(lfu_cache.get(4))  # returns 4\n"
   ]
  },
  {
   "cell_type": "code",
   "execution_count": 113,
   "metadata": {},
   "outputs": [],
   "source": [
    "from typing import List"
   ]
  },
  {
   "cell_type": "code",
   "execution_count": 135,
   "metadata": {},
   "outputs": [],
   "source": [
    "def rangeSum(nums: List[int], n: int, left: int, right: int):\n",
    "\n",
    "    lst = []\n",
    "\n",
    "    for i in range(1,n+1):\n",
    "        for j in range(n-i+1):\n",
    "            # print(nums[j:j+i])\n",
    "            lst.append(sum(nums[j:j+i]))\n",
    "    \n",
    "    lst.sort()\n",
    "    # print()\n",
    "    # print(lst)\n",
    "    sm = sum(lst[left-1:right])\n",
    "    # print(sm)\n",
    "\n",
    "\n",
    "\n",
    "    return sm % ((10**9)+7)"
   ]
  },
  {
   "cell_type": "code",
   "execution_count": 136,
   "metadata": {},
   "outputs": [
    {
     "name": "stdout",
     "output_type": "stream",
     "text": [
      "[1]\n",
      "[2]\n",
      "[3]\n",
      "[4]\n",
      "[1, 2]\n",
      "[2, 3]\n",
      "[3, 4]\n",
      "[1, 2, 3]\n",
      "[2, 3, 4]\n",
      "[1, 2, 3, 4]\n",
      "\n",
      "[1, 2, 3, 3, 4, 5, 6, 7, 9, 10]\n",
      "13\n"
     ]
    },
    {
     "data": {
      "text/plain": [
       "13"
      ]
     },
     "execution_count": 136,
     "metadata": {},
     "output_type": "execute_result"
    }
   ],
   "source": [
    "nums = [1,2,3,4]\n",
    "n = 4\n",
    "left = 1\n",
    "right = 5\n",
    "rangeSum(nums, n, left, right)"
   ]
  },
  {
   "cell_type": "code",
   "execution_count": 44,
   "metadata": {},
   "outputs": [],
   "source": [
    "def lols(s):\n",
    "    if len(s)==0:\n",
    "        return 0\n",
    "    \n",
    "    mpp = [-1]*256\n",
    "    left= 0\n",
    "    right = 0\n",
    "    mx = 0\n",
    "    n = len(s)\n",
    "\n",
    "    while right<n:\n",
    "        if mpp[ord(s[right])]!=-1:\n",
    "            left = max( mpp[ord(s[right])]+1, left )\n",
    "        #     print(f\"left: {left}, s[left]: {s[left]},---------- right: {right}, s[right]: {s[right]}\")\n",
    "        # print()\n",
    "        mpp[ord(s[right])] = right\n",
    "        mx = max(mx, right-left+1)\n",
    "        right+=1\n",
    "\n",
    "    return mx\n",
    "     \n",
    "    "
   ]
  },
  {
   "cell_type": "code",
   "execution_count": 45,
   "metadata": {},
   "outputs": [
    {
     "name": "stdout",
     "output_type": "stream",
     "text": [
      "\n",
      "\n",
      "\n",
      "left: 1, s[left]: b,---------- right: 3, s[right]: a\n",
      "\n",
      "left: 2, s[left]: c,---------- right: 4, s[right]: b\n",
      "\n",
      "left: 3, s[left]: a,---------- right: 5, s[right]: c\n",
      "\n",
      "left: 5, s[left]: c,---------- right: 6, s[right]: b\n",
      "\n",
      "left: 7, s[left]: b,---------- right: 7, s[right]: b\n",
      "\n"
     ]
    },
    {
     "data": {
      "text/plain": [
       "3"
      ]
     },
     "execution_count": 45,
     "metadata": {},
     "output_type": "execute_result"
    }
   ],
   "source": [
    "s = \"abcabcbb\"\n",
    "# s = \"pwwkew\"\n",
    "# s = \"bbbbb\"\n",
    "lols(s)"
   ]
  },
  {
   "cell_type": "code",
   "execution_count": 55,
   "metadata": {},
   "outputs": [],
   "source": [
    "from typing import List\n",
    "def longestOnes(nums: List[int], k: int):\n",
    "    # left = 0\n",
    "    # right = 0\n",
    "\n",
    "    # n = len(nums)\n",
    "\n",
    "    # for right in range(n):\n",
    "    #     if nums[right]==0:\n",
    "    #         k-=1\n",
    "        \n",
    "    #     if k<0:\n",
    "    #         if nums[left]==0:\n",
    "    #             k+=1\n",
    "    #         left+=1\n",
    "    \n",
    "\n",
    "\n",
    "    # return right-left+1\n",
    "\n",
    "    zero_count = 0\n",
    "    left = right = 0\n",
    "    n = len(nums)\n",
    "    curr_sum = 0\n",
    "    ans = 0\n",
    "    while right<n:\n",
    "        if nums[right]==0:\n",
    "            zero_count+=1\n",
    "\n",
    "            while left<right and zero_count>k:\n",
    "                if nums[left]==0:\n",
    "                    zero_count-=1\n",
    "                curr_sum-=1\n",
    "                left+=1\n",
    "        \n",
    "        curr_sum+=1\n",
    "        ans = max(ans,curr_sum)\n",
    "        right+=1\n",
    "    \n",
    "    return ans\n",
    "\n"
   ]
  },
  {
   "cell_type": "code",
   "execution_count": 56,
   "metadata": {},
   "outputs": [
    {
     "data": {
      "text/plain": [
       "6"
      ]
     },
     "execution_count": 56,
     "metadata": {},
     "output_type": "execute_result"
    }
   ],
   "source": [
    "nums = [1,1,1,0,0,0,1,1,1,1,0]\n",
    "k = 2\n",
    "longestOnes(nums,k)"
   ]
  },
  {
   "cell_type": "code",
   "execution_count": 146,
   "metadata": {},
   "outputs": [],
   "source": [
    "def totalFruits(arr):\n",
    "    # Code here\n",
    "    # from collections import Counter\n",
    "    # x = Counter(arr)\n",
    "    # print(x)\n",
    "\n",
    "    # # mx2= mx1 = -1\n",
    "    # lst=[]\n",
    "    # for i in x:\n",
    "    #     lst.append([i,x[i]])\n",
    "    \n",
    "    # print(lst)\n",
    "    # lst.sort(key=lambda x:x[1], reverse=True)\n",
    "    # print(lst)\n",
    "\n",
    "\n",
    "\n",
    "    # return lst[0][1] + lst[1][1]\n",
    "    # mx_len = 0\n",
    "    # n = len(arr)\n",
    "    # for i in range(2,n+1):\n",
    "    #     for j in range(n-i+1):\n",
    "    #         # print(arr[j:j+i])\n",
    "    #         # lst.append(sum(arr[j:j+i]))\n",
    "    #         if len(arr[j:j+i])<=mx_len:\n",
    "    #             j+=1\n",
    "    #         if len(set(arr[j:j+i]))==2:\n",
    "    #             print(arr[j:j+i])\n",
    "    #             mx_len = max(mx_len, len(arr[j:j+i]))\n",
    "    \n",
    "    # return mx_len\n",
    "\n",
    "    mpp = {}\n",
    "    n = len(arr)\n",
    "    left=right=0\n",
    "    mx = 0\n",
    "\n",
    "    for right in range(n):\n",
    "        key = arr[right]\n",
    "\n",
    "        if key not in mpp:\n",
    "            mpp[key] = 0\n",
    "        mpp[key]+=1\n",
    "\n",
    "        \n",
    "        while len(mpp)>2:\n",
    "            key2 = arr[left]\n",
    "            mpp[key2] = mpp[key2]-1\n",
    "\n",
    "            if mpp[key2]==0:\n",
    "                del mpp[key2]\n",
    "\n",
    "            left+=1\n",
    "        \n",
    "        curr = right-left+1\n",
    "        mx = max(mx, curr)\n",
    "\n",
    "    print(mpp, mx)\n",
    "\n"
   ]
  },
  {
   "cell_type": "code",
   "execution_count": 147,
   "metadata": {},
   "outputs": [
    {
     "name": "stdout",
     "output_type": "stream",
     "text": [
      "{3: 2, 4: 1} 5\n"
     ]
    }
   ],
   "source": [
    "# arr = [3, 1, 2, 2, 2, 2]\n",
    "arr = [3,3,3,1,2,1,1,2,3,3,4]\n",
    "# arr = [2, 1, 2]\n",
    "totalFruits(arr)"
   ]
  },
  {
   "cell_type": "code",
   "execution_count": 163,
   "metadata": {},
   "outputs": [],
   "source": [
    "def charRep(s,k):\n",
    "    arr = list(s)\n",
    "    mpp = {}\n",
    "    n = len(arr)\n",
    "    left=right=0\n",
    "    mx = 0\n",
    "\n",
    "    for right in range(n):\n",
    "        key = arr[right]\n",
    "        if key not in mpp:\n",
    "            mpp[key]=0\n",
    "        mpp[key]+=1\n",
    "\n",
    "        curr_len = right-left+1 # len of window\n",
    "        # print(mpp, mpp.values())\n",
    "\n",
    "        if curr_len - max(mpp.values()) > k: # flips made by char which is not max in freq\n",
    "            key2= arr[left]\n",
    "            mpp[key2]-=1\n",
    "            if mpp[key2]==0:\n",
    "                del mpp[key2]\n",
    "            left+=1\n",
    "        \n",
    "        else:\n",
    "            mx = max(mx, curr_len)\n",
    " \n",
    "    return mx\n"
   ]
  },
  {
   "cell_type": "code",
   "execution_count": 164,
   "metadata": {},
   "outputs": [
    {
     "data": {
      "text/plain": [
       "4"
      ]
     },
     "execution_count": 164,
     "metadata": {},
     "output_type": "execute_result"
    }
   ],
   "source": [
    "s = \"AABABBA\"\n",
    "k = 1\n",
    "charRep(s,k)"
   ]
  },
  {
   "cell_type": "code",
   "execution_count": 189,
   "metadata": {},
   "outputs": [],
   "source": [
    "def numSubarraysWithSum(nums: List[int], goal: int):\n",
    "    # n  = len(nums)\n",
    "    # # lst =[]\n",
    "    # ct = 0\n",
    "    # for i in range(goal,n+1):\n",
    "    #     for j in range(n-i+1):\n",
    "    #         sa = nums[j:j+i]\n",
    "    #         # lst.append(sum(nums[j:j+i]))\n",
    "    #         if sum(sa)==goal:\n",
    "    #             ct+=1\n",
    "    #             print(sa)\n",
    "            \n",
    "\n",
    "    # print(lst)\n",
    "\n",
    "    count = 0\n",
    "    prefix_sum = 0\n",
    "    sum_count = {0:1}\n",
    "\n",
    "    for num in nums:\n",
    "        prefix_sum += num\n",
    "\n",
    "        if prefix_sum - goal in sum_count:\n",
    "            count += sum_count[prefix_sum-goal]\n",
    "        \n",
    "        sum_count[prefix_sum] = sum_count.get(prefix_sum,0)+1\n",
    "\n",
    "\n",
    "\n",
    "\n",
    "\n",
    "    return count"
   ]
  },
  {
   "cell_type": "code",
   "execution_count": 190,
   "metadata": {},
   "outputs": [
    {
     "data": {
      "text/plain": [
       "4"
      ]
     },
     "execution_count": 190,
     "metadata": {},
     "output_type": "execute_result"
    }
   ],
   "source": [
    "nums = [1,0,1,0,1]\n",
    "goal = 2\n",
    "\n",
    "# nums = [0,0,0,0,0]\n",
    "# goal = 0\n",
    "numSubarraysWithSum(nums,goal)"
   ]
  },
  {
   "cell_type": "code",
   "execution_count": 167,
   "metadata": {},
   "outputs": [
    {
     "data": {
      "text/plain": [
       "0"
      ]
     },
     "execution_count": 167,
     "metadata": {},
     "output_type": "execute_result"
    }
   ],
   "source": [
    "arr = []\n",
    "sum(arr)"
   ]
  },
  {
   "cell_type": "code",
   "execution_count": 199,
   "metadata": {},
   "outputs": [],
   "source": [
    "def numberOfSubarrays(nums: List[int], k: int):\n",
    "    # Just convert the odd numbers to 1 and even to zero\n",
    "    lst=[]\n",
    "    for i in range(len(nums)):\n",
    "        if nums[i]%2==0:\n",
    "            lst.append(0)\n",
    "        else:\n",
    "            lst.append(1)\n",
    "    \n",
    "    print(nums, lst)\n",
    "\n",
    "    return \n",
    "\n",
    "\n",
    "\n",
    "    return"
   ]
  },
  {
   "cell_type": "code",
   "execution_count": 200,
   "metadata": {},
   "outputs": [
    {
     "name": "stdout",
     "output_type": "stream",
     "text": [
      "[1, 1, 2, 1, 1] [1, 1, 0, 1, 1]\n"
     ]
    }
   ],
   "source": [
    "nums = [1,1,2,1,1]\n",
    "k = 3\n",
    "numberOfSubarrays(nums,k)"
   ]
  },
  {
   "cell_type": "code",
   "execution_count": 246,
   "metadata": {},
   "outputs": [],
   "source": [
    "def maxScore(arr,k):\n",
    "    n = len(arr)\n",
    "    if k==n:\n",
    "        return sum(arr)\n",
    "    # if k==1:\n",
    "    #     return max(arr)\n",
    "    \n",
    "    a = k\n",
    "    b=n\n",
    "    res = 0\n",
    "    for i in range(k+1):\n",
    "        # lst = []\n",
    "        left = arr[:a]\n",
    "        a-=1\n",
    "        # print(left)\n",
    "        right = arr[b-i:]\n",
    "        # print(right)\n",
    "\n",
    "        # print(right,\" + \",left)\n",
    "        # lst = right+left\n",
    "        # print(lst)\n",
    "        res = max(res, sum(right+left))\n",
    "\n",
    "\n",
    "    return res"
   ]
  },
  {
   "cell_type": "code",
   "execution_count": 247,
   "metadata": {},
   "outputs": [
    {
     "data": {
      "text/plain": [
       "232"
      ]
     },
     "execution_count": 247,
     "metadata": {},
     "output_type": "execute_result"
    }
   ],
   "source": [
    "# cardPoints = [1,2,3,4,5,6,1]\n",
    "# k = 3\n",
    "\n",
    "# cardPoints = [2,2,2]\n",
    "# k = 2\n",
    "\n",
    "cardPoints = [11,49,100,20,86,29,72]\n",
    "k = 4\n",
    "\n",
    "maxScore(cardPoints,k)"
   ]
  },
  {
   "cell_type": "code",
   "execution_count": 250,
   "metadata": {},
   "outputs": [
    {
     "name": "stdout",
     "output_type": "stream",
     "text": [
      "72 20\n"
     ]
    }
   ],
   "source": [
    "print(cardPoints[-1] , cardPoints[k-1])"
   ]
  },
  {
   "cell_type": "code",
   "execution_count": 251,
   "metadata": {},
   "outputs": [
    {
     "data": {
      "text/plain": [
       "2"
      ]
     },
     "execution_count": 251,
     "metadata": {},
     "output_type": "execute_result"
    }
   ],
   "source": [
    "arr =[1,2,3,4,5,6,1]\n",
    "arr.count(1)"
   ]
  },
  {
   "cell_type": "code",
   "execution_count": 256,
   "metadata": {},
   "outputs": [],
   "source": [
    "def subkdiff(arr,k):\n",
    "    mpp = {}\n",
    "    left = 0\n",
    "    n = len(arr)\n",
    "    ct=0\n",
    "\n",
    "    for right in range(n):\n",
    "        if arr[right] not in mpp:\n",
    "            mpp[arr[right]] = 0\n",
    "        mpp[arr[right]] += 1\n",
    "\n",
    "        while len(mpp)>k and left<=right:\n",
    "            mpp[arr[left]] -=1\n",
    "            if mpp[arr[left]]==0:\n",
    "                del mpp[arr[left]]\n",
    "            left += 1\n",
    "        ct+= right - left+1\n",
    "\n",
    "\n",
    "    return ct"
   ]
  },
  {
   "cell_type": "code",
   "execution_count": 257,
   "metadata": {},
   "outputs": [
    {
     "data": {
      "text/plain": [
       "5"
      ]
     },
     "execution_count": 257,
     "metadata": {},
     "output_type": "execute_result"
    }
   ],
   "source": [
    "nums = [1,2,1,2,3]\n",
    "k = 2\n",
    "subkdiff(nums,k)"
   ]
  },
  {
   "cell_type": "code",
   "execution_count": 266,
   "metadata": {},
   "outputs": [],
   "source": [
    "def minWindow(s,t):\n",
    "    from collections import Counter\n",
    "    if not s or not t:\n",
    "        return \"\"\n",
    "    \n",
    "    t_count = Counter(t)\n",
    "    # print(t_count)\n",
    "\n",
    "    left = right = 0\n",
    "    req_char = len(t)\n",
    "    min_len = float(\"inf\")\n",
    "    min_window_start = 0\n",
    "\n",
    "    while right < len(s):\n",
    "        # if the current char is in t, decrement the required count\n",
    "        if t_count[s[right]]>0:\n",
    "            req_char -= 1\n",
    "        \n",
    "        # Decrease the freq of the current char in t_count\n",
    "        t_count[s[right]] -= 1\n",
    "        right+=1\n",
    "\n",
    "        # check if all chars from t are included in the window\n",
    "        while req_char==0:\n",
    "            # update the minimum window size\n",
    "            if right-left<min_len:\n",
    "                min_len = right-left\n",
    "                min_window_start = left\n",
    "            \n",
    "            t_count[s[left]] += 1\n",
    "\n",
    "            # if the char at left is in t, increment the req count\n",
    "            if t_count[s[left]] > 0:\n",
    "                req_char += 1\n",
    "            \n",
    "            left += 1\n",
    "        \n",
    "\n",
    "    return \"\" if min_len==float(\"inf\") else s[min_window_start:min_window_start+min_len]\n"
   ]
  },
  {
   "cell_type": "code",
   "execution_count": 267,
   "metadata": {},
   "outputs": [
    {
     "name": "stdout",
     "output_type": "stream",
     "text": [
      "Counter({'A': 1, 'B': 1, 'C': 1})\n"
     ]
    },
    {
     "data": {
      "text/plain": [
       "'BANC'"
      ]
     },
     "execution_count": 267,
     "metadata": {},
     "output_type": "execute_result"
    }
   ],
   "source": [
    "s = \"ADOBECODEBANC\"\n",
    "t = \"ABC\"\n",
    "\n",
    "minWindow(s,t)"
   ]
  },
  {
   "cell_type": "code",
   "execution_count": 290,
   "metadata": {},
   "outputs": [],
   "source": [
    "def minimumPushes(word):\n",
    "    from collections import Counter\n",
    "    x = Counter(word)\n",
    "    # print(x)\n",
    "    lst = []\n",
    "    for i in x:\n",
    "        lst.append([i,x[i]])\n",
    "    # print(lst)\n",
    "    lst.sort(key=lambda x:x[1], reverse=True)\n",
    "    # print(lst)\n",
    "    cnt = 0\n",
    "    res = 0\n",
    "    press = 0\n",
    "\n",
    "    while lst:\n",
    "        run = cnt//8 + 1\n",
    "        # print(run)\n",
    "        press += lst[0][1]*run\n",
    "        lst.pop(0)\n",
    "        cnt+=1\n",
    "\n",
    "    return press"
   ]
  },
  {
   "cell_type": "code",
   "execution_count": 293,
   "metadata": {},
   "outputs": [
    {
     "name": "stdout",
     "output_type": "stream",
     "text": [
      "[['a', 1], ['b', 1], ['c', 1], ['d', 1], ['e', 1]]\n",
      "[['a', 1], ['b', 1], ['c', 1], ['d', 1], ['e', 1]]\n",
      "1\n",
      "1\n",
      "1\n",
      "1\n",
      "1\n"
     ]
    },
    {
     "data": {
      "text/plain": [
       "5"
      ]
     },
     "execution_count": 293,
     "metadata": {},
     "output_type": "execute_result"
    }
   ],
   "source": [
    "# word = \"aabbccddeeffgghhiiiiii\"\n",
    "# word = \"xyzxyzxyzxyz\"\n",
    "word = \"abcde\"\n",
    "minimumPushes(word)"
   ]
  },
  {
   "cell_type": "code",
   "execution_count": 300,
   "metadata": {},
   "outputs": [],
   "source": [
    "def func2(arr):\n",
    "    arr2 = sorted(arr)\n",
    "    print(arr2)\n",
    "    arr3 = []\n",
    "    for i in arr2:\n",
    "        if i not in arr3:\n",
    "            arr3.append(i)\n",
    "\n",
    "    lst = [arr3.index(i)+1 for i in arr ]\n",
    "    print(lst)"
   ]
  },
  {
   "cell_type": "code",
   "execution_count": 301,
   "metadata": {},
   "outputs": [
    {
     "name": "stdout",
     "output_type": "stream",
     "text": [
      "[2, 6, 15, 20, 26, 98]\n",
      "[4, 3, 5, 1, 6, 2]\n"
     ]
    }
   ],
   "source": [
    "arr = [20, 15, 26, 2, 98, 6]\n",
    "func2(arr)"
   ]
  },
  {
   "cell_type": "code",
   "execution_count": 343,
   "metadata": {},
   "outputs": [],
   "source": [
    "def hand(arr,k):\n",
    "    arr.sort()\n",
    "    print(arr)\n",
    "    if len(arr)%k!=0:\n",
    "        return False\n",
    "    \n",
    "    lst = [[None]*k for _ in range(len(arr)//k)]\n",
    "\n",
    "    lst[0][0] = arr[0]\n",
    "    arr.pop(0)\n",
    "    print(lst)\n",
    "    print()\n",
    "    for i in range(len(lst)):\n",
    "        print(lst)\n",
    "        if i==0:\n",
    "            for j in range(1,k):\n",
    "                # print(lst, j)\n",
    "                x = lst[0][j-1]+1\n",
    "                if x in arr:\n",
    "                    lst[0][j] = x\n",
    "                    arr.remove(x)\n",
    "                else:\n",
    "                    return False\n",
    "\n",
    "\n",
    "\n",
    "        else:\n",
    "            print(\"-\"*50)\n",
    "            print(arr)\n",
    "            lst[i][0]  = arr[0]\n",
    "            arr.pop(0)\n",
    "            for j in range(1,k):\n",
    "                if lst[i][j-1]+1 in arr:\n",
    "                    lst[i][j] = lst[i][j-1]+1\n",
    "                    arr.remove(lst[i][j-1]+1)\n",
    "                else:\n",
    "                    return False\n",
    "\n",
    "    print(lst)\n",
    "\n",
    "\n",
    "\n",
    "    return True"
   ]
  },
  {
   "cell_type": "code",
   "execution_count": 344,
   "metadata": {},
   "outputs": [
    {
     "name": "stdout",
     "output_type": "stream",
     "text": [
      "[1, 2, 2, 3, 3, 4, 6, 7, 8]\n",
      "[[1, None, None], [None, None, None], [None, None, None]]\n",
      "\n",
      "[[1, None, None], [None, None, None], [None, None, None]]\n",
      "[[1, 2, 3], [None, None, None], [None, None, None]]\n",
      "--------------------------------------------------\n",
      "[2, 3, 4, 6, 7, 8]\n",
      "[[1, 2, 3], [2, 3, 4], [None, None, None]]\n",
      "--------------------------------------------------\n",
      "[6, 7, 8]\n",
      "[[1, 2, 3], [2, 3, 4], [6, 7, 8]]\n"
     ]
    }
   ],
   "source": [
    "arr = [1,2,3,6,2,3,4,7,8]\n",
    "k = 3\n",
    "hand(arr,k)"
   ]
  },
  {
   "cell_type": "code",
   "execution_count": 353,
   "metadata": {},
   "outputs": [],
   "source": [
    "def cool(arr,n):\n",
    "    from collections import Counter\n",
    "    # count freq of task\n",
    "    task_count = Counter(arr)\n",
    "    # print(task_count.values())\n",
    "    max_count = max(task_count.values())\n",
    "\n",
    "    # calculate the no. of tasks that have maximum count\n",
    "    max_count_tasks = sum([1 for count in task_count.values() if count == max_count])\n",
    "    # print(max_count_tasks)\n",
    "\n",
    "    # calculate number of intervals needed for tasks with cooling time\n",
    "\n",
    "    intervals_needed = (max_count-1) * (n+1) + max_count_tasks\n",
    "    \n",
    "    return max( intervals_needed, len(arr))"
   ]
  },
  {
   "cell_type": "code",
   "execution_count": 354,
   "metadata": {},
   "outputs": [
    {
     "data": {
      "text/plain": [
       "10"
      ]
     },
     "execution_count": 354,
     "metadata": {},
     "output_type": "execute_result"
    }
   ],
   "source": [
    "tasks = [\"A\",\"A\",\"A\", \"B\",\"B\",\"B\"]\n",
    "n = 3\n",
    "cool(tasks,n)"
   ]
  },
  {
   "cell_type": "code",
   "execution_count": 371,
   "metadata": {},
   "outputs": [],
   "source": [
    "def solve(A, B, C):\n",
    "    lst = []\n",
    "    k = 0\n",
    "    \n",
    "    for i in range(len(A)):\n",
    "        for j in range(len(B)):\n",
    "            lst.append(A[i]+B[j])\n",
    "            # k+=1\n",
    "            # print(lst,k)\n",
    "            # if k==C:\n",
    "            #     lst.sort(reverse=True)\n",
    "            #     return lst\n",
    "    lst.sort(reverse=True)\n",
    "    return lst[:C]"
   ]
  },
  {
   "cell_type": "code",
   "execution_count": 372,
   "metadata": {},
   "outputs": [
    {
     "data": {
      "text/plain": [
       "[192, 189, 189, 188, 188, 188, 188, 186, 185, 185]"
      ]
     },
     "execution_count": 372,
     "metadata": {},
     "output_type": "execute_result"
    }
   ],
   "source": [
    "# A =[ 68, 35 ]\n",
    "# B =[ 68, 35 ]\n",
    "# C =1\n",
    "\n",
    "A = [ 59, 63, 65, 6, 46, 82, 28, 62, 92, 96, 43, 28, 37, 92, 5, 3, 54, 93, 83 ]\n",
    "B = [ 59, 63, 65, 6, 46, 82, 28, 62, 92, 96, 43, 28, 37, 92, 5, 3, 54, 93, 83 ]\n",
    "C = 10\n",
    "solve(A,B,C)"
   ]
  },
  {
   "cell_type": "code",
   "execution_count": 400,
   "metadata": {},
   "outputs": [],
   "source": [
    "def fractionalknapsack( w,arr,n,weight):\n",
    "    lst = []\n",
    "    for i in range(n):\n",
    "        # print(arr[i])\n",
    "        lst.append([arr[i],weight[i], arr[i]/weight[i]])\n",
    "    \n",
    "    lst.sort(key=lambda x:x[2], reverse=True)\n",
    "\n",
    "    print(lst)\n",
    "\n",
    "    profit=0\n",
    "    i = 0\n",
    "    while w>0 and i<n:\n",
    "        val, wgt, prior = lst[i]\n",
    "        print(val, wgt, prior)\n",
    "        i+=1\n",
    "\n",
    "        if wgt<w:\n",
    "            profit += val\n",
    "            w -= wgt\n",
    "        else:\n",
    "            profit += (w/wgt)*val\n",
    "            w=0\n",
    "\n",
    "    return profit"
   ]
  },
  {
   "cell_type": "code",
   "execution_count": 401,
   "metadata": {},
   "outputs": [
    {
     "name": "stdout",
     "output_type": "stream",
     "text": [
      "[[60, 10, 6.0], [100, 20, 5.0], [120, 30, 4.0]]\n",
      "60 10 6.0\n",
      "100 20 5.0\n",
      "120 30 4.0\n"
     ]
    },
    {
     "data": {
      "text/plain": [
       "240.0"
      ]
     },
     "execution_count": 401,
     "metadata": {},
     "output_type": "execute_result"
    }
   ],
   "source": [
    "n = 3\n",
    "w = 50\n",
    "value= [60,100,120]\n",
    "weight = [10,20,30]\n",
    "fractionalknapsack( w,value,n,weight)"
   ]
  },
  {
   "cell_type": "code",
   "execution_count": 411,
   "metadata": {},
   "outputs": [],
   "source": [
    "def para(s):\n",
    "\n",
    "    l,r,star =0,0,0\n",
    "    for i in s:\n",
    "        if i==\"(\":\n",
    "            l+=1\n",
    "        elif i==\")\":\n",
    "            r+=1\n",
    "        else:\n",
    "            star+=1\n",
    "\n",
    "    print(l,r,star)\n",
    "\n",
    "    if l==r:\n",
    "        return True\n",
    "    elif abs(l-r) - star==0:\n",
    "        return True\n",
    "\n",
    "    return False"
   ]
  },
  {
   "cell_type": "code",
   "execution_count": 413,
   "metadata": {},
   "outputs": [
    {
     "name": "stdout",
     "output_type": "stream",
     "text": [
      "1 2 1\n"
     ]
    },
    {
     "data": {
      "text/plain": [
       "True"
      ]
     },
     "execution_count": 413,
     "metadata": {},
     "output_type": "execute_result"
    }
   ],
   "source": [
    "# s = \"()\"\n",
    "# s= \"(*)\"\n",
    "s = \"(*))\"\n",
    "# s=\"((((()(()()()*()(((((*)()*(**(())))))(())()())(((())())())))))))(((((())*)))()))(()((*()*(*)))(*)()\"\n",
    "para(s)"
   ]
  },
  {
   "cell_type": "code",
   "execution_count": 434,
   "metadata": {},
   "outputs": [],
   "source": [
    "def coinChange(coins: List[int], amount: int) -> int:\n",
    "    if amount==0:\n",
    "        return 0\n",
    "    \n",
    "    cnt = 0\n",
    "    coins.sort(reverse=True)\n",
    "    print(coins)\n",
    "    lst =[]\n",
    "    for i in range(len(coins)):\n",
    "        while amount>=coins[i]:\n",
    "            amount-=coins[i]\n",
    "            lst.append(coins[i])\n",
    "    print(lst)\n",
    "    print(amount)\n",
    "    return len(lst)\n",
    "\n",
    "    "
   ]
  },
  {
   "cell_type": "code",
   "execution_count": 435,
   "metadata": {},
   "outputs": [
    {
     "name": "stdout",
     "output_type": "stream",
     "text": [
      "[419, 408, 186, 83]\n",
      "[419, 419, 419, 419, 419, 419, 419, 419, 419, 419, 419, 419, 419, 419, 186, 186]\n",
      "11\n"
     ]
    },
    {
     "data": {
      "text/plain": [
       "16"
      ]
     },
     "execution_count": 435,
     "metadata": {},
     "output_type": "execute_result"
    }
   ],
   "source": [
    "coins = [186,419,83,408]\n",
    "amount = 6249\n",
    "coinChange(coins, amount)"
   ]
  },
  {
   "cell_type": "code",
   "execution_count": 464,
   "metadata": {},
   "outputs": [],
   "source": [
    "def magic(grid):\n",
    "\n",
    "    def isMagic(i,j):\n",
    "        once = [False]*10\n",
    "        rowSum = [0]*3\n",
    "        colSum = [0]*3\n",
    "\n",
    "        for a in range(i-1, i+2):\n",
    "            for b in range(j-1, j+2):\n",
    "                # print(grid[a][b] ,end= \" \")\n",
    "                x = grid[i][j]\n",
    "                if x<1 or x>9:\n",
    "                    return False\n",
    "\n",
    "                rowSum[a-i+1]+=x\n",
    "                colSum[b-j+1]+=x\n",
    "\n",
    "                if once[x]:\n",
    "                    return False # it's not unique\n",
    "                once[x]=True\n",
    "\n",
    "        \n",
    "        for b in once[1:]:\n",
    "            if not b: return False\n",
    "        \n",
    "        for sm in rowSum:\n",
    "            if sm!=15: return False\n",
    "        \n",
    "        for sm in colSum:\n",
    "            if sm!=15: return False\n",
    "        \n",
    "        return grid[i-1][j-1] + grid[i+1][j+1] == 10 and grid[i+1][j-1] + grid[i-1][j+1] == 10\n",
    "\n",
    "    # for i in grid:\n",
    "    #     print(i)\n",
    "    \n",
    "    # print(\"-\"*50)\n",
    "\n",
    "    n = len(grid)\n",
    "    m = len(grid[0])\n",
    "\n",
    "    if n<3 or m<3:\n",
    "        return 0\n",
    "    \n",
    "    cnt = 0\n",
    "    for i in range(1,n-1):\n",
    "        for j in range(1,m-1):\n",
    "            if grid[i][j]==5 and isMagic(i,j):\n",
    "            # isMagic(i,j)\n",
    "            # print()\n",
    "                cnt+=1\n",
    "   \n",
    "\n",
    "    return cnt"
   ]
  },
  {
   "cell_type": "code",
   "execution_count": 465,
   "metadata": {},
   "outputs": [
    {
     "data": {
      "text/plain": [
       "0"
      ]
     },
     "execution_count": 465,
     "metadata": {},
     "output_type": "execute_result"
    }
   ],
   "source": [
    "grid = [[4,3,8,4],[9,5,1,9],[2,7,6,2], [4,3,8,4]]\n",
    "magic(grid)"
   ]
  },
  {
   "cell_type": "code",
   "execution_count": 478,
   "metadata": {},
   "outputs": [],
   "source": [
    "def minimumPlatform(arr,dep):\n",
    "    arr.sort()\n",
    "    dep.sort()\n",
    "    # print(arr,dep)\n",
    "    max_plt=1\n",
    "    cnt = 0\n",
    "    i=j=0\n",
    "    while i<len(arr):\n",
    "        if arr[i]<=dep[j]:\n",
    "            cnt+=1\n",
    "            i+=1\n",
    "        else:\n",
    "            cnt -= 1\n",
    "            j+=1\n",
    "        max_plt = max(max_plt, cnt)\n",
    "\n",
    "\n",
    "\n",
    "    return max_plt"
   ]
  },
  {
   "cell_type": "code",
   "execution_count": 479,
   "metadata": {},
   "outputs": [
    {
     "data": {
      "text/plain": [
       "3"
      ]
     },
     "execution_count": 479,
     "metadata": {},
     "output_type": "execute_result"
    }
   ],
   "source": [
    "arr = [900, 940, 950, 1100, 1500, 1800]\n",
    "dep = [910, 1200, 1120, 1130, 1900, 2000]\n",
    "minimumPlatform(arr,dep)"
   ]
  },
  {
   "cell_type": "code",
   "execution_count": null,
   "metadata": {},
   "outputs": [],
   "source": []
  }
 ],
 "metadata": {
  "kernelspec": {
   "display_name": "base",
   "language": "python",
   "name": "python3"
  },
  "language_info": {
   "codemirror_mode": {
    "name": "ipython",
    "version": 3
   },
   "file_extension": ".py",
   "mimetype": "text/x-python",
   "name": "python",
   "nbconvert_exporter": "python",
   "pygments_lexer": "ipython3",
   "version": "3.8.0"
  }
 },
 "nbformat": 4,
 "nbformat_minor": 2
}
