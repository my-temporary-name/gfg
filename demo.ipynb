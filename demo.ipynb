{
 "cells": [
  {
   "cell_type": "code",
   "execution_count": 231,
   "metadata": {},
   "outputs": [],
   "source": [
    "from typing import List\n",
    "from collections import Counter, defaultdict"
   ]
  },
  {
   "cell_type": "code",
   "execution_count": 239,
   "metadata": {},
   "outputs": [],
   "source": [
    "def romanToInt(s: str) -> int:\n",
    "    # mpp = {1: 'I', 5: 'V', 10: 'X', 50: 'L', 100: 'C', 500: 'D', 1000: 'M'}\n",
    "    mpp = {'I': 1, 'V': 5, 'X': 10, 'L': 50, 'C': 100, 'D': 500, 'M': 1000}\n",
    "    # print(f\"Map of Roman to Int: {mpp}\")\n",
    "    int_val = 0\n",
    "\n",
    "    for i in range(len(s)):\n",
    "        if i>0 and mpp[s[i]] > mpp[s[i-1]]:\n",
    "            int_val+= mpp[s[i]] - 2*mpp[s[i-1]]\n",
    "        else:\n",
    "            int_val += mpp[s[i]]\n",
    "\n",
    "    return int_val"
   ]
  },
  {
   "cell_type": "code",
   "execution_count": 240,
   "metadata": {},
   "outputs": [
    {
     "name": "stdout",
     "output_type": "stream",
     "text": [
      "String is MCMXCIV\n",
      "\n",
      "Map of Roman to Int: {'I': 1, 'V': 5, 'X': 10, 'L': 50, 'C': 100, 'D': 500, 'M': 1000}\n"
     ]
    },
    {
     "data": {
      "text/plain": [
       "1994"
      ]
     },
     "execution_count": 240,
     "metadata": {},
     "output_type": "execute_result"
    }
   ],
   "source": [
    "s = \"MCMXCIV\"\n",
    "print(f\"String is {s}\\n\")\n",
    "romanToInt(s)"
   ]
  },
  {
   "cell_type": "code",
   "execution_count": null,
   "metadata": {},
   "outputs": [],
   "source": []
  },
  {
   "cell_type": "code",
   "execution_count": 4,
   "metadata": {},
   "outputs": [
    {
     "name": "stdout",
     "output_type": "stream",
     "text": [
      "Original Linked List: 1 2 3 4 5 \n",
      "3 5\n",
      "Updated Linked List: 1 2 4 5 \n"
     ]
    }
   ],
   "source": [
    "\n",
    "class Node:\n",
    "    def __init__(self, data, next_node=None):\n",
    "        # Data stored in the node\n",
    "        self.data = data       \n",
    "        # Pointer to the next node in the list\n",
    "        self.next = next_node  \n",
    "\n",
    "# Function to delete the middle\n",
    "# node of a linked list\n",
    "def delete_middle(head):\n",
    "    \"\"\"\n",
    "    If the list is empty or has only one node,\n",
    "    return None as there is no middle node to delete\n",
    "    \"\"\"\n",
    "    if not head or not head.next:\n",
    "        return None\n",
    "    \n",
    "    slow = fast = head\n",
    "    # fast = fast.next\n",
    "    while fast and fast.next:\n",
    "        slow = slow.next\n",
    "        fast = fast.next.next\n",
    "    \n",
    "    print(slow.data, fast.data)\n",
    "    slow.data = slow.next.data\n",
    "    slow.next = slow.next.next\n",
    "    return head\n",
    "    \n",
    "\n",
    "def print_linked_list(head):\n",
    "    temp = head\n",
    "    while temp:\n",
    "        print(temp.data, end=\" \")\n",
    "        temp = temp.next\n",
    "    print()\n",
    "\n",
    "# Creating a sample linked list\n",
    "head = Node(1)\n",
    "head.next = Node(2)\n",
    "head.next.next = Node(3)\n",
    "head.next.next.next = Node(4)\n",
    "head.next.next.next.next = Node(5)\n",
    "\n",
    "# Display the original linked list\n",
    "print(\"Original Linked List: \", end=\"\")\n",
    "print_linked_list(head)\n",
    "\n",
    "# Deleting the middle node\n",
    "head = delete_middle(head)\n",
    "\n",
    "# Displaying the updated linked list\n",
    "print(\"Updated Linked List: \", end=\"\")\n",
    "print_linked_list(head)"
   ]
  },
  {
   "cell_type": "code",
   "execution_count": null,
   "metadata": {},
   "outputs": [],
   "source": [
    "# Node class represents a\n",
    "# node in a linked list\n",
    "class Node:\n",
    "    def __init__(self, data1, next1=None):\n",
    "        # Data stored in the node\n",
    "        self.data = data1\n",
    "        \n",
    "        # Pointer to the next node in the list\n",
    "        self.next = next1\n",
    "\n",
    "\n",
    "# Function to perform merge sort on a linked list\n",
    "def sortLL(head):\n",
    "\n",
    "    \n",
    "\n",
    "\n",
    "\n",
    "    return\n",
    "\n",
    "\n",
    "# Function to print the linked list\n",
    "def printLinkedList(head):\n",
    "    temp = head\n",
    "    while temp is not None:\n",
    "        # Print the data of the current node\n",
    "        print(temp.data, end=\" \")\n",
    "        # Move to the next node\n",
    "        temp = temp.next\n",
    "    print()\n",
    "\n",
    "# Linked List: 3 2 5 4 1\n",
    "head = Node(3)\n",
    "head.next = Node(2)\n",
    "head.next.next = Node(5)\n",
    "head.next.next.next = Node(4)\n",
    "head.next.next.next.next = Node(1)\n",
    "\n",
    "print(\"Original Linked List: \", end=\"\")\n",
    "printLinkedList(head)\n",
    "\n",
    "# Sort the linked list\n",
    "head = sortLL(head)\n",
    "\n",
    "print(\"Sorted Linked List: \", end=\"\")\n",
    "printLinkedList(head)"
   ]
  },
  {
   "cell_type": "code",
   "execution_count": 30,
   "metadata": {},
   "outputs": [],
   "source": [
    "from typing import List\n",
    "def luckyNumbers (matrix: List[List[int]]) -> List[int]:\n",
    "    n = len(matrix)\n",
    "    m = len(matrix[0])\n",
    "    \n",
    "    col = [0]*m\n",
    "\n",
    "    for i in range(n):\n",
    "        x = min(matrix[i])\n",
    "        idx = matrix[i].index(x)\n",
    "        if col[idx]!=0:\n",
    "            col[idx] = max(col[idx],x)\n",
    "        else:\n",
    "            col[idx] = x\n",
    "    \n",
    "    print(col)\n",
    "\n",
    "    lucy = []\n",
    "\n",
    "    for i in range(m):\n",
    "        if col[i]==0:\n",
    "            continue\n",
    "        maxi = col[i]\n",
    "        # print(maxi)\n",
    "        for j in range(n):\n",
    "            val = matrix[j][i]\n",
    "            maxi = max(val,maxi)\n",
    "        \n",
    "        # print(maxi)\n",
    "\n",
    "        if maxi==col[i]:\n",
    "            lucy.append(col[i])\n",
    "    \n",
    "    return lucy"
   ]
  },
  {
   "cell_type": "code",
   "execution_count": 33,
   "metadata": {},
   "outputs": [
    {
     "name": "stdout",
     "output_type": "stream",
     "text": [
      "[15, 0, 0]\n"
     ]
    },
    {
     "data": {
      "text/plain": [
       "[15]"
      ]
     },
     "execution_count": 33,
     "metadata": {},
     "output_type": "execute_result"
    }
   ],
   "source": [
    "# matrix = [[1,10,4,2],[9,3,8,7],[15,16,17,12]]\n",
    "matrix = [[3,7,8],[9,11,13],[15,16,17]]\n",
    "# matrix = [[7,8],[1,2]]\n",
    "luckyNumbers(matrix)"
   ]
  },
  {
   "cell_type": "code",
   "execution_count": 36,
   "metadata": {},
   "outputs": [
    {
     "name": "stdout",
     "output_type": "stream",
     "text": [
      "[0, 1, 1, 2, 2, 2, 2, 2]\n"
     ]
    }
   ],
   "source": [
    "lst = [1, 2, 2, 1, 2, 0, 2, 2]\n",
    "n = len(lst)\n",
    "start = 0\n",
    "mid = 0\n",
    "end = n-1\n",
    "\n",
    "while mid<=end:\n",
    "    if lst[mid]==0:\n",
    "        lst[mid], lst[start] = lst[start] , lst[mid]\n",
    "        start+=1\n",
    "        mid+=1\n",
    "    elif lst[mid] == 1:\n",
    "        mid+=1\n",
    "    else:\n",
    "        lst[mid], lst[end] = lst[end], lst[mid]\n",
    "        end-=1\n",
    "\n",
    "print(lst)\n",
    "    "
   ]
  },
  {
   "cell_type": "code",
   "execution_count": 45,
   "metadata": {},
   "outputs": [
    {
     "name": "stdout",
     "output_type": "stream",
     "text": [
      "10 20 30 40 50 60 70 80 \n",
      "prev is 30\n",
      "prev is 60\n",
      "first is None.key\n",
      "prev is 80\n"
     ]
    },
    {
     "ename": "AttributeError",
     "evalue": "'NoneType' object has no attribute 'next'",
     "output_type": "error",
     "traceback": [
      "\u001b[1;31m---------------------------------------------------------------------------\u001b[0m",
      "\u001b[1;31mAttributeError\u001b[0m                            Traceback (most recent call last)",
      "Cell \u001b[1;32mIn[45], line 61\u001b[0m\n\u001b[0;32m     56\u001b[0m head\u001b[38;5;241m.\u001b[39mnext\u001b[38;5;241m.\u001b[39mnext\u001b[38;5;241m.\u001b[39mnext\u001b[38;5;241m.\u001b[39mnext\u001b[38;5;241m.\u001b[39mnext\u001b[38;5;241m.\u001b[39mnext\u001b[38;5;241m.\u001b[39mnext \u001b[38;5;241m=\u001b[39m Node(\u001b[38;5;241m80\u001b[39m)\n\u001b[0;32m     59\u001b[0m printList(head)\n\u001b[1;32m---> 61\u001b[0m head \u001b[38;5;241m=\u001b[39m iteRevK(head,\u001b[38;5;241m3\u001b[39m)\n\u001b[0;32m     63\u001b[0m printList(head)\n",
      "Cell \u001b[1;32mIn[45], line 42\u001b[0m, in \u001b[0;36miteRevK\u001b[1;34m(head, k)\u001b[0m\n\u001b[0;32m     40\u001b[0m \u001b[38;5;28;01melse\u001b[39;00m:\n\u001b[0;32m     41\u001b[0m     \u001b[38;5;28mprint\u001b[39m(\u001b[38;5;124mf\u001b[39m\u001b[38;5;124m\"\u001b[39m\u001b[38;5;124mprev is \u001b[39m\u001b[38;5;132;01m{\u001b[39;00mprev\u001b[38;5;241m.\u001b[39mkey\u001b[38;5;132;01m}\u001b[39;00m\u001b[38;5;124m\"\u001b[39m)\n\u001b[1;32m---> 42\u001b[0m     prev_first\u001b[38;5;241m.\u001b[39mnext \u001b[38;5;241m=\u001b[39m prev\n\u001b[0;32m     43\u001b[0m     prev_first \u001b[38;5;241m=\u001b[39m first\n\u001b[0;32m     44\u001b[0m     \u001b[38;5;28mprint\u001b[39m(\u001b[38;5;124mf\u001b[39m\u001b[38;5;124m\"\u001b[39m\u001b[38;5;124mfirst is \u001b[39m\u001b[38;5;132;01m{\u001b[39;00mfirst\u001b[38;5;132;01m}\u001b[39;00m\u001b[38;5;124m.key\u001b[39m\u001b[38;5;124m\"\u001b[39m)    \n",
      "\u001b[1;31mAttributeError\u001b[0m: 'NoneType' object has no attribute 'next'"
     ]
    }
   ],
   "source": [
    "# Reverse a Linked list in group of given size k\n",
    "\n",
    "# I/P: 1->2->3->4->5->6->7->8->NULL and k = 3\n",
    "# O/P: 3->2->1->6->5->4->8->7->NULL\n",
    "\n",
    "class Node:\n",
    "    def __init__(self, k):\n",
    "        self.key = k\n",
    "        self.next = None\n",
    "\n",
    "def printList(head):\n",
    "    curr = head\n",
    "    while curr != None:\n",
    "        print(curr.key, end=\" \")\n",
    "        curr = curr.next\n",
    "    print()\n",
    "\n",
    "def iteRevK(head,k):\n",
    "    curr = head\n",
    "    prev_first = head\n",
    "    first_pass = True\n",
    "\n",
    "    while curr!=None:\n",
    "\n",
    "        first = None\n",
    "        prev = None\n",
    "        count = 0\n",
    "\n",
    "        while curr and count<k:\n",
    "            front = curr.next\n",
    "            curr.next = prev\n",
    "            prev = curr\n",
    "            curr = front\n",
    "            count+=1\n",
    "        \n",
    "        if first_pass:\n",
    "            print(f\"prev is {prev.key}\")\n",
    "            head = prev\n",
    "            first_pass = False\n",
    "        else:\n",
    "            print(f\"prev is {prev.key}\")\n",
    "            prev_first.next = prev\n",
    "            prev_first = first\n",
    "            print(f\"first is {first}.key\")    \n",
    "    return head\n",
    "    \n",
    "        \n",
    "\n",
    "head = Node(10)\n",
    "head.next = Node(20)\n",
    "head.next.next = Node(30)\n",
    "head.next.next.next = Node(40)\n",
    "head.next.next.next.next = Node(50)\n",
    "head.next.next.next.next.next = Node(60)\n",
    "head.next.next.next.next.next.next = Node(70)\n",
    "head.next.next.next.next.next.next.next = Node(80)\n",
    "\n",
    "\n",
    "printList(head)\n",
    "\n",
    "head = iteRevK(head,3)\n",
    "\n",
    "printList(head)\n",
    "\n",
    "# Time complexity: O(n) , Space complexity: O(1)"
   ]
  },
  {
   "cell_type": "code",
   "execution_count": null,
   "metadata": {},
   "outputs": [],
   "source": []
  },
  {
   "cell_type": "code",
   "execution_count": 65,
   "metadata": {},
   "outputs": [],
   "source": [
    "def restoreMatrix(rowSum: List[int], colSum: List[int]) -> List[List[int]]:\n",
    "\n",
    "    n = len(rowSum)\n",
    "    m = len(colSum)\n",
    "\n",
    "    # create dummy matrix of 0 with n rows and m columns\n",
    "    dummy = [[0]*m for i in range(n)]\n",
    "    # print(dummy)\n",
    "\n",
    "    for i in range(n):\n",
    "        for j in range(m):\n",
    "            \n",
    "            x = min(rowSum[i], colSum[j])\n",
    "            # print(f\"i: {i}, j:{j}, row: {rowSum[i]}, col: {colSum[j]}, x: {x}\")\n",
    "            dummy[i][j] = x\n",
    "            rowSum[i] = rowSum[i]-x\n",
    "            colSum[j] = colSum[j]-x\n",
    "        # print(\"-\"*40)\n",
    "    \n",
    "    # for i in dummy:\n",
    "    #     print(i)\n",
    "\n",
    "\n",
    "    return dummy"
   ]
  },
  {
   "cell_type": "code",
   "execution_count": 66,
   "metadata": {},
   "outputs": [
    {
     "name": "stdout",
     "output_type": "stream",
     "text": [
      "i: 0, j:0, row: 5, col: 8, x: 5\n",
      "i: 0, j:1, row: 0, col: 6, x: 0\n",
      "i: 0, j:2, row: 0, col: 8, x: 0\n",
      "----------------------------------------\n",
      "i: 1, j:0, row: 7, col: 3, x: 3\n",
      "i: 1, j:1, row: 4, col: 6, x: 4\n",
      "i: 1, j:2, row: 0, col: 8, x: 0\n",
      "----------------------------------------\n",
      "i: 2, j:0, row: 10, col: 0, x: 0\n",
      "i: 2, j:1, row: 10, col: 2, x: 2\n",
      "i: 2, j:2, row: 8, col: 8, x: 8\n",
      "----------------------------------------\n",
      "[5, 0, 0]\n",
      "[3, 4, 0]\n",
      "[0, 2, 8]\n"
     ]
    }
   ],
   "source": [
    "rowSum = [5,7,10]\n",
    "colSum = [8,6,8]\n",
    "restoreMatrix(rowSum, colSum)"
   ]
  },
  {
   "cell_type": "code",
   "execution_count": 90,
   "metadata": {},
   "outputs": [],
   "source": [
    "def minEatingSpeed(arr: List[int], h: int) -> int:\n",
    "    import math\n",
    "    # arr.sort(reverse= True)\n",
    "    # print(arr)\n",
    "    maxi = max(arr)\n",
    "\n",
    "    mini = float('inf')\n",
    "\n",
    "    for i in range(maxi+1,0,-1):\n",
    "        summ = 0\n",
    "        for j in range(len(arr)):\n",
    "            summ+= math.ceil(arr[j]/i)\n",
    "        \n",
    "        if summ<=h:\n",
    "            # mini = min(mini, i)\n",
    "            return i\n",
    "\n",
    "\n",
    "    \n",
    "\n",
    "    return mini"
   ]
  },
  {
   "cell_type": "code",
   "execution_count": 94,
   "metadata": {},
   "outputs": [
    {
     "data": {
      "text/plain": [
       "31"
      ]
     },
     "execution_count": 94,
     "metadata": {},
     "output_type": "execute_result"
    }
   ],
   "source": [
    "# piles = [312884470]\n",
    "# h = 312884469\n",
    "\n",
    "piles = [30,11,23,4,20]\n",
    "h = 7\n",
    "\n",
    "\n",
    "# piles = [3,6,7,11]\n",
    "# h = 8\n",
    "\n",
    "minEatingSpeed(piles , h)"
   ]
  },
  {
   "cell_type": "code",
   "execution_count": 106,
   "metadata": {},
   "outputs": [
    {
     "name": "stdout",
     "output_type": "stream",
     "text": [
      "1\n",
      "True\n",
      "2\n",
      "True\n",
      "3\n",
      "True\n",
      "4\n",
      "False\n",
      "The maximum possible minimum distance is: 3\n"
     ]
    }
   ],
   "source": [
    "\n",
    "def canWePlace(stalls, dist, cows):\n",
    "    n = len(stalls)  # size of array\n",
    "    cntCows = 1  # no. of cows placed\n",
    "    last = stalls[0]  # position of last placed cow\n",
    "    for i in range(1, n):\n",
    "        if stalls[i] - last >= dist:\n",
    "            cntCows += 1  # place next cow\n",
    "            last = stalls[i]  # update the last location\n",
    "        if cntCows >= cows:\n",
    "            return True\n",
    "    return False\n",
    "\n",
    "def aggressiveCows(stalls, k):\n",
    "    n = len(stalls)  # size of array\n",
    "    stalls.sort()  # sort the stalls[]\n",
    "    limit = stalls[n - 1] - stalls[0]\n",
    "    for i in range(1, limit + 1):\n",
    "        print(i)\n",
    "        x = canWePlace(stalls, i, k)\n",
    "        print(x)\n",
    "        if not x:\n",
    "            return i - 1\n",
    "    return limit\n",
    "\n",
    "stalls = [0, 3, 4, 7, 10, 9]\n",
    "k = 4\n",
    "ans = aggressiveCows(stalls, k)\n",
    "print(\"The maximum possible minimum distance is:\", ans)"
   ]
  },
  {
   "cell_type": "code",
   "execution_count": 110,
   "metadata": {},
   "outputs": [],
   "source": [
    "def splitArray(nums: List[int],n: int, m: int) -> int:\n",
    "    \n",
    "\n",
    "    return"
   ]
  },
  {
   "cell_type": "code",
   "execution_count": 111,
   "metadata": {},
   "outputs": [],
   "source": [
    "n = 5\n",
    "m = 4\n",
    "arr =  [25, 46, 28, 49, 24]\n",
    "splitArray(arr , n, m)"
   ]
  },
  {
   "cell_type": "code",
   "execution_count": 125,
   "metadata": {},
   "outputs": [],
   "source": [
    "def buildMatrix(k: int, rowConditions: List[List[int]], colConditions: List[List[int]]) -> List[List[int]]:\n",
    "    \n",
    "    # Function to determine the topological order of elements based on given conditions\n",
    "    def order(conditions):\n",
    "        adj = [[] for _ in range(k + 1)]  # Adjacency list for the graph\n",
    "        deg = [0] * (k + 1)               # Degree of each node\n",
    "        # Our deg is of size k+1 because the nodes are 1-indexed\n",
    "        print()\n",
    "        print(f\"adjacency list: {adj}\")\n",
    "        print(f\"degree: {deg}\")\n",
    "\n",
    "        # Build the graph and compute the in-degrees\n",
    "        for u, v in conditions:\n",
    "            adj[u].append(v)\n",
    "            deg[v] += 1\n",
    "        print()\n",
    "        print(f\"adjacency list: {adj}\")\n",
    "        print(f\"degree: {deg}\")\n",
    "\n",
    "        # Initialize the list of nodes with no incoming edges (degree 0)\n",
    "        s = []\n",
    "        for u, d in enumerate(deg):\n",
    "            if u and d == 0:\n",
    "                s.append(u)\n",
    "        \n",
    "        # List to store the topological order\n",
    "        res = []\n",
    "        while s:\n",
    "            u = s.pop()\n",
    "            res.append(u)\n",
    "            for v in adj[u]:\n",
    "                deg[v] -= 1\n",
    "                if deg[v] == 0:\n",
    "                    s.append(v)\n",
    "\n",
    "        # If there are nodes with non-zero in-degrees, return an empty list (cycle detected)\n",
    "        if any(deg):\n",
    "            return []\n",
    "        return res\n",
    "\n",
    "    # Get the topological order for row conditions\n",
    "    row = order(rowConditions)\n",
    "    # Get the topological order for column conditions\n",
    "    print(\"*\"*40)\n",
    "    col = order(colConditions)\n",
    "    \n",
    "    # Create a dictionary to map each value to its column index\n",
    "    col = {x: i for i, x in enumerate(col)}\n",
    "    # Initialize the k x k result matrix with zeros\n",
    "    res = [[0] * k for _ in range(k)]\n",
    "    \n",
    "    # Place each element at its corresponding (row, column) position\n",
    "    for i, x in enumerate(row):\n",
    "        if x not in col:\n",
    "            break\n",
    "        j = col[x]\n",
    "        res[i][j] = x\n",
    "\n",
    "    # Check if any row is entirely zeros, indicating an invalid configuration\n",
    "    for r in res:\n",
    "        if not any(r):\n",
    "            return []\n",
    "    print(\"-\"*40)\n",
    "    # Return the constructed matrix\n",
    "    return res\n"
   ]
  },
  {
   "cell_type": "code",
   "execution_count": 126,
   "metadata": {},
   "outputs": [
    {
     "name": "stdout",
     "output_type": "stream",
     "text": [
      "\n",
      "adjacency list: [[], [], [], []]\n",
      "degree: [0, 0, 0, 0]\n",
      "\n",
      "adjacency list: [[], [2], [], [2]]\n",
      "degree: [0, 0, 2, 0]\n",
      "****************************************\n",
      "\n",
      "adjacency list: [[], [], [], []]\n",
      "degree: [0, 0, 0, 0]\n",
      "\n",
      "adjacency list: [[], [], [1], [2]]\n",
      "degree: [0, 1, 1, 0]\n",
      "----------------------------------------\n",
      "[[3, 0, 0], [0, 0, 1], [0, 2, 0]]\n"
     ]
    }
   ],
   "source": [
    "k = 3\n",
    "rowConditions = [[1,2],[3,2]]\n",
    "colConditions = [[2,1],[3,2]]\n",
    "\n",
    "print(buildMatrix(k, rowConditions, colConditions))"
   ]
  },
  {
   "cell_type": "code",
   "execution_count": 129,
   "metadata": {},
   "outputs": [
    {
     "name": "stdout",
     "output_type": "stream",
     "text": [
      "The number of subarrays with XOR k is: 4\n"
     ]
    }
   ],
   "source": [
    "def subarraysWithXorK(arr,k):\n",
    "    # cnt = 0\n",
    "\n",
    "    # for i in range(len(arr)):\n",
    "    #     xr = 0\n",
    "    #     for j in range(i,len(arr)):\n",
    "    #         xr = xr^arr[j]\n",
    "    #         if xr==k:\n",
    "    #             cnt+=1\n",
    "    \n",
    "    # return cnt\n",
    "\n",
    "    from collections import defaultdict\n",
    "    cnt = 0\n",
    "    mpp = defaultdict(int)\n",
    "    xr = 0\n",
    "    mpp[xr]=1\n",
    "    cnt = 0\n",
    "\n",
    "    for i in range(len(arr)):\n",
    "        xr = xr^arr[i]\n",
    "        x = xr^k\n",
    "        cnt += mpp[x]\n",
    "        mpp[xr] += 1\n",
    "    return cnt\n",
    "\n",
    "\n",
    "    \n",
    "\n",
    "if __name__ == \"__main__\":\n",
    "    a = [4, 2, 2, 6, 4]\n",
    "    k = 6\n",
    "    ans = subarraysWithXorK(a, k)\n",
    "    print(\"The number of subarrays with XOR k is:\", ans)"
   ]
  },
  {
   "cell_type": "code",
   "execution_count": 138,
   "metadata": {},
   "outputs": [
    {
     "name": "stdout",
     "output_type": "stream",
     "text": [
      "3\n"
     ]
    }
   ],
   "source": [
    "# arr = [1,2,3,4]\n",
    "arr = [1,2,3,4,5]\n",
    "\n",
    "n = len(arr)\n",
    "if len(arr)%2 == 0:\n",
    "    a = arr[(n//2)-1]\n",
    "    b = arr[(n//2)]\n",
    "    print((a+b)/2)\n",
    "else:\n",
    "    a = arr[(n//2)]\n",
    "    print(a)\n"
   ]
  },
  {
   "cell_type": "code",
   "execution_count": 183,
   "metadata": {},
   "outputs": [],
   "source": [
    "def findPeakGrid( arr: List[List[int]]) -> List[int]:\n",
    "    n = len(arr)\n",
    "    m = len(arr[0])\n",
    "\n",
    "    for i in range(len(arr)):\n",
    "        arr[i].insert(0,-1)\n",
    "        arr[i].append(-1)\n",
    "    buff = [-1 for i in range(m+2)]\n",
    "    arr.insert(0,buff)\n",
    "    arr.append(buff) # final arr\n",
    "\n",
    "    for i in arr:\n",
    "        print(i)\n",
    "    print()\n",
    "    n = len(arr)\n",
    "    m = len(arr[0])\n",
    "    lst =[]\n",
    "    for i in range(1,n-1):\n",
    "        for j in range(1,m-1):\n",
    "            # print(arr[i][j], end = \" \")\n",
    "            x = arr[i][j]\n",
    "            if x>arr[i][j+1] and x>arr[i][j-1] and x>arr[i+1][j] and arr[i-1][j]:\n",
    "                # print(arr[i][j])\n",
    "                print(f\"x is {x}, up is {arr[i-1][j]}, down is {arr[i+1][j]}, left is {arr[i][j-1]}, right is {arr[i][j+1]}\")\n",
    "                return [i-1,j-1]\n",
    "                \n",
    "\n",
    "\n",
    "\n",
    "    return -1"
   ]
  },
  {
   "cell_type": "code",
   "execution_count": 184,
   "metadata": {},
   "outputs": [
    {
     "name": "stdout",
     "output_type": "stream",
     "text": [
      "[-1, -1, -1, -1, -1, -1, -1]\n",
      "[-1, 10, 30, 40, 50, 20, -1]\n",
      "[-1, 1, 3, 2, 500, 4, -1]\n",
      "[-1, -1, -1, -1, -1, -1, -1]\n",
      "\n",
      "x is 3, up is 30, down is -1, left is 1, right is 2\n"
     ]
    },
    {
     "data": {
      "text/plain": [
       "[1, 1]"
      ]
     },
     "execution_count": 184,
     "metadata": {},
     "output_type": "execute_result"
    }
   ],
   "source": [
    "mat = [[1,4],[3,2]]\n",
    "mat = [[10,20,15],[21,30,14],[7,16,32]]\n",
    "mat = [[10,30,40,50,20],[1,3,2,500,4]]\n",
    "findPeakGrid(mat)"
   ]
  },
  {
   "cell_type": "code",
   "execution_count": null,
   "metadata": {},
   "outputs": [],
   "source": []
  }
 ],
 "metadata": {
  "kernelspec": {
   "display_name": "base",
   "language": "python",
   "name": "python3"
  },
  "language_info": {
   "codemirror_mode": {
    "name": "ipython",
    "version": 3
   },
   "file_extension": ".py",
   "mimetype": "text/x-python",
   "name": "python",
   "nbconvert_exporter": "python",
   "pygments_lexer": "ipython3",
   "version": "3.11.7"
  }
 },
 "nbformat": 4,
 "nbformat_minor": 2
}
