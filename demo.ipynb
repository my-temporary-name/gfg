{
 "cells": [
  {
   "cell_type": "code",
   "execution_count": 5,
   "metadata": {},
   "outputs": [],
   "source": [
    "def winner(n,k):\n",
    "    arr = [i for i in range(1,n+1)]\n",
    "    print(arr)\n",
    "    curr_ind = 0\n",
    "\n",
    "    while len(arr)!=1:\n",
    "        next_to_remove = (curr_ind+k-1)% len(arr)\n",
    "        arr.pop(next_to_remove)\n",
    "        curr_ind = next_to_remove\n",
    "    \n",
    "    return arr[0]"
   ]
  },
  {
   "cell_type": "code",
   "execution_count": 6,
   "metadata": {},
   "outputs": [
    {
     "name": "stdout",
     "output_type": "stream",
     "text": [
      "[1, 2, 3, 4, 5]\n"
     ]
    },
    {
     "data": {
      "text/plain": [
       "3"
      ]
     },
     "execution_count": 6,
     "metadata": {},
     "output_type": "execute_result"
    }
   ],
   "source": [
    "winner(5,2)"
   ]
  },
  {
   "cell_type": "code",
   "execution_count": 10,
   "metadata": {},
   "outputs": [],
   "source": [
    "from typing import List\n",
    "def findMin(arr: List[int]) -> int:\n",
    "    low = 0\n",
    "    high = len(arr)-1\n",
    "\n",
    "\n",
    "    ans = float(\"inf\")\n",
    "    while low<=high:\n",
    "        mid = (high+low)//2\n",
    "\n",
    "        # if arr[mid]==target:\n",
    "        #     return True\n",
    "        if arr[low]<=arr[high]:\n",
    "            ans = min(ans,arr[low])\n",
    "            break\n",
    "\n",
    "        if arr[low]<= arr[mid]: # if left part is sorted\n",
    "            ans = min(ans,arr[low])\n",
    "            low = mid+1\n",
    "        \n",
    "        else: # if right part is sorted\n",
    "            ans = min(ans , arr[mid])\n",
    "            high = mid-1 \n",
    "\n",
    "    return ans , arr.index(ans)"
   ]
  },
  {
   "cell_type": "code",
   "execution_count": 11,
   "metadata": {},
   "outputs": [
    {
     "name": "stdout",
     "output_type": "stream",
     "text": [
      "(2533, 4)\n"
     ]
    }
   ],
   "source": [
    "arr = [17285 ,22635 ,24436 ,32152 ,2533 ,9615]\n",
    "print(findMin(arr))"
   ]
  },
  {
   "cell_type": "code",
   "execution_count": 29,
   "metadata": {},
   "outputs": [],
   "source": [
    "from typing import List\n",
    "def averageWaitingTime(customers: List[List[int]]) -> float:\n",
    "    start = customers[0][0]\n",
    "    print(\"Start: \", start)\n",
    "    tw=0\n",
    "    le = start\n",
    "    n = len(customers)\n",
    "\n",
    "    i=0\n",
    "    while i<n:\n",
    "        total_time = le + customers[i][1]\n",
    "        waiting_time = total_time - customers[i][0]\n",
    "        print(\"waiting time: \", waiting_time)\n",
    "        tw += waiting_time\n",
    "        if i+1!=n and total_time >= customers[i+1][0]:\n",
    "            le = total_time\n",
    "        else:\n",
    "            if i+1 == n:\n",
    "                break\n",
    "            le = customers[i+1][0]\n",
    "        \n",
    "        i+=1\n",
    "\n",
    "    return tw/n"
   ]
  },
  {
   "cell_type": "code",
   "execution_count": 30,
   "metadata": {},
   "outputs": [
    {
     "name": "stdout",
     "output_type": "stream",
     "text": [
      "Start:  5\n",
      "waiting time:  2\n",
      "waiting time:  6\n",
      "waiting time:  4\n",
      "waiting time:  1\n",
      "3.25\n"
     ]
    }
   ],
   "source": [
    "# customers = [[1,2],[2,5],[4,3]]\n",
    "customers = [[5,2],[5,4],[10,3],[20,1]]\n",
    "print(averageWaitingTime(customers))"
   ]
  },
  {
   "cell_type": "code",
   "execution_count": null,
   "metadata": {},
   "outputs": [],
   "source": []
  }
 ],
 "metadata": {
  "kernelspec": {
   "display_name": "base",
   "language": "python",
   "name": "python3"
  },
  "language_info": {
   "codemirror_mode": {
    "name": "ipython",
    "version": 3
   },
   "file_extension": ".py",
   "mimetype": "text/x-python",
   "name": "python",
   "nbconvert_exporter": "python",
   "pygments_lexer": "ipython3",
   "version": "3.11.7"
  }
 },
 "nbformat": 4,
 "nbformat_minor": 2
}
