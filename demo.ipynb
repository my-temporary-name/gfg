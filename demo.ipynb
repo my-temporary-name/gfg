{
 "cells": [
  {
   "cell_type": "code",
   "execution_count": 5,
   "metadata": {},
   "outputs": [],
   "source": [
    "def winner(n,k):\n",
    "    arr = [i for i in range(1,n+1)]\n",
    "    print(arr)\n",
    "    curr_ind = 0\n",
    "\n",
    "    while len(arr)!=1:\n",
    "        next_to_remove = (curr_ind+k-1)% len(arr)\n",
    "        arr.pop(next_to_remove)\n",
    "        curr_ind = next_to_remove\n",
    "    \n",
    "    return arr[0]"
   ]
  },
  {
   "cell_type": "code",
   "execution_count": 6,
   "metadata": {},
   "outputs": [
    {
     "name": "stdout",
     "output_type": "stream",
     "text": [
      "[1, 2, 3, 4, 5]\n"
     ]
    },
    {
     "data": {
      "text/plain": [
       "3"
      ]
     },
     "execution_count": 6,
     "metadata": {},
     "output_type": "execute_result"
    }
   ],
   "source": [
    "winner(5,2)"
   ]
  },
  {
   "cell_type": "code",
   "execution_count": 10,
   "metadata": {},
   "outputs": [],
   "source": [
    "from typing import List\n",
    "def findMin(arr: List[int]) -> int:\n",
    "    low = 0\n",
    "    high = len(arr)-1\n",
    "\n",
    "\n",
    "    ans = float(\"inf\")\n",
    "    while low<=high:\n",
    "        mid = (high+low)//2\n",
    "\n",
    "        # if arr[mid]==target:\n",
    "        #     return True\n",
    "        if arr[low]<=arr[high]:\n",
    "            ans = min(ans,arr[low])\n",
    "            break\n",
    "\n",
    "        if arr[low]<= arr[mid]: # if left part is sorted\n",
    "            ans = min(ans,arr[low])\n",
    "            low = mid+1\n",
    "        \n",
    "        else: # if right part is sorted\n",
    "            ans = min(ans , arr[mid])\n",
    "            high = mid-1 \n",
    "\n",
    "    return ans , arr.index(ans)"
   ]
  },
  {
   "cell_type": "code",
   "execution_count": 11,
   "metadata": {},
   "outputs": [
    {
     "name": "stdout",
     "output_type": "stream",
     "text": [
      "(2533, 4)\n"
     ]
    }
   ],
   "source": [
    "arr = [17285 ,22635 ,24436 ,32152 ,2533 ,9615]\n",
    "print(findMin(arr))"
   ]
  },
  {
   "cell_type": "code",
   "execution_count": 29,
   "metadata": {},
   "outputs": [],
   "source": [
    "from typing import List\n",
    "def averageWaitingTime(customers: List[List[int]]) -> float:\n",
    "    start = customers[0][0]\n",
    "    print(\"Start: \", start)\n",
    "    tw=0\n",
    "    le = start\n",
    "    n = len(customers)\n",
    "\n",
    "    i=0\n",
    "    while i<n:\n",
    "        total_time = le + customers[i][1]\n",
    "        waiting_time = total_time - customers[i][0]\n",
    "        print(\"waiting time: \", waiting_time)\n",
    "        tw += waiting_time\n",
    "        if i+1!=n and total_time >= customers[i+1][0]:\n",
    "            le = total_time\n",
    "        else:\n",
    "            if i+1 == n:\n",
    "                break\n",
    "            le = customers[i+1][0]\n",
    "        \n",
    "        i+=1\n",
    "\n",
    "    return tw/n"
   ]
  },
  {
   "cell_type": "code",
   "execution_count": 30,
   "metadata": {},
   "outputs": [
    {
     "name": "stdout",
     "output_type": "stream",
     "text": [
      "Start:  5\n",
      "waiting time:  2\n",
      "waiting time:  6\n",
      "waiting time:  4\n",
      "waiting time:  1\n",
      "3.25\n"
     ]
    }
   ],
   "source": [
    "# customers = [[1,2],[2,5],[4,3]]\n",
    "customers = [[5,2],[5,4],[10,3],[20,1]]\n",
    "print(averageWaitingTime(customers))"
   ]
  },
  {
   "cell_type": "code",
   "execution_count": 13,
   "metadata": {},
   "outputs": [],
   "source": [
    "from typing import List\n",
    "def minOperations(arr: List[str]) -> int:\n",
    "    print(arr)\n",
    "    stack = []\n",
    "    n = len(arr)\n",
    "    i=0\n",
    "    for i in range(n):\n",
    "        print(arr[i])\n",
    "        if arr[i]==\"./\":\n",
    "            continue\n",
    "        else:\n",
    "            if arr[i]==\"../\" and len(stack)>=1:\n",
    "                stack.pop()\n",
    "            elif arr[i]==\"../\" and len(stack)==0:\n",
    "                continue\n",
    "            else:\n",
    "                x = arr[i][:-1]\n",
    "                stack.append(x)\n",
    "        print(\"stack: \",stack)\n",
    "    return len(stack)"
   ]
  },
  {
   "cell_type": "code",
   "execution_count": 14,
   "metadata": {},
   "outputs": [
    {
     "name": "stdout",
     "output_type": "stream",
     "text": [
      "['d1/', '../', '../', '../']\n",
      "d1/\n",
      "stack:  ['d1']\n",
      "../\n",
      "stack:  []\n",
      "../\n",
      "../\n"
     ]
    },
    {
     "data": {
      "text/plain": [
       "0"
      ]
     },
     "execution_count": 14,
     "metadata": {},
     "output_type": "execute_result"
    }
   ],
   "source": [
    "# logs = [\"d1/\",\"d2/\",\"./\",\"d3/\",\"../\",\"d31/\"]\n",
    "# logs = [\"d1/\",\"d2/\",\"../\",\"d21/\",\"./\"]\n",
    "logs = [\"d1/\",\"../\",\"../\",\"../\"]\n",
    "minOperations(logs)"
   ]
  },
  {
   "cell_type": "code",
   "execution_count": 67,
   "metadata": {},
   "outputs": [],
   "source": [
    "def revP(s):\n",
    "    print(s)\n",
    "    lst = []\n",
    "    n = 1\n",
    "    mx = float(\"-inf\")\n",
    "    for i in range(len(s)):\n",
    "        if s[i]==\"(\":\n",
    "            lst.append(n)\n",
    "            n+=1\n",
    "        elif s[i]==\")\":\n",
    "            n-=1\n",
    "            mx = max(mx,n)\n",
    "            lst.append(n)\n",
    "        else:\n",
    "            lst.append(s[i])\n",
    "    print(\"mx: \", mx)\n",
    "    if max == float(\"-inf\"):\n",
    "        return s\n",
    "    print(\"lst: \",lst)\n",
    "    print()\n",
    "    for i in range(mx,0,-1):\n",
    "        si = lst.index(i)\n",
    "        ei = lst[::-1].index(i)\n",
    "        ei = len(lst)-ei-1\n",
    "        lst[si:ei+1] = lst[ei-1:si:-1]\n",
    "        print( lst[ei-1:si:-1])\n",
    "        print(\"lst: \",lst)\n",
    "        # print(si,ei , i)\n",
    "\n",
    "    \n",
    "    # print(lst,mx, len(lst))\n",
    "    return \"\".join(lst)"
   ]
  },
  {
   "cell_type": "code",
   "execution_count": 70,
   "metadata": {},
   "outputs": [
    {
     "name": "stdout",
     "output_type": "stream",
     "text": [
      "ta()usw((((a))))\n",
      "mx:  4\n",
      "lst:  ['t', 'a', 1, 1, 'u', 's', 'w', 1, 2, 3, 4, 'a', 4, 3, 2, 1]\n",
      "\n",
      "[3]\n",
      "lst:  ['t', 'a', 1, 1, 'u', 's', 'w', 1, 2, 3, 'a', 3, 2, 1]\n",
      "[2]\n",
      "lst:  ['t', 'a', 1, 1, 'u', 's', 'w', 1, 2, 'a', 2, 1]\n",
      "[1]\n",
      "lst:  ['t', 'a', 1, 1, 'u', 's', 'w', 1, 'a', 1]\n",
      "[1, 'u', 's', 'w', 1]\n",
      "lst:  ['t', 'a', 'a', 1, 'w', 's', 'u', 1]\n"
     ]
    },
    {
     "ename": "TypeError",
     "evalue": "sequence item 3: expected str instance, int found",
     "output_type": "error",
     "traceback": [
      "\u001b[1;31m---------------------------------------------------------------------------\u001b[0m",
      "\u001b[1;31mTypeError\u001b[0m                                 Traceback (most recent call last)",
      "Cell \u001b[1;32mIn[70], line 5\u001b[0m\n\u001b[0;32m      1\u001b[0m \u001b[38;5;66;03m# s = \"(ed(et(oc))el)\"\u001b[39;00m\n\u001b[0;32m      2\u001b[0m \u001b[38;5;66;03m# s= \"(u(love)i)\"\u001b[39;00m\n\u001b[0;32m      3\u001b[0m \u001b[38;5;66;03m# s =  \"(abcd)\"\u001b[39;00m\n\u001b[0;32m      4\u001b[0m s \u001b[38;5;241m=\u001b[39m \u001b[38;5;124m\"\u001b[39m\u001b[38;5;124mta()usw((((a))))\u001b[39m\u001b[38;5;124m\"\u001b[39m\n\u001b[1;32m----> 5\u001b[0m revP(s)\n",
      "Cell \u001b[1;32mIn[67], line 32\u001b[0m, in \u001b[0;36mrevP\u001b[1;34m(s)\u001b[0m\n\u001b[0;32m     27\u001b[0m     \u001b[38;5;28mprint\u001b[39m(\u001b[38;5;124m\"\u001b[39m\u001b[38;5;124mlst: \u001b[39m\u001b[38;5;124m\"\u001b[39m,lst)\n\u001b[0;32m     28\u001b[0m     \u001b[38;5;66;03m# print(si,ei , i)\u001b[39;00m\n\u001b[0;32m     29\u001b[0m \n\u001b[0;32m     30\u001b[0m \n\u001b[0;32m     31\u001b[0m \u001b[38;5;66;03m# print(lst,mx, len(lst))\u001b[39;00m\n\u001b[1;32m---> 32\u001b[0m \u001b[38;5;28;01mreturn\u001b[39;00m \u001b[38;5;124m\"\u001b[39m\u001b[38;5;124m\"\u001b[39m\u001b[38;5;241m.\u001b[39mjoin(lst)\n",
      "\u001b[1;31mTypeError\u001b[0m: sequence item 3: expected str instance, int found"
     ]
    }
   ],
   "source": [
    "# s = \"(ed(et(oc))el)\"\n",
    "# s= \"(u(love)i)\"\n",
    "# s =  \"(abcd)\"\n",
    "s = \"ta()usw((((a))))\"\n",
    "revP(s)"
   ]
  },
  {
   "cell_type": "code",
   "execution_count": 105,
   "metadata": {},
   "outputs": [],
   "source": [
    "def rev_para(s):\n",
    "    # print(\"String: \",s)\n",
    "    stack = [\"\"]\n",
    "    st = \"\"\n",
    "    for i in range(len(s)):\n",
    "        if s[i] not in \"()\":\n",
    "            stack[-1]+=s[i]\n",
    "        elif s[i]==\"(\":\n",
    "            stack.append(\"\")\n",
    "        else:\n",
    "            rev = stack.pop()[::-1]\n",
    "            stack[-1] = stack[-1]+rev\n",
    "\n",
    "\n",
    "        # print(stack)\n",
    "        \n",
    "    return stack[0]"
   ]
  },
  {
   "cell_type": "code",
   "execution_count": 106,
   "metadata": {},
   "outputs": [
    {
     "data": {
      "text/plain": [
       "'leetcode'"
      ]
     },
     "execution_count": 106,
     "metadata": {},
     "output_type": "execute_result"
    }
   ],
   "source": [
    "s = \"(ed(et(oc))el)\"\n",
    "rev_para(s)"
   ]
  },
  {
   "cell_type": "code",
   "execution_count": 170,
   "metadata": {},
   "outputs": [],
   "source": [
    "from typing import List\n",
    "def minEatingSpeed(arr: List[int], h: int) -> int:\n",
    "    arr.sort(reverse= True)\n",
    "    print(arr)\n",
    "    mn = float('inf')\n",
    "    import math\n",
    "\n",
    "    for i in range(arr[0], arr[-1]-1, -1):\n",
    "        print(f\"k is {i}\")\n",
    "        time = 0\n",
    "        for j in range(len(arr)):\n",
    "            time += math.ceil(arr[j]/i)\n",
    "        print(\"time \", time)\n",
    "        print()\n",
    "        if time>h:\n",
    "            break\n",
    "        mn = min(i, mn)\n",
    "\n",
    "    return mn"
   ]
  },
  {
   "cell_type": "code",
   "execution_count": 169,
   "metadata": {},
   "outputs": [
    {
     "name": "stdout",
     "output_type": "stream",
     "text": [
      "[312884470]\n",
      "k is 312884470\n",
      "time  1\n",
      "\n",
      "312884470\n"
     ]
    }
   ],
   "source": [
    "# piles = [3,6,7,11]\n",
    "# h = 8\n",
    "piles = [312884470]\n",
    "h = 312884469\n",
    "print(minEatingSpeed(piles,h))"
   ]
  },
  {
   "cell_type": "code",
   "execution_count": 197,
   "metadata": {},
   "outputs": [],
   "source": [
    "from typing import List\n",
    "def smallestDivisor(arr: List[int], k: int) -> int:\n",
    "    if len(arr)>k:\n",
    "        return -1\n",
    "    import math\n",
    "    for i in range(1, max(arr)+1):\n",
    "        sums = 0\n",
    "        for j in range(len(arr)):\n",
    "            sums+= math.ceil(arr[j]/i)\n",
    "            # print(sum)\n",
    "        # print(f\"sum is {sums} and i is {i}\")\n",
    "\n",
    "        if sums<=k:\n",
    "            return i\n",
    "\n",
    "    return -1"
   ]
  },
  {
   "cell_type": "code",
   "execution_count": 198,
   "metadata": {},
   "outputs": [
    {
     "name": "stdout",
     "output_type": "stream",
     "text": [
      "44\n"
     ]
    }
   ],
   "source": [
    "# nums = [1,2,5,9]\n",
    "# threshold = 6\n",
    "\n",
    "nums = [44,22,33,11,1]\n",
    "threshold = 5\n",
    "print(smallestDivisor(nums,threshold))"
   ]
  },
  {
   "cell_type": "code",
   "execution_count": 229,
   "metadata": {},
   "outputs": [],
   "source": [
    "def findKthPositive(arr: List[int], k: int) -> int:\n",
    "    mx = max(arr)\n",
    "    lst = [i for i in range(1,mx+k+1)]\n",
    "    print(arr,\"\\n\" ,lst)\n",
    "\n",
    "    search = k\n",
    "    i=0\n",
    "    while search>0:\n",
    "        if lst[i] not in arr:\n",
    "            print(lst[i])\n",
    "            i+=1\n",
    "            search-=1\n",
    "            \n",
    "        else:\n",
    "            i+=1\n",
    "    return lst[i-1]"
   ]
  },
  {
   "cell_type": "code",
   "execution_count": 231,
   "metadata": {},
   "outputs": [
    {
     "name": "stdout",
     "output_type": "stream",
     "text": [
      "[1, 2, 3, 4] \n",
      " [1, 2, 3, 4, 5, 6]\n",
      "5\n",
      "6\n",
      "6\n"
     ]
    }
   ],
   "source": [
    "# arr = [2,3,4,7,11]\n",
    "# k = 5\n",
    "arr = [1,2,3,4]\n",
    "k = 2\n",
    "print(findKthPositive(arr,k))"
   ]
  },
  {
   "cell_type": "code",
   "execution_count": 251,
   "metadata": {},
   "outputs": [],
   "source": [
    "def rowWithMax1s(arr, n, m):\n",
    "    mx = -1\n",
    "    idx = -1\n",
    "    for i in range(n):\n",
    "        print(\"count of 1:\",arr[i].count(1))\n",
    "        if mx<arr[i].count(1):\n",
    "            idx=i\n",
    "            print(idx)\n",
    "        mx = max(mx,arr[i].count(1))\n",
    "        \n",
    "    return i-1"
   ]
  },
  {
   "cell_type": "code",
   "execution_count": 252,
   "metadata": {},
   "outputs": [
    {
     "name": "stdout",
     "output_type": "stream",
     "text": [
      "count of 1: 6\n",
      "0\n",
      "count of 1: 5\n",
      "count of 1: 5\n",
      "1\n"
     ]
    }
   ],
   "source": [
    "# n = 4\n",
    "# m = 4\n",
    "# # arr= [[0, 1, 1, 1],[0, 0, 1, 1],[1, 1, 1, 1],[0, 0, 0, 0]]\n",
    "# 3 9\n",
    "# 0 0 0 1 1 1 1 1 1 0 0 0 0 1 1 1 1 1 0 0 0 0 1 1 1 1 1\n",
    "n = 3\n",
    "m = 9\n",
    "arr = [[0, 0, 0, 1, 1, 1, 1, 1, 1],[0, 0, 0, 0, 1, 1, 1, 1, 1],[0, 0, 0, 0, 1, 1, 1, 1, 1]]\n",
    "\n",
    "print(rowWithMax1s(arr, n, m))"
   ]
  },
  {
   "cell_type": "code",
   "execution_count": 277,
   "metadata": {},
   "outputs": [],
   "source": [
    "def shipWithinDays(arr: List[int], days: int) -> int:\n",
    "\n",
    "    def dayss(arr, max_load):\n",
    "        days = 1\n",
    "        load = 0\n",
    "\n",
    "        for i in range(len(arr)):\n",
    "            load+=arr[i]\n",
    "            if load>max_load:\n",
    "                days+=1\n",
    "                load = arr[i]\n",
    "            else:\n",
    "                continue\n",
    "\n",
    "        return days\n",
    "    \n",
    "    \n",
    "    \n",
    "    maxi = max(arr)\n",
    "    summ = sum(arr)\n",
    "\n",
    "    for i in range(maxi , summ+1):\n",
    "        if dayss(arr,i)<=days:\n",
    "            return i\n",
    "    return -1\n",
    "\n",
    "            \n",
    "\n"
   ]
  },
  {
   "cell_type": "code",
   "execution_count": 278,
   "metadata": {},
   "outputs": [
    {
     "name": "stdout",
     "output_type": "stream",
     "text": [
      "15\n"
     ]
    }
   ],
   "source": [
    "weights = [1,2,3,4,5,6,7,8,9,10]\n",
    "days = 5\n",
    "print(shipWithinDays(weights,days))"
   ]
  },
  {
   "cell_type": "code",
   "execution_count": 284,
   "metadata": {},
   "outputs": [],
   "source": [
    "def searchMatrix(matrix: List[List[int]], target: int):\n",
    "    lst = []\n",
    "    for i in range(len(matrix)):\n",
    "        lst+=matrix[i]\n",
    "    if target in lst:\n",
    "        return True\n",
    "    return False"
   ]
  },
  {
   "cell_type": "code",
   "execution_count": 285,
   "metadata": {},
   "outputs": [
    {
     "name": "stdout",
     "output_type": "stream",
     "text": [
      "True\n"
     ]
    }
   ],
   "source": [
    "matrix = [[1,3,5,7],[10,11,16,20],[23,30,34,60]]\n",
    "target = 3\n",
    "print(searchMatrix(matrix, target))"
   ]
  },
  {
   "cell_type": "code",
   "execution_count": null,
   "metadata": {},
   "outputs": [],
   "source": [
    "Gemma2ForCausalLM\n",
    "(\n",
    "  (model): Gemma2Model(\n",
    "      \n",
    "    (embed_tokens): Embedding(256000, 3584, padding_idx=0)\n",
    "\n",
    "    (layers): ModuleList(\n",
    "\n",
    "      (0-41): 42 x Gemma2DecoderLayer(\n",
    "          \n",
    "        (self_attn): Gemma2SdpaAttention(\n",
    "          (q_proj): Linear(in_features=3584, out_features=4096, bias=False)\n",
    "          (k_proj): Linear(in_features=3584, out_features=2048, bias=False)\n",
    "          (v_proj): Linear(in_features=3584, out_features=2048, bias=False)\n",
    "          (o_proj): Linear(in_features=4096, out_features=3584, bias=False)\n",
    "          (rotary_emb): Gemma2RotaryEmbedding()\n",
    "        )\n",
    "\n",
    "        (mlp): Gemma2MLP(\n",
    "          (gate_proj): Linear(in_features=3584, out_features=14336, bias=False)\n",
    "          (up_proj): Linear(in_features=3584, out_features=14336, bias=False)\n",
    "          (down_proj): Linear(in_features=14336, out_features=3584, bias=False)\n",
    "          (act_fn): PytorchGELUTanh()\n",
    "        )\n",
    "        \n",
    "        (input_layernorm): Gemma2RMSNorm()\n",
    "        (post_attention_layernorm): Gemma2RMSNorm()\n",
    "        (pre_feedforward_layernorm): Gemma2RMSNorm()\n",
    "        (post_feedforward_layernorm): Gemma2RMSNorm()\n",
    "      )\n",
    "    )\n",
    "    (norm): Gemma2RMSNorm()\n",
    "  )\n",
    "  (lm_head): Linear(in_features=3584, out_features=256000, bias=False)\n",
    ")"
   ]
  },
  {
   "cell_type": "code",
   "execution_count": 307,
   "metadata": {},
   "outputs": [],
   "source": [
    "def max_score(s,x,y):\n",
    "    x_s = \"ab\"\n",
    "    y_s = \"ba\"\n",
    "    ct = 0\n",
    "    if y>x:\n",
    "        flag = True\n",
    "        while flag==True:\n",
    "            if y_s in s:\n",
    "                count = s.count(y_s)\n",
    "                ct= ct + y*count\n",
    "                s=s.replace(y_s,\"\")\n",
    "                \n",
    "\n",
    "            elif x_s in s:\n",
    "                count = s.count(x_s)\n",
    "                ct= ct + x*count\n",
    "                s=s.replace(x_s, \"\")\n",
    "            else:\n",
    "                flag=False\n",
    "            print(f\"ct is {ct} and new string is {s}\")\n",
    "    else:\n",
    "        flag = True\n",
    "        while flag==True:\n",
    "            if x_s in s:\n",
    "                count = s.count(x_s)\n",
    "                ct= ct + x*count\n",
    "                s=s.replace(x_s,\"\")\n",
    "\n",
    "            elif y_s in s:\n",
    "                count = s.count(y_s)\n",
    "                ct= ct + y*count\n",
    "                s=s.replace(y_s, \"\")\n",
    "            else:\n",
    "                flag=False\n",
    "\n",
    "\n",
    "\n",
    "\n",
    "    return ct"
   ]
  },
  {
   "cell_type": "code",
   "execution_count": 310,
   "metadata": {},
   "outputs": [],
   "source": [
    "def max_score(s,x,y):\n",
    "\n",
    "    def remove_str(s, first, second, point):\n",
    "        stack = []\n",
    "        ct = 0\n",
    "\n",
    "        for i in s:\n",
    "            if stack and stack[-1]==first and i==second:\n",
    "                stack.pop()\n",
    "                ct+=point\n",
    "            else:\n",
    "                stack.append(i)\n",
    "        remaining = \"\".join(stack)\n",
    "        return remaining , ct\n",
    "    \n",
    "\n",
    "    if x>=y:\n",
    "        s, points = remove_str(s,\"a\", \"b\",x)\n",
    "        s, additional_points = remove_str(s, \"b\", \"a\", y)\n",
    "        points+=additional_points\n",
    "    else:\n",
    "        s, points = remove_str(s, \"b\", \"a\", y)\n",
    "        s, additional_points = remove_str(s,\"a\", \"b\",x)\n",
    "        points+=additional_points\n",
    "\n",
    "\n",
    "    return points"
   ]
  },
  {
   "cell_type": "code",
   "execution_count": 312,
   "metadata": {},
   "outputs": [
    {
     "name": "stdout",
     "output_type": "stream",
     "text": [
      "String is cdbcbbaaabab , x is 4 , y is 5\n",
      "19\n"
     ]
    }
   ],
   "source": [
    "s = \"cdbcbbaaabab\"\n",
    "x = 4\n",
    "y = 5\n",
    "\n",
    "# s = \"aabbaaxybbaabb\"\n",
    "# x = 5\n",
    "# y = 4\n",
    "print(f\"String is {s} , x is {x} , y is {y}\")\n",
    "\n",
    "print(max_score(s,x,y))"
   ]
  },
  {
   "cell_type": "code",
   "execution_count": 299,
   "metadata": {},
   "outputs": [
    {
     "data": {
      "text/plain": [
       "2"
      ]
     },
     "execution_count": 299,
     "metadata": {},
     "output_type": "execute_result"
    }
   ],
   "source": [
    "s.count(\"ab\")"
   ]
  },
  {
   "cell_type": "code",
   "execution_count": 329,
   "metadata": {},
   "outputs": [],
   "source": [
    "def maxDistance(arr: List[int], k: int) -> int:\n",
    "    arr.sort()\n",
    "    print(f\"Distances are {arr}\")\n",
    "    lst = []\n",
    "    for i in range(len(arr)-1):\n",
    "        lst.append(arr[i+1]-arr[i])\n",
    "    \n",
    "    print(f\"distance difference {lst}\")\n",
    "    return max(lst)"
   ]
  },
  {
   "cell_type": "code",
   "execution_count": 330,
   "metadata": {},
   "outputs": [
    {
     "name": "stdout",
     "output_type": "stream",
     "text": [
      "Distances are [1, 2, 3, 4, 5, 1000000000]\n",
      "distance difference [1, 1, 1, 1, 999999995]\n",
      "999999995\n"
     ]
    }
   ],
   "source": [
    "# position = [1,2,3,4,7]\n",
    "# m = 3\n",
    "\n",
    "position = [5,4,3,2,1,1000000000]\n",
    "m = 2\n",
    "\n",
    "print(maxDistance(position, m))"
   ]
  },
  {
   "cell_type": "code",
   "execution_count": null,
   "metadata": {},
   "outputs": [],
   "source": []
  }
 ],
 "metadata": {
  "kernelspec": {
   "display_name": "base",
   "language": "python",
   "name": "python3"
  },
  "language_info": {
   "codemirror_mode": {
    "name": "ipython",
    "version": 3
   },
   "file_extension": ".py",
   "mimetype": "text/x-python",
   "name": "python",
   "nbconvert_exporter": "python",
   "pygments_lexer": "ipython3",
   "version": "3.11.7"
  }
 },
 "nbformat": 4,
 "nbformat_minor": 2
}
